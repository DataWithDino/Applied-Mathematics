{
 "cells": [
  {
   "cell_type": "code",
   "execution_count": 1,
   "id": "90ee9c18",
   "metadata": {},
   "outputs": [
    {
     "data": {
      "text/html": [
       "<script>\n",
       "    function code_toggle() {\n",
       "        if (code_shown){\n",
       "            $('div.input').hide('500');\n",
       "            $('#toggleButton').val('Show Code')\n",
       "        } else {\n",
       "            $('div.input').show('500');\n",
       "            $('#toggleButton').val('Hide Code')\n",
       "        }\n",
       "        code_shown = !code_shown\n",
       "    }\n",
       "\n",
       "    $(document).ready(function(){\n",
       "        code_shown = false;\n",
       "        $('div.input').hide()\n",
       "    });\n",
       "    </script>\n",
       "    <form action = \"javascript:code_toggle()\">\n",
       "    <input type = \"submit\" id = \"toggleButton\" value = \"Show Code\">\n",
       "    </form>"
      ],
      "text/plain": [
       "<IPython.core.display.HTML object>"
      ]
     },
     "execution_count": 1,
     "metadata": {},
     "output_type": "execute_result"
    }
   ],
   "source": [
    "from IPython.display import HTML # Versteckt Code auf Knopfdruck\n",
    "\n",
    "HTML('''<script>\n",
    "    function code_toggle() {\n",
    "        if (code_shown){\n",
    "            $('div.input').hide('500');\n",
    "            $('#toggleButton').val('Show Code')\n",
    "        } else {\n",
    "            $('div.input').show('500');\n",
    "            $('#toggleButton').val('Hide Code')\n",
    "        }\n",
    "        code_shown = !code_shown\n",
    "    }\n",
    "\n",
    "    $(document).ready(function(){\n",
    "        code_shown = false;\n",
    "        $('div.input').hide()\n",
    "    });\n",
    "    </script>\n",
    "    <form action = \"javascript:code_toggle()\">\n",
    "    <input type = \"submit\" id = \"toggleButton\" value = \"Show Code\">\n",
    "    </form>''')"
   ]
  },
  {
   "cell_type": "markdown",
   "id": "6b3f489f",
   "metadata": {},
   "source": [
    "# Christbaumschmuck\n",
    "\n",
    "\n",
    "- **Datum:** 22.04.2024\n",
    "- **Autor:** Phuong Anh Nguyen, Dino Dervisevic\n",
    "\n",
    "# Aufgabe\n",
    "Eine Glasmanufaktur stellt hochwertigen Christbaumschmuck aus Glas her und möchte in die Produktion für die Weihnachtssaison 2024 einsteigen. Die Firma benötigt Hilfe bei der Bestimmung des Materialaufwands für die Beschichtung des Glasschmucks in verschiedenen Formen.\n",
    "\n",
    "## Aufgabenstellung\n",
    "(1) Das beliebteste Set der Glaserei besteht aus zwei kleinen und zwei großen Kugeln\n",
    "(Durchmesser = 7cm und 10cm), zwei gleichgroßen Glocken (Breite 6cm, Höhe 9cm)\n",
    "und einer Christbaumspitze (Höhe 24cm, Breite 7cm). Es gibt drei Varianten des Sets,\n",
    "die jeweils mit einer Farbe grundiert und später von Hand bemalt werden. Die\n",
    "Grundierung gibt es in Silber, Gold und Rot. Ein weiteres Set ist mit einer Mischung\n",
    "aus den drei Farben grundiert, die für je ein Drittel der Höhe (Rot unten, Silber in der\n",
    "Mitte und Gold oben) aufgetragen werden. Berechnen Sie, wie viel Oberfläche mit den\n",
    "jeweiligen Farben beschichtet wird, wenn jeweils 2000 Sets hergestellt werden sollen.\n",
    "Treffen Sie für fehlende Informationen Annahmen. Ein Näherungswert ist für die\n",
    "Manufaktur ausreichend, um die richtigen Mengen der jeweiligen Farben einzukaufen.\n",
    "\n",
    "(2) Nächstes Weihnachten soll eine neue Serie von Kugeln in den Markt gehen, die\n",
    "günstiger angeboten werden als die handbemalten Stücke. Dafür soll eine goldene\n",
    "Linie auf die Objekte aufgesprüht werden. Die Linie wird von oben nach unten und\n",
    "dann in umgekehrter Reihenfolge aufgetragen und „umrundet“ die Kugel in jeder\n",
    "Richtung fünfmal. Bestimmen sie die ungefähre Länge der Linie für 2000 Kugel mit\n",
    "einem Durchmesser von 7 cm und visualisieren Sie mindestens ein Objekt.\n",
    "\n",
    "(3) Da Ihr Praktikum nur 6 Monate dauert, bittet Ihre Chefin Sie, die Funktionen in ein\n",
    "kleines Tool zu übertragen, das die Erzeugung und Visualisierung verschiedener\n",
    "runder Körper (Analog zu bspw. der Christbaumspitze oder der Glocke) ermöglicht,\n",
    "und die Oberfläche der erzeugten Körper bestimmt."
   ]
  },
  {
   "cell_type": "markdown",
   "id": "83d7cdc7",
   "metadata": {},
   "source": [
    "## Problemdefinition \n",
    "1. Wie groß ist die Oberfläche pro Farbe für das Weihnachstschmuck Set, wenn pro Farbevariante 2000 Stück grundiert werden sollen?\n",
    "2. Wie groß ist die Gesamtlänge der goldenen Spirallinie, welche die Kugeln jeweils 5 Mal in einer Richtung umrundet, wenn diese auf 2000 Kugeln aufgebracht werden soll?\n",
    "3. Tools zur Erzeugung, Visualisierung und Oberflächenberechnung verschiedener runder Körper.\n",
    "\n",
    "## Vorgaben\n",
    "**Set-Bestandteile**\n",
    "- 2 kleine Kugeln (variable: kugel klein)\n",
    "    + Durchmesser = 7 cm\n",
    "- 2 große Kugeln (variable: kugel groß)\n",
    "    + Durchmesser = 10 cm\n",
    "- 2 Glocken (variable: glocke)\n",
    "    + Breite = 6 cm\n",
    "    + Höhe   = 9 cm\n",
    "- 1 Christbaumspitze (variable: christbaumspitze)\n",
    "    + Breite = 7 cm\n",
    "    + Höhe   = 24 cm\n",
    "\n",
    "**Farbvarianten**\n",
    "- Silber, Gold, Rot (jeweils vollständig)\n",
    "- Mischung aus den drei Farben (je ein Drittel der Höhe)\n",
    "    + unten = rot\n",
    "    + mitte = silber\n",
    "    + oben = gold \n",
    "\n",
    "**Spirallinie**\n",
    "- Kugeln (variable: ugel mit Linie)\n",
    "    + Durchmesser = 7 cm\n",
    "- goldene Linie (variable: linie) umrundet Kugel in jeder Richtung 5 Mal (von oben nach unten und in umgekehrte Reihenfolge)\n",
    "\n",
    "**Stückzahlen**\n",
    "- 2000 Sets pro Farbvariante\n",
    "- 2000 Kugeln mit Spirallinie\n",
    "\n",
    "## Annahmen\n",
    "Da es genügt, einen Näherungswert der Oberfläche zu bestimmen und es zeitintensiv ist, die exakte Form der Glocke sowie der Christbaumspitze akkurat zu modellieren, werden die Glocke sowie die Christbaumspitze in kleinere Segmente zerlegt, um das Ergebnis zu approximieren. \n",
    "\n",
    "Die Glocke wird mithilfe eines Kegelstumpfes und eines Zylinders modelliert. \n",
    "- Kegelstumpf (variable: glocke kegelstumpf)\n",
    "    + Grundfläche Breite: 6 cm \n",
    "    + Deckfläche Breite: 4cm\n",
    "    + Höhe: 5 cm\n",
    "- Zylinder (variable: glocke zylinder)\n",
    "    + Breite: 4cm\n",
    "    + Höhe: 4 cm\n",
    "\n",
    "Die Christbaumspitze kann in zwei Zylinder, eine Kugel und einem Kegel zerlegt werden.\n",
    "- Zylinder (unten) (variable: christbaumspitze zylinder u)\n",
    "    + Breite: 2 cm\n",
    "    + Höhe: 3 cm  \n",
    "- Kugel (variable: christbaumspitze kugel)\n",
    "    + Durchmesser: 7 cm\n",
    "- Zylinder (mitte) (variable: christbaumspitze zylinder m)\n",
    "    + Breite: 2 cm\n",
    "    + Höhe: 1 cm  \n",
    "- Kegel (variable: christbaumspitze kegel)\n",
    "    + Boden Breite: 3 cm  \n",
    "    + Höhe: 13 cm \n",
    "\n",
    "## Gesucht\n",
    "(1) Berechnung der Oberfläche, die mit verschiedenen Farben beschichtet wird, für das beliebteste Set bestehend aus Kugeln, Glocken und einer Christbaumspitze in unterschiedlichen Farbvarianten.\n",
    "\n",
    "(2) Bestimmung der Länge einer goldenen Linie, die spiralförmig auf Kugeln aufgesprüht wird, sowie Visualisierung mindestens eines Objekts.\n",
    "\n",
    "(3) Erstellung eines Tools zur Erzeugung, Visualisierung und Oberflächenberechnung verschiedener runder Körper."
   ]
  },
  {
   "cell_type": "markdown",
   "id": "5f8ead41",
   "metadata": {},
   "source": [
    "# Lösungsansätze\n",
    "## Aufgabe 1: Oberflächenberechnung von Weihnachtssets unterschiedlicher Farbenvariationen\n",
    "1. Die Oberfläche der großen und kleinen Kugel mithilfe der Formel für die Kugel berechnen.\n",
    "2. Oberflächenberechnung der einzelnen Teilkomponenten, die die Gesamtkörper des restlichen Christbaumschmucks ergeben.\n",
    "3. Zusammensetzen der Gesamtkörper aus den Teilkomponenten mit Rücksicht auf Flächenverlust durch Überlagerung.\n",
    "    - die Glocke als Summe der Oberfläche des Kegelstumpfes und des Zylinders\n",
    "    - die Christbaumspitze als Summe der Oberfläche aus Zylinder, Kugel und Kegel\n",
    "4. Multiplizieren der Anzahl der Berechnung aller Oberflächen mit der Anzahl des Sets für jede Farbvariante\n",
    "\n",
    "### 1. Was verwenden wir, um das Problem zu lösen? \n",
    "\n",
    "**Verhältnis zwischen Durchmesser und Radius[1]**\n",
    "\n",
    "$r = \\frac{d}{2}$\n",
    "\n",
    "**Strahlensatz[2]**\n",
    "\n",
    "$\\frac{a}{x} = \\frac{a+ a'}{y}$\n",
    "\n",
    "\n",
    "**Formel für die Kugeloberfläche[3]**\n",
    "\n",
    "\n",
    "$A_{Kugel}=4 \\pi r^2 $\n",
    "\n",
    "\n",
    "**Formel für die Mantelfläche eines Kugelsegments[4]**\n",
    "\n",
    "$A_{\\text{Mantel Segment}} = 2 \\pi r_{Kugel} h_{Segment} $\n",
    "\n",
    "\n",
    "**Formel für die Zylinderfläche[5]**\n",
    "\n",
    "$A_{Mantel}=2\\pi rh$\n",
    "         \n",
    "$A_{Grundfläche} = A_{Deckfläche} =\\pi r^2$\n",
    "      \n",
    "$A_{Zylinder}=A_{Mantel}+A_{Grundfläche}+A_{Deckfläche}=2 \\pi rh + 2 \\pi r^2$\n",
    "\n",
    "\n",
    "**Formel für die Kegelfläche[6]**\n",
    "\n",
    "$l = \\sqrt{r^2+h^2}$\n",
    "\n",
    "$A_{Basis}= \\pi r^2$\n",
    "      \n",
    "$A_{Mantel} = \\pi rl$\n",
    "      \n",
    "$A_{gesamt}= A_{Basis} + A_{Mantel} = \\pi r^2 + \\pi rl$\n",
    "\n",
    "\n",
    "**Formel für die Kegelstumpffläche[7]**\n",
    "\n",
    "\n",
    "$l = \\sqrt{h^2 + (r_{\\text{Grundfläche}} - r_{\\text{Deckfläche}})^2}$\n",
    "\n",
    "$A_{\\text{Deckfläche}} = \\pi r_{\\text{Deckfläche}}^2$\n",
    "\n",
    "$A_{\\text{Grundfläche}} = \\pi r_{\\text{Grundfläche}}^2$\n",
    "\n",
    "$A_{\\text{Mantel}} = \\pi (r_{\\text{Grundfläche}} + r_{\\text{Deckfläche}}) l$"
   ]
  },
  {
   "cell_type": "markdown",
   "id": "ce35c928",
   "metadata": {},
   "source": [
    "### 2. Einsetzen der Problemstellung"
   ]
  },
  {
   "cell_type": "code",
   "execution_count": 2,
   "id": "9271c986",
   "metadata": {},
   "outputs": [],
   "source": [
    "## modules\n",
    "from enum import Enum\n",
    "import abc"
   ]
  },
  {
   "cell_type": "code",
   "execution_count": 3,
   "id": "bb67d071",
   "metadata": {},
   "outputs": [],
   "source": [
    "## specifications\n",
    "small_sphere_diameter = 7\n",
    "numbers_of_small_spheres = 2\n",
    "\n",
    "large_sphere_diameter = 10\n",
    "numbers_of_large_spheres = 2\n",
    "\n",
    "bell_height = 9\n",
    "bell_width = 6\n",
    "numbers_of_bell = 2\n",
    "\n",
    "star_height = 24\n",
    "star_width = 7\n",
    "numbers_of_star = 1\n",
    "\n",
    "numbers_of_sets = 2000\n",
    "coloring_percentage = (1/3)\n",
    "\n",
    "## assumptions\n",
    "bell_frustumOfCone_bottom_diameter = 6 \n",
    "bell_frustumOfCone_top_diameter = 4\n",
    "bell_frustumOfCone_height = 5\n",
    "\n",
    "bell_cylinder_diameter = 4\n",
    "bell_cylinder_height = 4\n",
    "\n",
    "star_cylinder_diameter = 2\n",
    "star_cylinder_bottom_height = 3\n",
    "star_cylinder_middle_height = 1\n",
    "\n",
    "star_sphere_diameter = 7\n",
    "\n",
    "star_cone_bottom_diameter = 3\n",
    "star_cone_height = 13"
   ]
  },
  {
   "cell_type": "code",
   "execution_count": 4,
   "id": "428c026e",
   "metadata": {},
   "outputs": [],
   "source": [
    "class Color(Enum):\n",
    "    RED = \"rot\"\n",
    "    GOLD = \"gold\"\n",
    "    SILVER = \"silver\"\n",
    "\n",
    "class BaseArea(Enum):\n",
    "    TOP = \"top\"\n",
    "    BOTTOM = \"bottom\"\n",
    "    BOTH = \"both\"\n",
    "\n",
    "### Helper classes & variables\n",
    "class Helper: \n",
    "    calculate_diameter_of_circle = lambda radius: 2 * radius\n",
    "    calculate_radius_of_circle = lambda diameter: diameter / 2\n",
    "    calculate_area_of_circle = lambda radius: pi * radius ** 2\n",
    "    calculate_circumference_of_circle = lambda radius: 2 * pi * radius\n",
    "\n",
    "    calculate_derivatives = lambda functions, variable: tuple(diff(f, variable).simplify_full() for f in functions)\n",
    "    calculate_integrate = lambda integrand, variable, lower_limit, upper_limit: integrate(integrand, (variable, lower_limit, upper_limit))\n",
    "      \n",
    "    @staticmethod\n",
    "    def print_value(object, value_name, value, unit=\"cm\"):\n",
    "        print(f\"{value_name} von {object} beträgt: {value.n():.2f} {unit}.\")\n",
    "\n",
    "    print_length = lambda object, value: Helper.print_value(object, \"Die Länge\", value)\n",
    "    print_radius = lambda object, value: Helper.print_value(object, \"Der Radius\", value)\n",
    "    print_height = lambda object, value: Helper.print_value(object, \"Die Höhe\", value)\n",
    "    print_slant_height = lambda object, value: Helper.print_value(object, \"Die Mantellinie\", value)\n",
    "            \n",
    "    print_surface_area = lambda object, value: Helper.print_value(object, \"Die Oberfläche\", value, \"cm\\u00B2\")\n",
    "    print_lateral_area = lambda object, value: Helper.print_value(object, \"Die Mantelfläche\", value, \"cm\\u00B2\")\n",
    "    print_overlapping_area = lambda object, value: Helper.print_value(object, \"Die Überlappungsfläche\", value, \"cm\\u00B2\")\n",
    "    print_total_surface_area = lambda object, value: Helper.print_value(object, \"Die Gesamtoberfläche\", value, \"cm\\u00B2\")\n",
    "\n",
    "class Figure(abc.ABC):\n",
    "    def __init__(self, height: float):\n",
    "        self.height = height\n",
    "        \n",
    "\n",
    "class ChristmasOrnament(Figure):\n",
    "    def __init__(self, quantity, height: float):\n",
    "        super().__init__(height)\n",
    "        self.quantity = quantity\n",
    "        self.colors = {Color.RED: 0, Color.GOLD: 0, Color.SILVER: 0}\n",
    "\n",
    "class Cylinder(Figure):\n",
    "    def __init__(self, radius, height):\n",
    "        super().__init__(height)\n",
    "        self.radius = radius\n",
    "\n",
    "    def base_area(self, base_area = BaseArea.TOP):\n",
    "        base_surface_area = Helper.calculate_area_of_circle(self.radius)\n",
    "        if base_area == BaseArea.TOP or base_area == BaseArea.BOTTOM:\n",
    "            return base_surface_area\n",
    "        else:\n",
    "            return 2 * base_surface_area\n",
    "\n",
    "    @property\n",
    "    def lateral_area(self):\n",
    "        return 2 * pi * self.radius * self.height\n",
    "\n",
    "\n",
    "    def surface_area(self, base_area = BaseArea.BOTH):\n",
    "        return self.lateral_area + self.base_area(base_area)\n",
    "\n",
    "class Cone(Figure):\n",
    "    def __init__(self, radius, height):\n",
    "        super().__init__(height)\n",
    "        self.radius = radius\n",
    "\n",
    "    @property\n",
    "    def slant_height(self):\n",
    "        return sqrt((self.radius ** 2) + (self.height ** 2))\n",
    "\n",
    "    @property\n",
    "    def base_area(self):\n",
    "        return Helper.calculate_area_of_circle(self.radius)\n",
    "\n",
    "    @property\n",
    "    def lateral_area(self):\n",
    "        return pi * self.radius * self.slant_height\n",
    "    \n",
    "    @property\n",
    "    def surface_area(self):\n",
    "        return self.base_area + self.lateral_area\n",
    "    \n",
    "    def find_radius_with_triangle_similarity(self, new_height):\n",
    "        cone_radius_new = var(\"cone_radius_new\")\n",
    "        cone_radius_new_solutions = solve(\n",
    "            (cone_radius_new / new_height == self.radius / self.height).subs(\n",
    "                new_height=new_height, \n",
    "                cone_radius_new=cone_radius_new\n",
    "            ), \n",
    "            cone_radius_new, solution_dict=True\n",
    "        )\n",
    "        \n",
    "        return cone_radius_new_solutions[0][cone_radius_new]\n",
    "\n",
    "class FrustumOfCone(Figure):\n",
    "    def __init__(self, bottom_radius, top_radius, height):\n",
    "        super().__init__(height)\n",
    "        self.bottom_radius = bottom_radius\n",
    "        self.top_radius = top_radius\n",
    "\n",
    "    @property\n",
    "    def slant_height(self):\n",
    "        return sqrt((self.bottom_radius - self.top_radius) ** 2 + self.height ** 2)\n",
    "    \n",
    "    def base_area(self, area_type):\n",
    "        if area_type == BaseArea.TOP:\n",
    "            return Helper.calculate_area_of_circle(self.top_radius)\n",
    "        elif area_type == BaseArea.BOTTOM:\n",
    "            return Helper.calculate_area_of_circle(self.bottom_radius)\n",
    "        else:\n",
    "            return Helper.calculate_area_of_circle(self.bottom_radius) + Helper.calculate_area_of_circle(self.top_radius)\n",
    "    \n",
    "    @property\n",
    "    def lateral_area(self):\n",
    "        return pi * (self.bottom_radius + self.top_radius) * self.slant_height\n",
    "    \n",
    "    def surface_area(self, base=BaseArea.BOTH):\n",
    "        return self.lateral_area + self.base_area(base)\n",
    "    \n",
    "    def find_radius_with_triangle_similarity(self, new_height):\n",
    "        r_bottom = self.bottom_radius\n",
    "        r_top_old = self.top_radius\n",
    "        h_old = self.height\n",
    "        \n",
    "        r_top_new = var(\"r_top_new\")\n",
    "        equation = ((r_top_new - r_top_old) / (r_bottom - r_top_old) == new_height / h_old)\n",
    "        \n",
    "        solution = solve(equation.subs(h_new=new_height, r_top_new=r_top_new), r_top_new, solution_dict=True)\n",
    "        \n",
    "        return [s[r_top_new].n() for s in solution if r_top_new in s][0]\n",
    "    \n",
    "class Sphere(ChristmasOrnament):\n",
    "    def __init__(self, radius, quantity):\n",
    "        super().__init__(quantity, radius * 2)\n",
    "        self.radius = radius\n",
    "\n",
    "    @property\n",
    "    def surface_area(self):\n",
    "        return 4 * pi * (self.radius ** 2) * self.quantity\n",
    "\n",
    "    calculate_segment_area = lambda self, height: 2 * pi * self.radius * height\n",
    "\n",
    "    calculate_coloring = lambda self, percentage: {color: self.surface_area * percentage for color in Color}\n",
    "\n",
    "    def calculate_arc_length(self, rotations):\n",
    "        variable = var('variable')\n",
    "\n",
    "        coordinates = self.cartesian_coordinates(rotations, variable)\n",
    "\n",
    "        derivatives = Helper.calculate_derivatives(coordinates, variable)\n",
    "\n",
    "        return self.integrate_arc_length(derivatives, variable)\n",
    "\n",
    "    def cartesian_coordinates(self, rotations, variable=\"t\"):\n",
    "        phi = variable\n",
    "        theta = rotations * 2 * variable\n",
    "\n",
    "        x = self.radius * sin(phi) * cos(theta)\n",
    "        y = self.radius * sin(phi) * sin(theta)\n",
    "        z = self.radius * cos(phi)\n",
    "\n",
    "        return (x, y, z)\n",
    "\n",
    "    def integrate_arc_length(self, derivatives, variable):\n",
    "        integrand_arc_length = sqrt(sum(derivative^2 for derivative in derivatives))\n",
    "        lower_limit = 0\n",
    "        upper_limit = 2*pi\n",
    "        return Helper.calculate_integrate(integrand_arc_length, variable, lower_limit, upper_limit)\n",
    "    \n",
    "    def visualized_sphere(self):\n",
    "        return sphere(center=(0, 0, 0), size=self.radius, color='blue', opacity=0.5)\n",
    "    \n",
    "    def visualized_spiral_line(self, rotations):\n",
    "        t = var('t')\n",
    "        return parametric_plot3d(self.cartesian_coordinates(rotations, t), (t, 0, 2*pi), plot_points=200, thickness=2, color=\"yellow\")\n",
    "    \n",
    "\n",
    "class Bell(ChristmasOrnament):\n",
    "    def __init__(self, frustum_of_cone, cylinder, quantity):\n",
    "        super().__init__(quantity, frustum_of_cone.height + cylinder.height)\n",
    "        self.frustum_of_cone = frustum_of_cone\n",
    "        self.cylinder = cylinder\n",
    "\n",
    "    @property\n",
    "    def surface_area(self):\n",
    "        return (self.frustum_of_cone.surface_area(BaseArea.BOTTOM) + self.cylinder.surface_area(BaseArea.TOP) ) * self.quantity\n",
    "    \n",
    "    def calculate_coloring(self, percentage):\n",
    "        new_height = self.height * percentage\n",
    "\n",
    "        top_radius_new = self.frustum_of_cone.find_radius_with_triangle_similarity(new_height)\n",
    "        frustum_of_cone_new = FrustumOfCone(self.frustum_of_cone.bottom_radius, top_radius_new, new_height)\n",
    "\n",
    "        red_surface_area = frustum_of_cone_new.surface_area(BaseArea.BOTTOM) * self.quantity\n",
    "        gold_surface_area = Cylinder(self.cylinder.radius, new_height).surface_area(BaseArea.TOP) * self.quantity\n",
    "        silver_surface_area = self.surface_area - (red_surface_area + gold_surface_area)\n",
    "\n",
    "        return {\n",
    "            Color.RED: red_surface_area,\n",
    "            Color.GOLD: gold_surface_area,\n",
    "            Color.SILVER: silver_surface_area \n",
    "        }\n",
    "\n",
    "class Star(ChristmasOrnament):\n",
    "    def __init__(self, cylinder_bottom, cylinder_middle, sphere, cone, quantity):\n",
    "        super().__init__(quantity, cylinder_bottom.height + cylinder_middle.height + sphere.radius * 2 + cone.height)\n",
    "        self.cylinder_bottom = cylinder_bottom\n",
    "        self.cylinder_middle = cylinder_middle\n",
    "        self.sphere = sphere\n",
    "        self.cone = cone\n",
    "\n",
    "    @property\n",
    "    def overlay_area_info(self):\n",
    "        return {\n",
    "            \"cylinder_bottom_sphere\": Cylinder(self.cylinder_bottom.radius, self.cylinder_bottom.height).base_area(BaseArea.TOP),\n",
    "            \"cylinder_middle_sphere\": Cylinder(self.cylinder_middle.radius, self.cylinder_middle.height).base_area(BaseArea.BOTTOM),\n",
    "            \"cylinder_middle_cone\": Cylinder(self.cylinder_middle.radius, self.cylinder_middle.height).base_area(BaseArea.TOP)\n",
    "        }\n",
    "\n",
    "    @property\n",
    "    def overlay_surface_area(self):\n",
    "        return sum(self.overlay_area_info.values())\n",
    "\n",
    "    @property\n",
    "    def surface_area(self):\n",
    "        return (\n",
    "            self.cylinder_bottom.surface_area(BaseArea.BOTTOM) + \n",
    "            self.cylinder_middle.lateral_area +\n",
    "            self.sphere.surface_area +\n",
    "            self.cone.surface_area -\n",
    "            self.overlay_surface_area\n",
    "        ) * self.quantity\n",
    "\n",
    "    def calculate_coloring(self, percentage):\n",
    "        new_height = self.height * percentage\n",
    "\n",
    "        cylinder_surface = self.cylinder_bottom.surface_area(BaseArea.BOTTOM)\n",
    "        sphere_segment_height = new_height - self.cylinder_bottom.height\n",
    "        sphere_segment_surface = self.sphere.calculate_segment_area(sphere_segment_height)\n",
    "\n",
    "        red_surface_area = (cylinder_surface + sphere_segment_surface - self.overlay_area_info[\"cylinder_bottom_sphere\"]) * self.quantity\n",
    "\n",
    "        cone_radius_new = var(\"cone_radius_new\")\n",
    "        cone_radius_new_solutions = solve(\n",
    "            (cone_radius_new / new_height == self.cone.radius / self.cone.height).subs(\n",
    "                new_height=new_height, \n",
    "                cone_radius_new=cone_radius_new\n",
    "            ), \n",
    "            cone_radius_new, solution_dict=True\n",
    "        )\n",
    "\n",
    "        cone_new = Cone(self.cone.find_radius_with_triangle_similarity(new_height), new_height)\n",
    "\n",
    "        gold_surface_area = cone_new.lateral_area * self.quantity\n",
    "\n",
    "        silver_surface_area = self.surface_area - (red_surface_area + gold_surface_area) * self.quantity\n",
    "\n",
    "        return {\n",
    "            Color.RED: red_surface_area * self.quantity,\n",
    "            Color.GOLD: gold_surface_area * self.quantity,\n",
    "            Color.SILVER: silver_surface_area * self.quantity\n",
    "        }\n",
    "\n",
    "class ColoringHelper:\n",
    "    def __init__(self, coloring_percent=(1/3)):\n",
    "        self.coloring_percent = coloring_percent\n",
    "\n",
    "    calculate_colors_with_sets_quantity = lambda self, colors, numbers_of_set= 1: {color: colors[color] * numbers_of_set for color in Color}\n",
    "\n",
    "    calculate_colors_of_monoton_set = lambda self, surface_area: {color: surface_area for color in Color}\n",
    "    \n",
    "    calculate_colors_of_monoton_set_total = lambda self, surface_area, numbers_of_set=1: self.calculate_colors_with_sets_quantity(self.calculate_colors_of_monoton_set(surface_area), numbers_of_set)\n",
    "\n",
    "    calculate_colors_of_mixed_colored_figure = lambda self, figure: {color: figure.calculate_coloring(self.coloring_percent).get(color, 0) for color in Color}\n",
    "        \n",
    "    calculate_colors_of_mixed_set = lambda self, figures: {color: sum(self.calculate_colors_of_mixed_colored_figure(figure).get(color, 0) for figure in figures) for color in Color}\n",
    "    \n",
    "    calculate_colors_of_mixed_set_total = lambda self, figures, numbers_of_set=1: self.calculate_colors_with_sets_quantity(self.calculate_colors_of_mixed_set(figures), numbers_of_set)\n",
    "    \n",
    "    def calulate_total_color(self, figures, numbers_of_set):\n",
    "        mixed_colors = self.calculate_colors_of_mixed_set(figures)\n",
    "        one_colors = self.calculate_colors_of_monoton_set(sum(figure.surface_area for figure in figures))\n",
    "\n",
    "        colors = {color: mixed_colors.get(color, 0) + one_colors.get(color, 0) for color in Color}        \n",
    "        return {color: self.calculate_colors_with_sets_quantity(colors, numbers_of_set)[color] for color in Color}\n",
    "\n",
    "    print_values = lambda self, colors, type_of_set: [self.print_value(f\"{type_of_set}\", colors, color) for color in Color]\n",
    "\n",
    "    @staticmethod\n",
    "    def print_value(figure, colors, color_name, unit=\"cm\"):\n",
    "        value = colors.get(color_name)\n",
    "        print(f\"Der {color_name.value}gefäbrte Anteil von {figure} beträgt: {value.n():.2f} {unit}\\u00B2.\")"
   ]
  },
  {
   "cell_type": "markdown",
   "id": "34f8d834",
   "metadata": {},
   "source": [
    "#### 2.1. Die Kugel"
   ]
  },
  {
   "attachments": {
    "sphere.png": {
     "image/png": "[encoded data removed]"
    }
   },
   "cell_type": "markdown",
   "id": "e65020ad",
   "metadata": {},
   "source": [
    "![sphere.png](attachment:sphere.png)"
   ]
  },
  {
   "cell_type": "markdown",
   "id": "3e9fecb7",
   "metadata": {},
   "source": [
    "Der Radius der kleinen Kugeln entspricht:\n",
    "\n",
    "$r_{klein} = \\frac{d_{klein}}{2} = \\frac{7}{2} = 3.5 \\text{cm}$"
   ]
  },
  {
   "cell_type": "code",
   "execution_count": 5,
   "id": "7f20f360",
   "metadata": {},
   "outputs": [
    {
     "name": "stdout",
     "output_type": "stream",
     "text": [
      "Der Radius von kleiner Kugel beträgt: 3.50 cm.\n"
     ]
    }
   ],
   "source": [
    "small_sphere = Sphere(Helper.calculate_radius_of_circle(small_sphere_diameter), 1)\n",
    "Helper.print_radius(\"kleiner Kugel\", small_sphere.radius)"
   ]
  },
  {
   "cell_type": "markdown",
   "id": "91b9599e",
   "metadata": {},
   "source": [
    "\n",
    "Der Radius der großen Kugeln entspricht: \n",
    "\n",
    "$r_{groß} = \\frac{d_{groß}}{2} = \\frac{10}{2}$\n"
   ]
  },
  {
   "cell_type": "code",
   "execution_count": 6,
   "id": "720fd272",
   "metadata": {},
   "outputs": [
    {
     "name": "stdout",
     "output_type": "stream",
     "text": [
      "Der Radius von großer Kugel beträgt: 5.00 cm.\n"
     ]
    }
   ],
   "source": [
    "large_sphere = Sphere(Helper.calculate_radius_of_circle(large_sphere_diameter), 1)\n",
    "Helper.print_radius(\"großer Kugel\", large_sphere.radius)"
   ]
  },
  {
   "cell_type": "markdown",
   "id": "6ff62d54",
   "metadata": {},
   "source": [
    "Einsetzen des Radius in die Formel für die Kugeloberfläche:\n",
    "\n",
    "$A_{klein} =4 \\pi r_{klein}^2 = 4 \\pi \\cdot 3.5 $\n",
    "\n",
    "$A_{groß} = 4 \\pi r_{groß}^2 = 4 \\pi \\cdot 5$"
   ]
  },
  {
   "cell_type": "code",
   "execution_count": 7,
   "id": "eeb36005",
   "metadata": {},
   "outputs": [
    {
     "name": "stdout",
     "output_type": "stream",
     "text": [
      "Die Oberfläche von kleiner Kugel beträgt: 153.94 cm².\n",
      "Die Oberfläche von großer Kugel beträgt: 314.16 cm².\n",
      "\n",
      "\n",
      "Für 2 Kugeln:\n",
      "Die Gesamtoberfläche von kleinen Kugeln insgesamt beträgt: 307.88 cm².\n",
      "Die Gesamtoberfläche von großen Kugeln insgesamt beträgt: 628.32 cm².\n"
     ]
    }
   ],
   "source": [
    "Helper.print_surface_area(\"kleiner Kugel\", small_sphere.surface_area)\n",
    "Helper.print_surface_area(\"großer Kugel\", large_sphere.surface_area)\n",
    "\n",
    "print(\"\\n\")    \n",
    "\n",
    "print(f\"Für {numbers_of_small_spheres} Kugeln:\")\n",
    "small_sphere.quantity = numbers_of_small_spheres\n",
    "large_sphere.quantity = numbers_of_large_spheres\n",
    "Helper.print_total_surface_area(\"kleinen Kugeln insgesamt\", small_sphere.surface_area)\n",
    "Helper.print_total_surface_area(\"großen Kugeln insgesamt\", large_sphere.surface_area)"
   ]
  },
  {
   "cell_type": "markdown",
   "id": "d15707c9",
   "metadata": {},
   "source": [
    "#### 2.2. Die Glocke\n",
    "Die Oberfläche der Glocke kann als Summe der Oberfläche des Kegelstumpfes und Zylinders angesehen werden, wobei die Deckfläche des Kegelstumpfes und die Grundfläche des Zylinders außer Acht gelassen werden müssen. Das liegt daran, dass diese Flächen innerhalb der Glocke und somit für die Lösung irrelevant sind.\n"
   ]
  },
  {
   "attachments": {
    "bell2.png": {
     "image/png": "[encoded data removed]"
    }
   },
   "cell_type": "markdown",
   "id": "1f55f89c",
   "metadata": {},
   "source": [
    "![bell2.png](attachment:bell2.png)"
   ]
  },
  {
   "cell_type": "markdown",
   "id": "5f489833",
   "metadata": {},
   "source": [
    "**Komponente: Kegelstumpf**\n",
    "\n",
    "Der Radius der Grundfläche und Deckfläche des Kegelstumpfes lauten:\n",
    "\n",
    "$r_{\\text{Grundfläche}} = \\frac{d_{\\text{Grundfläche}}}{2} = \\frac{6}{2}$\n",
    "\n",
    "$r_{\\text{Deckfläche}} = \\frac{d_{Deckfläche}}{2} = \\frac{4}{2}$"
   ]
  },
  {
   "cell_type": "code",
   "execution_count": 8,
   "id": "a52a5d38",
   "metadata": {},
   "outputs": [],
   "source": [
    "bell_frustum_of_cone = FrustumOfCone(\n",
    "    Helper.calculate_radius_of_circle(bell_frustumOfCone_bottom_diameter),\n",
    "    Helper.calculate_radius_of_circle(bell_frustumOfCone_top_diameter),\n",
    "    bell_frustumOfCone_height\n",
    ")"
   ]
  },
  {
   "cell_type": "code",
   "execution_count": 9,
   "id": "50536216",
   "metadata": {},
   "outputs": [
    {
     "name": "stdout",
     "output_type": "stream",
     "text": [
      "Der Radius von Glocke Kegelstumpf (Grundfläche) beträgt: 3.00 cm.\n",
      "Der Radius von Glocke Kegelstumpf (Deckfläche) beträgt: 2.00 cm.\n"
     ]
    }
   ],
   "source": [
    "Helper.print_radius(\"Glocke Kegelstumpf (Grundfläche)\", bell_frustum_of_cone.bottom_radius)\n",
    "Helper.print_radius(\"Glocke Kegelstumpf (Deckfläche)\", bell_frustum_of_cone.top_radius)"
   ]
  },
  {
   "cell_type": "markdown",
   "id": "ebe35a8a",
   "metadata": {},
   "source": [
    "Die Seitenhöhe des Kegelstumpfs ergibt sich dadurch:\n",
    "\n",
    "$l = \\sqrt{h^2 + (r_{\\text{Grundfläche}} - r_{\\text{Deckfläche}})^2} = \\sqrt{5^2 + (3 - 2)^2}$"
   ]
  },
  {
   "cell_type": "code",
   "execution_count": 10,
   "id": "cba57fdf",
   "metadata": {},
   "outputs": [
    {
     "name": "stdout",
     "output_type": "stream",
     "text": [
      "Die Mantellinie von Glocke Kegelstumpf beträgt: 5.10 cm.\n"
     ]
    }
   ],
   "source": [
    "Helper.print_slant_height(\"Glocke Kegelstumpf\", bell_frustum_of_cone.slant_height)"
   ]
  },
  {
   "cell_type": "markdown",
   "id": "ee29c1d3",
   "metadata": {},
   "source": [
    "Deshalb entspricht die Oberfläche der Kegelstumpf Komponente:\n",
    "\n",
    "$A_{\\text{Kegelstumpf gesucht}}=A_{\\text{Grundfläche}} + A_{\\text{Mantel}} =\\pi r_{\\text{Grundfläche}}^2+ \\pi (r_{\\text{Grundfläche}} + r_{\\text{Deckfläche}}) l =  \\pi \\cdot 3^2+ \\pi \\cdot (3 + 2) \\sqrt{5^2 + (3 - 2)^2}$"
   ]
  },
  {
   "cell_type": "code",
   "execution_count": 11,
   "id": "048572e5",
   "metadata": {},
   "outputs": [
    {
     "name": "stdout",
     "output_type": "stream",
     "text": [
      "Die Oberfläche von Glocke Kegelstumpf beträgt: 108.37 cm².\n"
     ]
    }
   ],
   "source": [
    "Helper.print_surface_area(\"Glocke Kegelstumpf\", bell_frustum_of_cone.surface_area(BaseArea.BOTTOM))"
   ]
  },
  {
   "cell_type": "markdown",
   "id": "13005731",
   "metadata": {},
   "source": [
    "**Komponente: Zylinder**\n",
    "\n",
    "Um die Deckfläche und die Mantelfläche des Zylinders zu berechnen, wird der Radius des Zylinders benötigt:\n",
    "\n",
    "$r_{\\text{Zylinder}} = \\frac{d_{\\text{Zylinder}}}{2} = \\frac{4}{2}$"
   ]
  },
  {
   "cell_type": "code",
   "execution_count": 12,
   "id": "f09c31f5",
   "metadata": {},
   "outputs": [],
   "source": [
    "bell_cylinder = Cylinder(Helper.calculate_radius_of_circle(bell_cylinder_diameter), bell_cylinder_height)"
   ]
  },
  {
   "cell_type": "code",
   "execution_count": 13,
   "id": "3eb82d0e",
   "metadata": {},
   "outputs": [
    {
     "name": "stdout",
     "output_type": "stream",
     "text": [
      "Der Radius von Glocke Zylinder beträgt: 2.00 cm.\n"
     ]
    }
   ],
   "source": [
    "Helper.print_radius(\"Glocke Zylinder\", bell_cylinder.radius)"
   ]
  },
  {
   "cell_type": "markdown",
   "id": "fec55fa2",
   "metadata": {},
   "source": [
    "Die Zylinderfläche basiert auf dem Radius: \n",
    "\n",
    "$A_{\\text{Zylinder gesucht}}= A_{\\text{Mantel}} + A_{\\text{Deckfläche}} = 2 \\pi rh + \\pi r^2 = 2 \\pi \\cdot 2 \\cdot 4 + \\pi \\cdot 2^2$"
   ]
  },
  {
   "cell_type": "code",
   "execution_count": 14,
   "id": "ffda1667",
   "metadata": {},
   "outputs": [
    {
     "name": "stdout",
     "output_type": "stream",
     "text": [
      "Die Oberfläche von Glocke Zylinder beträgt: 62.83 cm².\n"
     ]
    }
   ],
   "source": [
    "Helper.print_surface_area(\"Glocke Zylinder\", bell_cylinder.surface_area(BaseArea.TOP))"
   ]
  },
  {
   "cell_type": "markdown",
   "id": "1b1eae01",
   "metadata": {},
   "source": [
    "**Gesamtfläche**\n",
    "\n",
    "Die gesamte Oberfläche der Glocke setzt sich aus der Oberfläche des Kegelstumpfs und der Oberfläche des Zylinders zusammen:\n",
    "\n",
    "$A_{\\text{Glocke}} = A_{\\text{Kegelstumpf gesucht}} + A_{\\text{Zylinder gesucht}}$"
   ]
  },
  {
   "cell_type": "code",
   "execution_count": 15,
   "id": "2e900d01",
   "metadata": {},
   "outputs": [
    {
     "name": "stdout",
     "output_type": "stream",
     "text": [
      "Die Oberfläche von Glocken beträgt: 171.20 cm².\n",
      "\n",
      "\n",
      "Für 2 Glocken:\n",
      "Die Gesamtoberfläche von Glocken insgesamt beträgt: 342.40 cm².\n"
     ]
    }
   ],
   "source": [
    "bell = Bell(bell_frustum_of_cone, bell_cylinder, 1)\n",
    "Helper.print_surface_area(\"Glocken\", bell.surface_area)\n",
    "\n",
    "print(\"\\n\")    \n",
    "\n",
    "print(f\"Für {numbers_of_bell} Glocken:\")\n",
    "bell.quantity = numbers_of_bell\n",
    "Helper.print_total_surface_area(\"Glocken insgesamt\", bell.surface_area)"
   ]
  },
  {
   "cell_type": "markdown",
   "id": "a1760900",
   "metadata": {},
   "source": [
    "#### 2.3. Die Christbaumspitze \n",
    "Die Oberfläche der Christbaumspitze kann mithilfe der Oberfläche zweier Zylinder, einer Kugel und eines Kegels angenähert werden. Hierbei sind Überschneidungen zu berücksichtigen, welche vom Endergebnis abgezogen werden."
   ]
  },
  {
   "attachments": {
    "star.png": {
     "image/png": "[encoded data removed]"
    }
   },
   "cell_type": "markdown",
   "id": "03bc579a",
   "metadata": {},
   "source": [
    "![star.png](attachment:star.png)"
   ]
  },
  {
   "cell_type": "markdown",
   "id": "9f2e4647",
   "metadata": {},
   "source": [
    "**Komponente: Zylinder (beide)**\n",
    "\n",
    "Der erforderliche Radius des Zylinders lautet: \n",
    "\n",
    "$r_{\\text{Zylinder}} = \\frac{d_{\\text{Zylinder}}}{2} = \\frac{2}{2}=1  \\text{cm}$"
   ]
  },
  {
   "cell_type": "code",
   "execution_count": 16,
   "id": "97f3335f",
   "metadata": {},
   "outputs": [
    {
     "name": "stdout",
     "output_type": "stream",
     "text": [
      "Der Radius von Christbaumspitze unterer Zylinder beträgt: 1.00 cm.\n"
     ]
    }
   ],
   "source": [
    "star_cylinder_bottom = Cylinder(Helper.calculate_radius_of_circle(star_cylinder_diameter), star_cylinder_bottom_height)\n",
    "Helper.print_radius(\"Christbaumspitze unterer Zylinder\", star_cylinder_bottom.radius)"
   ]
  },
  {
   "cell_type": "markdown",
   "id": "dea7b7d5",
   "metadata": {},
   "source": [
    "**Komponente : Zylinder (unten)** \n",
    "\n",
    "Die Deckfläche des unteren Zylinders wird nicht berechnet, weil sie in der Kugel Komponente läge und somit nicht in die Grundierung einbezogen wird. Daher ergibt sich die Fläche des unteren Zylinders:\n",
    "\n",
    "$A_{\\text{Zylinder unten}}= A_{\\text{Mantel}} + A_{\\text{Grundfläche}} = 2 \\pi rh + \\pi r^2 = 2 \\pi \\cdot 1 \\cdot 3 + \\pi \\cdot 1^2$"
   ]
  },
  {
   "cell_type": "code",
   "execution_count": 17,
   "id": "ec399076",
   "metadata": {},
   "outputs": [
    {
     "name": "stdout",
     "output_type": "stream",
     "text": [
      "Die Oberfläche von Christbaumspitze unterer Zylinder beträgt: 21.99 cm².\n"
     ]
    }
   ],
   "source": [
    "Helper.print_surface_area(\"Christbaumspitze unterer Zylinder\", star_cylinder_bottom.surface_area(BaseArea.BOTTOM))"
   ]
  },
  {
   "cell_type": "markdown",
   "id": "6727a6ce",
   "metadata": {},
   "source": [
    "**Zylinder (mitte)** \n",
    "\n",
    "Ebenso wird ausschließlich die Mantelfläche des mittleren Zylinders benötigt:\n",
    "\n",
    "$A_{\\text{Zylinder mitte}}= A_{\\text{Mantel}} = 2 \\pi rh = 2 \\pi \\cdot 1 \\cdot 1$"
   ]
  },
  {
   "cell_type": "code",
   "execution_count": 18,
   "id": "124e038c",
   "metadata": {},
   "outputs": [
    {
     "name": "stdout",
     "output_type": "stream",
     "text": [
      "Die Mantelfläche von Christbaumspitze mittlerer Zylinder beträgt: 6.28 cm².\n"
     ]
    }
   ],
   "source": [
    "star_cylinder_middle = Cylinder(Helper.calculate_radius_of_circle(star_cylinder_diameter), star_cylinder_middle_height)\n",
    "Helper.print_lateral_area(\"Christbaumspitze mittlerer Zylinder\", star_cylinder_middle.lateral_area)"
   ]
  },
  {
   "cell_type": "markdown",
   "id": "cac9ab75",
   "metadata": {},
   "source": [
    "Folglich ergibt sich die gesuchte Zylinderfläche:\n",
    "\n",
    "$A_{\\text{Zylinder gesucht}} = A_{\\text{Zylinder unten}} + A_{\\text{Zylinder mitte}}$"
   ]
  },
  {
   "cell_type": "code",
   "execution_count": 19,
   "id": "0f22a41d",
   "metadata": {},
   "outputs": [
    {
     "name": "stdout",
     "output_type": "stream",
     "text": [
      "Die Oberfläche von des Zylinders beträgt: 28.27 cm².\n"
     ]
    }
   ],
   "source": [
    "Helper.print_surface_area(\"des Zylinders\", star_cylinder_bottom.surface_area(BaseArea.BOTTOM) + star_cylinder_middle.lateral_area)"
   ]
  },
  {
   "cell_type": "markdown",
   "id": "7e5092bc",
   "metadata": {},
   "source": [
    "**Komponente: Kegel**\n",
    "\n",
    "Für die Ermittlung der Kegeloberfläche sind der Radius sowie die Seitenhöhe von der Bedeutung. Nach dem Einsetzen ergibt sich:\n",
    "\n",
    "$r_{\\text{Kegel}} = \\frac{d_{\\text{Kegel}}}{2} = \\frac{3}{2}$"
   ]
  },
  {
   "cell_type": "code",
   "execution_count": 20,
   "id": "704715e4",
   "metadata": {},
   "outputs": [],
   "source": [
    "star_cone = Cone(Helper.calculate_radius_of_circle(star_cone_bottom_diameter), star_cone_height)"
   ]
  },
  {
   "cell_type": "code",
   "execution_count": 21,
   "id": "cfa64d99",
   "metadata": {},
   "outputs": [
    {
     "name": "stdout",
     "output_type": "stream",
     "text": [
      "Der Radius von Christbaumspitze Kegel beträgt: 1.50 cm.\n"
     ]
    }
   ],
   "source": [
    "Helper.print_radius(\"Christbaumspitze Kegel\", star_cone.radius)"
   ]
  },
  {
   "cell_type": "markdown",
   "id": "fc55d4bd",
   "metadata": {},
   "source": [
    "$l_{\\text{Kegel}} = \\sqrt{r_{\\text{Kegel}}^2+h_{\\text{Kegel}}^2} = \\sqrt{1.5^2 + 13^2}$"
   ]
  },
  {
   "cell_type": "code",
   "execution_count": 22,
   "id": "ab2897e9",
   "metadata": {},
   "outputs": [
    {
     "name": "stdout",
     "output_type": "stream",
     "text": [
      "Die Mantellinie von Christbaumspitze Kegel beträgt: 13.09 cm.\n"
     ]
    }
   ],
   "source": [
    "Helper.print_slant_height(\"Christbaumspitze Kegel\", star_cone.slant_height)"
   ]
  },
  {
   "cell_type": "markdown",
   "id": "11e9e416",
   "metadata": {},
   "source": [
    "Die Mantelfläche des Kegels beträgt somit:\n",
    "\n",
    "$A_{\\text{Kegel gesucht}} = A_{Basis} + A_{Mantel} = \\pi r_{Kegel}^2 + \\pi \\cdot r_{Kegel} \\cdot l_{Kegel} = \\pi \\cdot 1.5^2 + \\pi \\cdot 1.5 \\cdot 13.09$"
   ]
  },
  {
   "cell_type": "code",
   "execution_count": 23,
   "id": "607dfc77",
   "metadata": {},
   "outputs": [
    {
     "name": "stdout",
     "output_type": "stream",
     "text": [
      "Die Oberfläche von Christbaumspitze Kegel beträgt: 68.74 cm².\n"
     ]
    }
   ],
   "source": [
    "Helper.print_surface_area(\"Christbaumspitze Kegel\", star_cone.surface_area)"
   ]
  },
  {
   "cell_type": "markdown",
   "id": "de350f1d",
   "metadata": {},
   "source": [
    "**Komponente: Kugel**\n",
    "\n",
    "Der Radius der Kugel, welcher für die Kugeloberfläche relevant ist, lautet:\n",
    "\n",
    "$r_{\\text{Kugel}} =r_{2}= \\frac{d_{Kugel}}{2} = \\frac{7}{2}$\n"
   ]
  },
  {
   "cell_type": "code",
   "execution_count": 24,
   "id": "ae2ae55d",
   "metadata": {},
   "outputs": [],
   "source": [
    "star_sphere = Sphere(Helper.calculate_radius_of_circle(star_sphere_diameter), 1)"
   ]
  },
  {
   "cell_type": "code",
   "execution_count": 25,
   "id": "3051b261",
   "metadata": {},
   "outputs": [
    {
     "name": "stdout",
     "output_type": "stream",
     "text": [
      "Der Radius von Christbaumspitze Kugel beträgt: 3.50 cm.\n"
     ]
    }
   ],
   "source": [
    "Helper.print_radius(\"Christbaumspitze Kugel\", star_sphere.radius)"
   ]
  },
  {
   "cell_type": "markdown",
   "id": "39988e33",
   "metadata": {},
   "source": [
    "Somit beträgt die Kugeloberfläche: \n",
    "\n",
    "$A_{\\text{Kugel}}=4 \\pi r_{\\text{Kugel}}^2 = 4 \\pi \\cdot 3.5^2$"
   ]
  },
  {
   "cell_type": "code",
   "execution_count": 26,
   "id": "a4e9c3fa",
   "metadata": {},
   "outputs": [
    {
     "name": "stdout",
     "output_type": "stream",
     "text": [
      "Die Oberfläche von Christbaumspitze Kugel beträgt: 153.94 cm².\n"
     ]
    }
   ],
   "source": [
    "Helper.print_surface_area(\"Christbaumspitze Kugel\", star_sphere.surface_area)"
   ]
  },
  {
   "cell_type": "markdown",
   "id": "267c612b",
   "metadata": {},
   "source": [
    "**Gesamtfläche**\n",
    "\n",
    "Die gesamte Oberfläche der Christbaumspitze setzt sich aus den Oberflächen der beiden Zylinder, des Kegels und der Kugel zusammen. Dabei müssen die Überschneidungen vernachlässigt werden. Speziell bei der Kugel sind das die Schnittflächen mit der Deckfläche des unteren und der Grundfläche des mittleren Zylinders; also jeweils ein Kreis an den Polen der Kugel mit dem entsprechenden Radius der Zylinder. Für den Kegel ist die Vernachlässigung die Schnittfläche mit der Deckfläche des mittleren Zylinders.\n",
    "\n",
    "$$A_{\\text{Überlagerung}} = A_{\\text{Überlagerung Kugeloberfläche mit Zylinderdeckfläche}} + A_{\\text{Überlagerung Kugeloberfläche mit Zylindergrundfläche}} + A_{\\text{Überlagerung Kegeloberfläche mit Zylinderdeckfläche}}$$"
   ]
  },
  {
   "cell_type": "code",
   "execution_count": 27,
   "id": "793dabc6",
   "metadata": {},
   "outputs": [],
   "source": [
    "star = Star(star_cylinder_bottom, star_cylinder_middle, star_sphere, star_cone, numbers_of_star)"
   ]
  },
  {
   "cell_type": "code",
   "execution_count": 28,
   "id": "ea1d7913",
   "metadata": {},
   "outputs": [
    {
     "name": "stdout",
     "output_type": "stream",
     "text": [
      "Die Überlappungsfläche von Christbaumspitze beträgt: 9.42 cm².\n"
     ]
    }
   ],
   "source": [
    "Helper.print_overlapping_area(\"Christbaumspitze\", star.overlay_surface_area)"
   ]
  },
  {
   "cell_type": "markdown",
   "id": "031268be",
   "metadata": {},
   "source": [
    "Die Formel für die Aproximation der Oberfläche Christbaumspitze lautet:\n",
    "\n",
    "$A_{\\text{Christbaumspitze gesucht}} = A_{\\text{Zylinder}} + A_{\\text{Kugel}} + A_{\\text{Kegel}} - A_{\\text{Überlagerung}}$ "
   ]
  },
  {
   "cell_type": "code",
   "execution_count": 29,
   "id": "6764238b",
   "metadata": {},
   "outputs": [
    {
     "name": "stdout",
     "output_type": "stream",
     "text": [
      "Die Gesamtoberfläche von Christbaumspitze insgesamt beträgt: 241.52 cm².\n"
     ]
    }
   ],
   "source": [
    "Helper.print_total_surface_area(\"Christbaumspitze insgesamt\", star.surface_area)"
   ]
  },
  {
   "cell_type": "markdown",
   "id": "02b1d040",
   "metadata": {},
   "source": [
    "#### 2.4 Färbungsproblem\n",
    "Um die komplette Oberfläche für eine Farbe zu berechnen, wird die Berechnung unterteilt. Zuerst wird die Grundierung für die einfarbigen Sets berechnet und dann für das gemischte. \n",
    "\n",
    "**Einfarbiges Set**\n",
    "\n",
    "Für die Grundierung eines ganzen Sets mit jeweils einer Farbe wird die geforderte Anzahl mit der Gesamtenoberfläche des Sets multipliziert. Da es 2000 Sets in jeder Farbvariante gibt, lautet die Rechnung für alle drei Farben gleich: \n",
    "\n",
    "$A_{\\text{rot einfarbig}} = A_{\\text{gold einfarbig}} = A_{\\text{silber einfarbig}} = n_{\\text{Sets}} \\cdot A_{\\text{Set gesamt}}  = 2000 \\cdot A_{\\text{Set gesamt}}$\n"
   ]
  },
  {
   "cell_type": "code",
   "execution_count": 30,
   "id": "b89f74cf",
   "metadata": {},
   "outputs": [
    {
     "name": "stdout",
     "output_type": "stream",
     "text": [
      "Einfarbig:\n",
      "\n",
      "Für 2000 Sets:\n",
      "Der rotgefäbrte Anteil von den einfarbigen Sets beträgt: 3040242.20 cm².\n",
      "Der goldgefäbrte Anteil von den einfarbigen Sets beträgt: 3040242.20 cm².\n",
      "Der silvergefäbrte Anteil von den einfarbigen Sets beträgt: 3040242.20 cm².\n"
     ]
    }
   ],
   "source": [
    "coloring_helper = ColoringHelper()\n",
    "print(\"Einfarbig:\")\n",
    "print(f\"\\nFür {numbers_of_sets} Sets:\")\n",
    "colors = coloring_helper.calculate_colors_of_monoton_set_total(\n",
    "    small_sphere.surface_area  +\n",
    "    large_sphere.surface_area +\n",
    "    bell.surface_area +\n",
    "    star.surface_area)\n",
    "coloring_helper.print_value(\"den einfarbigen Sets\", coloring_helper.calculate_colors_with_sets_quantity(colors, numbers_of_sets), Color.RED)\n",
    "coloring_helper.print_value(\"den einfarbigen Sets\", coloring_helper.calculate_colors_with_sets_quantity(colors, numbers_of_sets), Color.GOLD)\n",
    "coloring_helper.print_value(\"den einfarbigen Sets\", coloring_helper.calculate_colors_with_sets_quantity(colors, numbers_of_sets), Color.SILVER)\n"
   ]
  },
  {
   "cell_type": "markdown",
   "id": "ebf4d514",
   "metadata": {},
   "source": [
    "**Gemischtes Set**\n",
    "\n",
    "Da der Farbanteil jeder Beschichtung immer ein Drittel beträgt, müssen die Körper jeweils in 3 Teile zerlegt werden.  \n",
    "\n",
    "**1. Die Kugel**\n",
    "\n",
    "Die Oberfläche des jeweiligen Farbanteils sind ungefähr gleich groß. Zur Annährung der Beschichtung der jeweiligen Farben genügt es, die Oberfläche der Kugel durch 3 zu dividieren. \n",
    "\n",
    "$$A_{\\text{rot Kugel}} = A_{\\text{gold Kugel}} = A_{\\text{silber Kugel}} = \\frac{A_{\\text{Kugel gesamt}}}{3}$$"
   ]
  },
  {
   "cell_type": "code",
   "execution_count": 31,
   "id": "09bd59ac",
   "metadata": {},
   "outputs": [
    {
     "name": "stdout",
     "output_type": "stream",
     "text": [
      "\n",
      "Mehrfarbig:\n",
      "Kleine Kugel:\n",
      "Der rotgefäbrte Anteil von der kleinen Kugel beträgt: 51.31 cm².\n",
      "Der goldgefäbrte Anteil von der kleinen Kugel beträgt: 51.31 cm².\n",
      "Der silvergefäbrte Anteil von der kleinen Kugel beträgt: 51.31 cm².\n",
      "\n",
      "\n",
      "Für 2 kleine Kugeln:\n",
      "Der rotgefäbrte Anteil von der kleinen Kugel beträgt: 102.63 cm².\n",
      "Der goldgefäbrte Anteil von der kleinen Kugel beträgt: 102.63 cm².\n",
      "Der silvergefäbrte Anteil von der kleinen Kugel beträgt: 102.63 cm².\n",
      "\n",
      "Große Kugel:\n",
      "Der rotgefäbrte Anteil von der großen Kugel beträgt: 104.72 cm².\n",
      "Der goldgefäbrte Anteil von der großen Kugel beträgt: 104.72 cm².\n",
      "Der silvergefäbrte Anteil von der großen Kugel beträgt: 104.72 cm².\n",
      "\n",
      "\n",
      "Für 2 große Kugeln:\n",
      "Der rotgefäbrte Anteil von der großen Kugel beträgt: 209.44 cm².\n",
      "Der goldgefäbrte Anteil von der großen Kugel beträgt: 209.44 cm².\n",
      "Der silvergefäbrte Anteil von der großen Kugel beträgt: 209.44 cm².\n"
     ]
    }
   ],
   "source": [
    "print(\"\\nMehrfarbig:\")\n",
    "print(\"Kleine Kugel:\")\n",
    "small_sphere.quantity = 1\n",
    "large_sphere.quantity = 1\n",
    "\n",
    "colors = coloring_helper.calculate_colors_of_mixed_colored_figure(small_sphere)\n",
    "coloring_helper.print_value(\"der kleinen Kugel\", coloring_helper.calculate_colors_with_sets_quantity(colors), Color.RED)\n",
    "coloring_helper.print_value(\"der kleinen Kugel\", coloring_helper.calculate_colors_with_sets_quantity(colors), Color.GOLD)\n",
    "coloring_helper.print_value(\"der kleinen Kugel\", coloring_helper.calculate_colors_with_sets_quantity(colors), Color.SILVER)\n",
    "\n",
    "print(\"\\n\")    \n",
    "print(f\"Für {numbers_of_small_spheres} kleine Kugeln:\")\n",
    "small_sphere.quantity = numbers_of_small_spheres\n",
    "\n",
    "colors = coloring_helper.calculate_colors_of_mixed_colored_figure(small_sphere)\n",
    "coloring_helper.print_value(\"der kleinen Kugel\", coloring_helper.calculate_colors_with_sets_quantity(colors), Color.RED)\n",
    "coloring_helper.print_value(\"der kleinen Kugel\", coloring_helper.calculate_colors_with_sets_quantity(colors), Color.GOLD)\n",
    "coloring_helper.print_value(\"der kleinen Kugel\", coloring_helper.calculate_colors_with_sets_quantity(colors), Color.SILVER)\n",
    "\n",
    "print(\"\\nGroße Kugel:\")\n",
    "\n",
    "colors = coloring_helper.calculate_colors_of_mixed_colored_figure(large_sphere)\n",
    "coloring_helper.print_value(\"der großen Kugel\", coloring_helper.calculate_colors_with_sets_quantity(colors), Color.RED)\n",
    "coloring_helper.print_value(\"der großen Kugel\", coloring_helper.calculate_colors_with_sets_quantity(colors), Color.GOLD)\n",
    "coloring_helper.print_value(\"der großen Kugel\", coloring_helper.calculate_colors_with_sets_quantity(colors), Color.SILVER)\n",
    "\n",
    "print(\"\\n\")    \n",
    "print(f\"Für {numbers_of_large_spheres} große Kugeln:\")\n",
    "large_sphere.quantity = numbers_of_large_spheres\n",
    "\n",
    "colors = coloring_helper.calculate_colors_of_mixed_colored_figure(large_sphere)\n",
    "coloring_helper.print_value(\"der großen Kugel\", coloring_helper.calculate_colors_with_sets_quantity(colors), Color.RED)\n",
    "coloring_helper.print_value(\"der großen Kugel\", coloring_helper.calculate_colors_with_sets_quantity(colors), Color.GOLD)\n",
    "coloring_helper.print_value(\"der großen Kugel\", coloring_helper.calculate_colors_with_sets_quantity(colors), Color.SILVER)"
   ]
  },
  {
   "cell_type": "markdown",
   "id": "a30ca2a4",
   "metadata": {},
   "source": [
    "**2. Die Glocke**\n",
    "\n",
    "Die Glocke ist 9 cm groß und somit beträgt die Höhe der jeweiligen Beschichtung:\n",
    "\n",
    "$h_{rot}=h_{gold}=h_{silber}= \\frac{9}{3}$"
   ]
  },
  {
   "cell_type": "code",
   "execution_count": 32,
   "id": "3c748e3a",
   "metadata": {},
   "outputs": [
    {
     "name": "stdout",
     "output_type": "stream",
     "text": [
      "Die Höhe von Beschichtung beträgt: 3.00 cm.\n"
     ]
    }
   ],
   "source": [
    "bell_height_coloring = bell.height*coloring_percentage\n",
    "Helper.print_height(\"Beschichtung\", bell_height_coloring)"
   ]
  },
  {
   "cell_type": "markdown",
   "id": "ec9fe792",
   "metadata": {},
   "source": [
    "Nach unserer Annahme besteht die Glocke aus einem Kegelstumpf mit der Höhe von 5 cm und einem Zylinder mit der Höhe von 4 cm. Für die Approximation bedeutet das, dass der untere Anteil 3 cm Höhe des Kegelstumpfes rot eingefärbt wird. Der mittlere Teil mit der silbernen Grundierung geht von dem restlichen Teil des Kegelstumpfes (2 cm) bis zu Anfang des Zylinders (1 cm). Die restlichen 3 cm des Zylinders werden gold bemalt. \n",
    "\n",
    "**Roter Anteil**\n",
    "\n",
    "Der Anteil der Oberfläche des rotgefärbten Kegelstumpfes benötigt den neuen Radius der Deckfläche, da der ursprüngliche Kegelstumpf bei der Höhe von 3 cm unterteilt wird. Dabei ist das Verhältnis der Höhendifferenzen proportional zum Verhältnis der Diffenzen der Radien:\n",
    "\n",
    "$\\frac{h_{neu}}{h_{alt}} = \\frac{r_{\\text{neu}}-r_{\\text{oben alt}}}{r_{unten}-r_{\\text{oben alt}}}$"
   ]
  },
  {
   "cell_type": "code",
   "execution_count": 33,
   "id": "f8f8bfa1",
   "metadata": {},
   "outputs": [
    {
     "name": "stdout",
     "output_type": "stream",
     "text": [
      "Der Radius von Glocke Kegelstumpf (Deckfläche) beträgt: 2.60 cm.\n"
     ]
    }
   ],
   "source": [
    "Helper.print_radius(\"Glocke Kegelstumpf (Deckfläche)\", bell.frustum_of_cone.find_radius_with_triangle_similarity(bell_height_coloring))"
   ]
  },
  {
   "cell_type": "markdown",
   "id": "5252b76e",
   "metadata": {},
   "source": [
    "\n",
    "Mit dem ermitteltem Radius kann die gesuchte Oberfläche des Kegelstumpfes (ohne die Deckfläche) und somit die rotbemalte Oberfläche berechnet werden: \n",
    "\n",
    "$A_{\\text{rot Glocke}} = A_{\\text{Kegelstumpf gesucht}}=A_{\\text{Grundfläche}} + A_{\\text{Mantel}} =\\pi r_{\\text{Grundfläche}}^2+ \\pi (r_{\\text{Grundfläche}} + r_{\\text{Deckfläche}}) l =  \\pi \\cdot 3^2+ \\pi \\cdot (3 + 2.60) \\sqrt{3^2 + (3 - 2.60)^2}$"
   ]
  },
  {
   "cell_type": "code",
   "execution_count": 34,
   "id": "02265aac",
   "metadata": {},
   "outputs": [
    {
     "name": "stdout",
     "output_type": "stream",
     "text": [
      "Der rotgefäbrte Anteil von der Glocke beträgt: 81.52 cm².\n"
     ]
    }
   ],
   "source": [
    "bell.quantity = 1\n",
    "\n",
    "colors = coloring_helper.calculate_colors_of_mixed_colored_figure(bell)\n",
    "coloring_helper.print_value(\"der Glocke\", coloring_helper.calculate_colors_with_sets_quantity(colors), Color.RED)"
   ]
  },
  {
   "cell_type": "markdown",
   "id": "6e340b0b",
   "metadata": {},
   "source": [
    "**Goldener Anteil**\n",
    "\n",
    "Da die oberen 3 cm des Zylinders gold bemalt sind, kann in die schon verwendete Formel für die Zylinderfläche die geänderte Höhe eingesetzt werden. Der Radius bleibt unverändert:\n",
    "\n",
    "$A_{\\text{gold Glocke}} = A_{\\text{Zylinder gesucht}}= A_{\\text{Mantel}} + A_{\\text{Deckfläche}} = 2 \\pi rh + \\pi r^2 = 2 \\pi \\cdot 2 \\cdot 4 + \\pi \\cdot 2^2$"
   ]
  },
  {
   "cell_type": "code",
   "execution_count": 35,
   "id": "4da547ac",
   "metadata": {},
   "outputs": [
    {
     "name": "stdout",
     "output_type": "stream",
     "text": [
      "Der goldgefäbrte Anteil von der Glocke beträgt: 50.27 cm².\n"
     ]
    }
   ],
   "source": [
    "coloring_helper.print_value(\"der Glocke\", coloring_helper.calculate_colors_with_sets_quantity(colors), Color.GOLD)"
   ]
  },
  {
   "cell_type": "markdown",
   "id": "ab2df0fb",
   "metadata": {},
   "source": [
    "**Silberner Anteil**\n",
    "\n",
    "Die nun gesuchte Oberfläche ergibt sich durch die Subtraktion der bereits ermittelten Teiloberflächen roter und goldener Grundierung von der kompletten Glockenfläche.\n",
    "\n",
    "$A_{\\text{silber Glocke}} =  A_{\\text{Glocke gesamt}} - A_{\\text{rot Glocke}} - A_{\\text{gold Glocke}}$"
   ]
  },
  {
   "cell_type": "code",
   "execution_count": 36,
   "id": "2d406e6f",
   "metadata": {},
   "outputs": [
    {
     "name": "stdout",
     "output_type": "stream",
     "text": [
      "Der silvergefäbrte Anteil von der Glocke beträgt: 39.42 cm².\n"
     ]
    }
   ],
   "source": [
    "coloring_helper.print_value(\"der Glocke\", coloring_helper.calculate_colors_with_sets_quantity(colors), Color.SILVER)"
   ]
  },
  {
   "cell_type": "markdown",
   "id": "1ed6ad14",
   "metadata": {},
   "source": [
    "Für 2 Glocken:"
   ]
  },
  {
   "cell_type": "code",
   "execution_count": 37,
   "id": "45557eba",
   "metadata": {},
   "outputs": [
    {
     "name": "stdout",
     "output_type": "stream",
     "text": [
      "Der rotgefäbrte Anteil von der Glocke beträgt: 163.04 cm².\n",
      "Der goldgefäbrte Anteil von der Glocke beträgt: 100.53 cm².\n",
      "Der silvergefäbrte Anteil von der Glocke beträgt: 78.83 cm².\n"
     ]
    }
   ],
   "source": [
    "bell.quantity = numbers_of_bell\n",
    "\n",
    "colors = coloring_helper.calculate_colors_of_mixed_colored_figure(bell)\n",
    "coloring_helper.print_value(\"der Glocke\", coloring_helper.calculate_colors_with_sets_quantity(colors), Color.RED)\n",
    "coloring_helper.print_value(\"der Glocke\", coloring_helper.calculate_colors_with_sets_quantity(colors), Color.GOLD)\n",
    "coloring_helper.print_value(\"der Glocke\", coloring_helper.calculate_colors_with_sets_quantity(colors), Color.SILVER)"
   ]
  },
  {
   "cell_type": "markdown",
   "id": "e550f488",
   "metadata": {},
   "source": [
    "**3. Christbaumspitze**\n",
    "\n",
    "Die Christbaumspitze kann zu zwei Zylindern, einer Kugel und einem Kegel zerlegt werden.\n",
    "\n",
    "Mit einer Gesamthöhe von 24 cm ergibt sich die Höhe jeder Farbschicht der Christbaumspitze wie folgt:\n",
    "\n",
    "$h_{rot}=h_{gold}=h_{silber}= \\frac{24}{3} = 8 cm$"
   ]
  },
  {
   "cell_type": "code",
   "execution_count": 38,
   "id": "42e3355d",
   "metadata": {},
   "outputs": [
    {
     "name": "stdout",
     "output_type": "stream",
     "text": [
      "Die Höhe von Beschichtung beträgt: 8.00 cm.\n"
     ]
    }
   ],
   "source": [
    "star_height_coloring = star.height*coloring_percentage\n",
    "Helper.print_height(\"Beschichtung\", star_height_coloring)"
   ]
  },
  {
   "cell_type": "markdown",
   "id": "eeac5561",
   "metadata": {},
   "source": [
    "**Roter Abschnitt**\n",
    "\n",
    "Die rotgefärbte Oberfläche setzt sich aus der zuvor bestimmten Fläche des unteren Zylinders (3 cm Höhe) und der des Kugelsegments (5 cm Höhe) zusammen. Die Fläche des unteren Zylinders wurde bereits im vorherigen Abschnitt ermittelt und kann direkt verwendet werden. Trotzdem muss dabei auch die Überlagerung berücksichtigt werden, wie in der Berechnung der Gesamtfläche der Christbaumspitze zuvor erläutert wurde.\n",
    "\n",
    "Die zu ermittelnde Fläche des Kugelssegments kann mithilfe der Formel für die Mantelfläche eines Kugelsegments berechnet werden: \n",
    "\n",
    "$A_{\\text{Mantel Kugelsegment}} = 2 \\pi \\cdot r_{Kugel} \\cdot h_{Segment} = 2 \\pi \\cdot 3.5 \\cdot 5$"
   ]
  },
  {
   "cell_type": "code",
   "execution_count": 39,
   "id": "b00e76b4",
   "metadata": {},
   "outputs": [
    {
     "name": "stdout",
     "output_type": "stream",
     "text": [
      "Die Oberfläche von Christbaumspitze Kugelsegment beträgt: 109.96 cm².\n"
     ]
    }
   ],
   "source": [
    "Helper.print_surface_area(\"Christbaumspitze Kugelsegment\", star.sphere.calculate_segment_area(star_height_coloring - star.cylinder_bottom.height))"
   ]
  },
  {
   "cell_type": "markdown",
   "id": "1acd25ed",
   "metadata": {},
   "source": [
    "Daraus ergibt sich die Fläche des roten Anteils:\n",
    "\n",
    "$A_{\\text{rot Christbaumspitze}} = A_{\\text{Zylinder}} + A_{\\text{Mantel Kugelsegment}} - A_{\\text{Überlappung}}$"
   ]
  },
  {
   "cell_type": "code",
   "execution_count": 40,
   "id": "9d698965",
   "metadata": {},
   "outputs": [
    {
     "name": "stdout",
     "output_type": "stream",
     "text": [
      "Der rotgefäbrte Anteil von der Christbaumspitze beträgt: 128.81 cm².\n"
     ]
    }
   ],
   "source": [
    "colors = coloring_helper.calculate_colors_of_mixed_colored_figure(star)\n",
    "coloring_helper.print_value(\"der Christbaumspitze\", coloring_helper.calculate_colors_with_sets_quantity(colors), Color.RED)"
   ]
  },
  {
   "cell_type": "markdown",
   "id": "94c60ece",
   "metadata": {},
   "source": [
    "**Goldener Abschnitt**\n",
    "\n",
    "Der goldene Abschnitt beschränkt sich auf ein Segment des Kegels, da der Kegel eine Höhe von 13 cm aufweist. Es ist daher lediglich die Mantelfläche des Kegelssegment von Bedeutung. Da das goldbemalte Kegelsegment lediglich 8 cm hoch ist, müssen zunächst der neue Radius und die Seitenhöhe für die Berechnung der Mantelfläche ermittelt werden. \n",
    "\n",
    "Für den Radius kann der Strahlensatz angewendet werden:\n",
    "\n",
    "$\\frac{r_{neu}}{h_{neu}} = \\frac{r_{alt}}{h_{alt}}$\n",
    "\n",
    "$\\frac{r_{neu}}{8} = \\frac{1.5}{13}$\n",
    "\n"
   ]
  },
  {
   "cell_type": "code",
   "execution_count": 41,
   "id": "26f1c30c",
   "metadata": {},
   "outputs": [
    {
     "name": "stdout",
     "output_type": "stream",
     "text": [
      "Der Radius von Christbaumspitze Kegel) beträgt: 0.92 cm.\n"
     ]
    }
   ],
   "source": [
    "new_cone = Cone(star.cone.find_radius_with_triangle_similarity(star_height_coloring), star_height_coloring)\n",
    "Helper.print_radius(\"Christbaumspitze Kegel)\", new_cone.radius)"
   ]
  },
  {
   "cell_type": "markdown",
   "id": "a07d3e6b",
   "metadata": {},
   "source": [
    "Der neue Radius kann anschließend zur Ermittlung der Seitenhöhe eingesetzt werden:\n",
    "\n",
    "$l_{neu} = \\sqrt{r_{neu}^2+h_{neu}^2} = \\sqrt{0.92^2+8^2} $"
   ]
  },
  {
   "cell_type": "code",
   "execution_count": 42,
   "id": "55375be0",
   "metadata": {},
   "outputs": [
    {
     "name": "stdout",
     "output_type": "stream",
     "text": [
      "Die Mantellinie von Christbaumspitze Kegel beträgt: 8.05 cm.\n"
     ]
    }
   ],
   "source": [
    "Helper.print_slant_height(\"Christbaumspitze Kegel\", new_cone.slant_height)"
   ]
  },
  {
   "cell_type": "markdown",
   "id": "e5f11e2e",
   "metadata": {},
   "source": [
    "Die goldene Oberfläche der Christbaumspitze lässt sich nun berechnen: \n",
    "\n",
    "$A_{\\text{gold Christbaumspitze}} =  A_{\\text{Mantel Kegelsegment}} = \\pi \\cdot 0.92 \\cdot 8.05 $ "
   ]
  },
  {
   "cell_type": "code",
   "execution_count": 43,
   "id": "c37f0237",
   "metadata": {},
   "outputs": [
    {
     "name": "stdout",
     "output_type": "stream",
     "text": [
      "Der goldgefäbrte Anteil von der Christbaumspitze beträgt: 23.35 cm².\n"
     ]
    }
   ],
   "source": [
    "coloring_helper.print_value(\"der Christbaumspitze\", coloring_helper.calculate_colors_with_sets_quantity(colors), Color.GOLD)"
   ]
  },
  {
   "cell_type": "markdown",
   "id": "80ca3b4e",
   "metadata": {},
   "source": [
    "**Silberner Abschnitt**\n",
    "\n",
    "Schließlich besteht der silberne Abschnitt aus der verbleibenden Fläche, die aus der Subtraktion der Teiloberflächen des roten und goldenen Anteils von der Gesamtfläche der Christbaumspitze resultiert:\n",
    "\n",
    "$A_{\\text{silber Christbaumspitze}} =  A_{\\text{Christbaumspitze gesamt}} - A_{\\text{rot Christbaumspitze}} - A_{\\text{gold Christbaumspitze}}$"
   ]
  },
  {
   "cell_type": "code",
   "execution_count": 44,
   "id": "17c2fed5",
   "metadata": {},
   "outputs": [
    {
     "name": "stdout",
     "output_type": "stream",
     "text": [
      "Der silvergefäbrte Anteil von der Christbaumspitze beträgt: 89.37 cm².\n"
     ]
    }
   ],
   "source": [
    "coloring_helper.print_value(\"der Christbaumspitze\", coloring_helper.calculate_colors_with_sets_quantity(colors), Color.SILVER)"
   ]
  },
  {
   "cell_type": "markdown",
   "id": "32550af3",
   "metadata": {},
   "source": [
    "**Gesamtfläche (gemischtes Set)**\n",
    "Die gesuchten Mengen der jeweiligen Farben bei dem gemischten Set kann nun bestimmt werden, indem alle zugehörigen Flächen einer Farbe zusammenaddiert und schließlich mit der Anzahl der Sets mutliplizert werden.\n",
    "\n",
    "$A_{\\text{gesamt rot gemischte}} = n_{\\text{Sets}} \\cdot A_{\\text{rot gemischt}} = 2000 \\cdot (A_{\\text{rot gemischt Kugel}} + A_{\\text{rot gemischt Glocke}} + A_{\\text{rot gemischt Christbaumspitze}})$\n",
    "\n",
    "$A_{\\text{gesamt silber gemischte}} = n_{\\text{Sets}} \\cdot A_{\\text{silber gemischt}} = 2000 \\cdot (A_{\\text{silber gemischt Kugel}} + A_{\\text{silber gemischt Glocke}} + A_{\\text{silber gemischt Christbaumspitze}})$\n",
    "\n",
    "$A_{\\text{gesamt gold gemischte}} = n_{\\text{Sets}} \\cdot A_{\\text{gold gemischt}} = 2000 \\cdot (A_{\\text{gold gemischt Kugel}} + A_{\\text{gold gemischt Glocke}} + A_{\\text{gold gemischt Christbaumspitze}})$"
   ]
  },
  {
   "cell_type": "code",
   "execution_count": 45,
   "id": "83a50abe",
   "metadata": {},
   "outputs": [
    {
     "name": "stdout",
     "output_type": "stream",
     "text": [
      "\n",
      "Für alle Figuren (gemischtes Set):\n",
      "Der rotgefäbrte Anteil von gemischten Sets beträgt: 603.91 cm².\n",
      "Der goldgefäbrte Anteil von gemischten Sets beträgt: 435.95 cm².\n",
      "Der silvergefäbrte Anteil von gemischten Sets beträgt: 480.26 cm².\n",
      "\n",
      "Für 2000 des gemischten Sets :\n",
      "Der rotgefäbrte Anteil von gemischten Sets beträgt: 1207821.01 cm².\n",
      "Der goldgefäbrte Anteil von gemischten Sets beträgt: 871898.42 cm².\n",
      "Der silvergefäbrte Anteil von gemischten Sets beträgt: 960522.76 cm².\n",
      "\n",
      "\n"
     ]
    }
   ],
   "source": [
    "print(\"\\nFür alle Figuren (gemischtes Set):\")\n",
    "colors = coloring_helper.calculate_colors_of_mixed_set([small_sphere, large_sphere, bell, star])\n",
    "coloring_helper.print_values(colors, \"gemischten Sets\")\n",
    "\n",
    "print(f\"\\nFür {numbers_of_sets} des gemischten Sets :\")\n",
    "colors1 = coloring_helper.calculate_colors_of_mixed_set_total([small_sphere, large_sphere, bell, star], numbers_of_sets)\n",
    "coloring_helper.print_values(colors1, \"gemischten Sets\")\n",
    "print(\"\\n\")"
   ]
  },
  {
   "cell_type": "markdown",
   "id": "8c148514",
   "metadata": {},
   "source": [
    "#### 2.5 Endergebnis\n",
    "\n",
    "Die gesuchte Farbmenge bzw. der gesuchte Materialaufwand ist die Summe der jeweiligen Farbflächen aus dem einfarbigen Sets und dem gemischten Set. \n",
    "\n",
    "$A_{\\text{rot gesucht}} = A_{\\text{rot einfarbig}} + A_{\\text{rot gemischt}}$\n",
    "\n",
    "$A_{\\text{silber gesucht}} = A_{\\text{silber einfarbig}} + A_{\\text{silber gemischt}}$\n",
    "\n",
    "$A_{\\text{gold gesucht}} = A_{\\text{gold einfarbig}} + A_{\\text{gold gemischt}}$\n",
    "\n"
   ]
  },
  {
   "cell_type": "code",
   "execution_count": 46,
   "id": "e24eeac7",
   "metadata": {},
   "outputs": [
    {
     "name": "stdout",
     "output_type": "stream",
     "text": [
      "\n",
      "Für 2000 Sets:\n",
      "Der rotgefäbrte Anteil von allen Sets beträgt: 4248063.21 cm².\n",
      "Der goldgefäbrte Anteil von allen Sets beträgt: 3912140.62 cm².\n",
      "Der silvergefäbrte Anteil von allen Sets beträgt: 4000764.96 cm².\n",
      "\n",
      "\n"
     ]
    }
   ],
   "source": [
    "print(f\"\\nFür {numbers_of_sets} Sets:\")     \n",
    "coloring_helper.print_values(coloring_helper.calulate_total_color([small_sphere, large_sphere, bell, star], numbers_of_sets), \"allen Sets\")\n",
    "print(\"\\n\")"
   ]
  },
  {
   "cell_type": "markdown",
   "id": "abfc8180",
   "metadata": {},
   "source": [
    "## Aufgabe 2: Berechnen der Länge der goldenen Linie  \n",
    "\n",
    "\n",
    "1. Berechnung der Gesamtlänge der Linie für beide Umrundungsrichtungen mit der Formel für die Bogenlänge einer Kurve  \n",
    "2. Berechnung der Gesamtlänge der Linie mit der Anzahl der Sets  \n",
    "3. Visualisierung einer Kugel mit Goldlinie mit SageMath  \n",
    "  \n",
    "### 1. Was verwenden wir, um das Problem zu lösen?  \n",
    "  \n",
    "**Verhältnis zwischen Durchmesser und Radius[1]**  \n",
    "\n",
    "$r = \\frac{d}{2}$\n",
    "\n",
    "**Parameterdarstellung der Spiralkurve in kartesischen Koordinaten[11]**\n",
    "\n",
    "$x(t) = r \\cdot sin(\\phi(t)) \\cdot cos(\\theta(t))$\n",
    "\n",
    "$y(t) = r \\cdot sin(\\phi(t)) \\cdot sin(\\theta(t))$\n",
    "\n",
    "$z(t) = r \\cdot cos(\\phi(t))$\n",
    "\n",
    "wobei: \n",
    "\n",
    "$\\theta$: (Azimutwinkel)\n",
    "\n",
    "$\\phi$: (Polarwinkel)\n",
    "\n",
    "\n",
    "**Bogenlänge der Kurve[8]**\n",
    "\n",
    "$s = \\int_{a}^{b} \\sqrt{x'(t)^2 + y'(t)^2 + z'(t)^2} \\, dt$\n",
    "\n",
    "\n",
    "**SageMath-Funktionen**\n",
    "- Visualisierung der Kugel: `sphere()`[9]\n",
    "\n",
    "- Visualisierung der Spirallinie mithilfe der Parameterdarstellung: `parametric_plot3d([f_x, f_y, f_z], (u_min, u_max))` [10]\n",
    "\n",
    "\n",
    "### 2 Einsetzen der Problemstellung\n",
    "#### 2.1. Gesamtlänge der goldenen Linie\n",
    "\n",
    "Der Radius der Kugel entspricht:\n",
    "\n",
    "$r_{\\text{Kugel mit Linie}} = \\frac{7}{2}$"
   ]
  },
  {
   "cell_type": "code",
   "execution_count": 47,
   "id": "8e383313",
   "metadata": {},
   "outputs": [],
   "source": [
    "forget()\n",
    "## specifications\n",
    "# spiral line\n",
    "spiral_line_diameter = 7\n",
    "spiral_line_rotation = 5\n",
    "numbers_of_sets = 2000"
   ]
  },
  {
   "cell_type": "code",
   "execution_count": 48,
   "id": "f7b9c3c9",
   "metadata": {},
   "outputs": [
    {
     "name": "stdout",
     "output_type": "stream",
     "text": [
      "Der Radius von Kugel mit Spirallinie beträgt: 3.50 cm.\n"
     ]
    }
   ],
   "source": [
    "spiral_sphere = Sphere(Helper.calculate_radius_of_circle(spiral_line_diameter), 1)\n",
    "Helper.print_radius(\"Kugel mit Spirallinie\", spiral_sphere.radius)"
   ]
  },
  {
   "cell_type": "markdown",
   "id": "e5e51b71",
   "metadata": {},
   "source": [
    "Die Linie bewegt sich auf der Kugel von oben nach unten (von 0 bis $\\pi$). Danach bewegt sie sich in umgekehrter Richtung (von $\\pi$ bis $2\\pi$). Das heißt, dass der Polarwinkel $\\phi(t)$, der die vertikale Position der Spirallinie bestimmt, im Bereich von 0 bis $2\\pi$ liegt. Somit entspricht $\\phi(t) = t $ mit $t$ im Bereich von 0 bis $2 \\pi$.\n",
    "  \n",
    "Währenddessen rotiert die Linie gleichzeitig jeweils 5-mal in jede Richtung um die Kugel.  \n",
    "  \n",
    "Für die Gesamtlänge der Sprirallinien ist daher die Anzahl der Gesamtumdrehungen von Interesse:\n",
    "\n",
    "$$n_{\\text{Umrundungen}} = n_{\\text{Umrundungen von oben nach unten}} + n_{\\text{Umrundungen von unten nach oben}} = 5 + 5 = 10$$\n",
    "\n",
    "Der Azimutwinkel $\\theta$ ist für die horizontale Rotation der Spirallinie um die z-Achse verantwortlich. Das heißt, wenn sich die Spirale am Ende ihres Weges befindet, d.h. $\\phi(t_1) = 2 \\pi $, dann muss $\\theta(t_1) = 10 \\cdot 2 \\pi $ sein, denn ein Umlauf entspricht $2 \\pi $. \n",
    "\n",
    "Nun lassen sich die parametrischen Gleichungen der Spiralkurve in kartesischen Koordinaten aufstellen:\n",
    "\n",
    "$x(t) = r \\cdot sin(\\phi(t)) \\cdot cos(\\theta(t)) = r \\cdot sin(t) \\cdot cos(10t)$\n",
    "\n",
    "$y(t) = r \\cdot sin(\\phi(t)) \\cdot sin(\\theta(t)) = r \\cdot sin(t) \\cdot sin(10t)$\n",
    "\n",
    "$z(t) = r \\cdot cos(t)$\n",
    "\n",
    "wobei:\n",
    "\n",
    "$t$ im Bereich von 0 bis $2 \\pi$ liegt.\n",
    "\n",
    "\n",
    "Mit der Formel für die Bogenlänge einer Kurve im dreidimensionalen Raum kann die Länge der goldenen Linie auf einer Kugel angenähert werden:\n",
    "\n",
    "$s_{\\text{linie}} = \\int_{a}^{b} \\sqrt{x'(t)^2 + y'(t)^2 + z'(t)^2} \\, dt = \\int_{0}^{2 \\pi} \\sqrt{x'(t)^2 + y'(t)^2 + z'(t)^2} \\, dt $"
   ]
  },
  {
   "cell_type": "code",
   "execution_count": 49,
   "id": "8a69f093",
   "metadata": {},
   "outputs": [
    {
     "name": "stderr",
     "output_type": "stream",
     "text": [
      "Warning: vanishing non integral power expansion\n"
     ]
    },
    {
     "name": "stdout",
     "output_type": "stream",
     "text": [
      "Die Länge von Spirallinie beträgt: 142.93 cm.\n"
     ]
    }
   ],
   "source": [
    "spiral_length = spiral_sphere.calculate_arc_length(spiral_line_rotation)\n",
    "Helper.print_length(\"Spirallinie\", spiral_length)"
   ]
  },
  {
   "cell_type": "markdown",
   "id": "5c483f54",
   "metadata": {},
   "source": [
    "Auf diese Weise ist eine näherungsweise Berechnung der Gesamtlänge der goldenen Linie für alle 2000 Kugeln möglich:\n",
    "\n",
    "$s_{\\text{Linie gesamt}}  = n_{\\text{Kugel mit Linie}} \\cdot s_{\\text{linie}} = 2000 \\cdot s_{\\text{linie}}$"
   ]
  },
  {
   "cell_type": "code",
   "execution_count": 50,
   "id": "189ad8ba",
   "metadata": {},
   "outputs": [
    {
     "name": "stdout",
     "output_type": "stream",
     "text": [
      "Die Länge von Spirallinie beträgt: 285859.31 cm.\n"
     ]
    }
   ],
   "source": [
    "Helper.print_length(\"Spirallinie\", spiral_length * numbers_of_sets) "
   ]
  },
  {
   "cell_type": "markdown",
   "id": "976f34d3",
   "metadata": {},
   "source": [
    "#### 2.2. Visualisierung der Kugel mit der aufgesprühten goldenen Linie\n",
    "\n",
    "Die Kugel kann mit der Sagemath Funktion `sphere()` dargestellt werden. \n",
    "\n",
    "Zur Visualisierung der goldenen Linie bietet Sagemath die Funktion `parametric_plot3d()`. Diese benötigt Parameterfunktionen, um Körper in 3D zu plotten. Diese wurden bereits im vorherigen Abschnitt ermittelt. "
   ]
  },
  {
   "cell_type": "code",
   "execution_count": 51,
   "id": "d0670a51",
   "metadata": {},
   "outputs": [
    {
     "data": {
      "text/html": [
       "\n",
       "<iframe srcdoc=\"&lt;!DOCTYPE html&gt;\n",
       "&lt;html&gt;\n",
       "&lt;head&gt;\n",
       "&lt;title&gt;&lt;/title&gt;\n",
       "&lt;meta charset=&quot;utf-8&quot;&gt;\n",
       "&lt;meta name=viewport content=&quot;width=device-width, user-scalable=no, minimum-scale=1.0, maximum-scale=1.0&quot;&gt;\n",
       "&lt;style&gt;\n",
       "\n",
       "    body { margin: 0px; overflow: hidden; }\n",
       "\n",
       "    #menu-container { position: absolute; bottom: 30px; right: 40px; cursor: default; }\n",
       "\n",
       "    #menu-message { position: absolute; bottom: 0px; right: 0px; white-space: nowrap;\n",
       "                    display: none; background-color: #F5F5F5; padding: 10px; }\n",
       "\n",
       "    #menu-content { position: absolute; bottom: 0px; right: 0px;\n",
       "                    display: none; background-color: #F5F5F5; border-bottom: 1px solid black;\n",
       "                    border-right: 1px solid black; border-left: 1px solid black; }\n",
       "\n",
       "    #menu-content div { border-top: 1px solid black; padding: 10px; white-space: nowrap; }\n",
       "\n",
       "    #menu-content div:hover { background-color: #FEFEFE; }\n",
       "\n",
       "    .dark-theme #menu-container { color: white; }\n",
       "\n",
       "    .dark-theme #menu-message { background-color: #181818; }\n",
       "\n",
       "    .dark-theme #menu-content { background-color: #181818; border-color: white; }\n",
       "\n",
       "    .dark-theme #menu-content div { border-color: white; }\n",
       "\n",
       "    .dark-theme #menu-content div:hover { background-color: #303030; }\n",
       "\n",
       "&lt;/style&gt;\n",
       "\n",
       "&lt;/head&gt;\n",
       "\n",
       "&lt;body&gt;\n",
       "\n",
       "&lt;script src=&quot;/nbextensions/threejs-sage/r122/three.min.js&quot;&gt;&lt;/script&gt;\n",
       "&lt;script&gt;\n",
       "  if ( !window.THREE ) document.write(&#x27; \\\n",
       "&lt;script src=&quot;https://cdn.jsdelivr.net/gh/sagemath/threejs-sage@r122/build/three.min.js&quot;&gt;&lt;\\/script&gt; \\\n",
       "            &#x27;);\n",
       "&lt;/script&gt;\n",
       "        &lt;script&gt;// fat_lines.js\n",
       "\n",
       "var _fatLines = [];\n",
       "\n",
       "function _createFatLine( lineStrip, geometry, materialOptions ) {\n",
       "\n",
       "    var vertexCount = geometry.vertices.length;\n",
       "    var positions = [];\n",
       "    for ( var i=0 ; i &lt; vertexCount ; i++ ) {\n",
       "        var v = geometry.vertices[i];\n",
       "        positions.push( v.x, v.y, v.z );\n",
       "        // For a line strip, duplicate all but the first and last vertices.\n",
       "        if ( lineStrip &amp;&amp; i &gt; 0 &amp;&amp; i &lt; vertexCount - 1 ) {\n",
       "            positions.push( v.x, v.y, v.z );\n",
       "        }\n",
       "    }\n",
       "\n",
       "    geometry = new THREE.LineSegmentsGeometry();\n",
       "    geometry.setPositions( positions );\n",
       "\n",
       "    var material = new THREE.LineMaterial( materialOptions );\n",
       "    material.resolution = new THREE.Vector2( window.innerWidth, window.innerHeight );\n",
       "\n",
       "    var line = new THREE.LineSegments2( geometry, material );\n",
       "    line.computeLineDistances();\n",
       "    line.scale.set( 1, 1, 1 );\n",
       "\n",
       "    _fatLines.push( line );\n",
       "\n",
       "    return line;\n",
       "\n",
       "}\n",
       "\n",
       "function createFatLineStrip( geometry, materialOptions ) {\n",
       "    return _createFatLine( true, geometry, materialOptions );\n",
       "}\n",
       "\n",
       "function createFatLineSegments( geometry, materialOptions ) {\n",
       "    return _createFatLine( false, geometry, materialOptions );\n",
       "}\n",
       "\n",
       "function rescaleFatLines() {\n",
       "    var res = new THREE.Vector2( window.innerWidth, window.innerHeight );\n",
       "    var n = _fatLines.length;\n",
       "    for ( var i=0 ; i &lt; n ; i++ ) {\n",
       "        _fatLines[i].material.resolution = res;\n",
       "    }\n",
       "}\n",
       "&lt;/script&gt;\n",
       "&lt;script&gt;\n",
       "\n",
       "    var options = {&quot;animate&quot;: false, &quot;animationControls&quot;: true, &quot;aspectRatio&quot;: [1.0, 1.0, 1.0], &quot;autoScaling&quot;: [false, false, false], &quot;autoPlay&quot;: true, &quot;axes&quot;: false, &quot;axesLabels&quot;: [&quot;x&quot;, &quot;y&quot;, &quot;z&quot;], &quot;axesLabelsStyle&quot;: null, &quot;decimals&quot;: 2, &quot;delay&quot;: 20, &quot;frame&quot;: true, &quot;loop&quot;: true, &quot;projection&quot;: &quot;perspective&quot;, &quot;theme&quot;: &quot;light&quot;, &quot;viewpoint&quot;: false};\n",
       "    var animate = options.animate;\n",
       "\n",
       "    if ( options.theme === &#x27;dark&#x27; )\n",
       "        document.body.className = &#x27;dark-theme&#x27;;\n",
       "\n",
       "    var scene = new THREE.Scene();\n",
       "\n",
       "    var renderer = new THREE.WebGLRenderer( { antialias: true, preserveDrawingBuffer: true } );\n",
       "    renderer.setPixelRatio( window.devicePixelRatio );\n",
       "    renderer.setSize( window.innerWidth, window.innerHeight );\n",
       "    renderer.setClearColor( options.theme === &#x27;dark&#x27; ? 0 : 0xffffff, 1 );\n",
       "    document.body.appendChild( renderer.domElement );\n",
       "\n",
       "    var b = [{&quot;x&quot;:-3.5, &quot;y&quot;:-3.5, &quot;z&quot;:-3.5}, {&quot;x&quot;:3.5, &quot;y&quot;:3.5, &quot;z&quot;:3.5}]; // bounds\n",
       "\n",
       "    if ( b[0].x === b[1].x ) {\n",
       "        b[0].x -= 1;\n",
       "        b[1].x += 1;\n",
       "    }\n",
       "    if ( b[0].y === b[1].y ) {\n",
       "        b[0].y -= 1;\n",
       "        b[1].y += 1;\n",
       "    }\n",
       "    if ( b[0].z === b[1].z ) {\n",
       "        b[0].z -= 1;\n",
       "        b[1].z += 1;\n",
       "    }\n",
       "\n",
       "    var rxRange = Math.sqrt( Math.pow( b[1].z - b[0].z, 2 )\n",
       "                            + Math.pow( b[1].y - b[0].y, 2 ) );\n",
       "    var ryRange = Math.sqrt( Math.pow( b[1].x - b[0].x, 2 )\n",
       "                            + Math.pow( b[1].z - b[0].z, 2 ) );\n",
       "    var rzRange = Math.sqrt( Math.pow( b[1].x - b[0].x, 2 )\n",
       "                            + Math.pow( b[1].y - b[0].y, 2 ) );\n",
       "    var xRange = b[1].x - b[0].x;\n",
       "    var yRange = b[1].y - b[0].y;\n",
       "    var zRange = b[1].z - b[0].z;\n",
       "\n",
       "    var ar = options.aspectRatio;\n",
       "    var a = [ ar[0], ar[1], ar[2] ]; // aspect multipliers\n",
       "\n",
       "    var autoScaling = options.autoScaling;\n",
       "    var autoAspect = 2.5;\n",
       "    if ( xRange &gt; autoAspect * rxRange &amp;&amp; autoScaling[0] ) a[0] = autoAspect * rxRange / xRange;\n",
       "    if ( yRange &gt; autoAspect * ryRange &amp;&amp; autoScaling[1] ) a[1] = autoAspect * ryRange / yRange;\n",
       "    if ( zRange &gt; autoAspect * rzRange &amp;&amp; autoScaling[2] ) a[2] = autoAspect * rzRange / zRange;\n",
       "\n",
       "    // Distance from (xMid,yMid,zMid) to any corner of the bounding box, after applying aspectRatio\n",
       "    var midToCorner = Math.sqrt( a[0]*a[0]*xRange*xRange + a[1]*a[1]*yRange*yRange + a[2]*a[2]*zRange*zRange ) / 2;\n",
       "\n",
       "    var xMid = ( b[0].x + b[1].x ) / 2;\n",
       "    var yMid = ( b[0].y + b[1].y ) / 2;\n",
       "    var zMid = ( b[0].z + b[1].z ) / 2;\n",
       "\n",
       "    var box = new THREE.Geometry();\n",
       "    box.vertices.push( new THREE.Vector3( a[0]*b[0].x, a[1]*b[0].y, a[2]*b[0].z ) );\n",
       "    box.vertices.push( new THREE.Vector3( a[0]*b[1].x, a[1]*b[1].y, a[2]*b[1].z ) );\n",
       "    var boxMesh = new THREE.Line( box );\n",
       "    var boxColor = options.theme === &#x27;dark&#x27; ? &#x27;white&#x27; : &#x27;black&#x27;;\n",
       "    if ( options.frame ) scene.add( new THREE.BoxHelper( boxMesh, boxColor ) );\n",
       "\n",
       "    if ( options.axesLabels ) {\n",
       "\n",
       "        var d = options.decimals; // decimals\n",
       "        var offsetRatio = 0.1;\n",
       "        var al = options.axesLabels;\n",
       "        var als = options.axesLabelsStyle || [{}, {}, {}];\n",
       "\n",
       "        var offset = offsetRatio * a[1]*( b[1].y - b[0].y );\n",
       "        var xm = xMid.toFixed(d);\n",
       "        if ( /^-0.?0*$/.test(xm) ) xm = xm.substr(1);\n",
       "        addLabel( al[0] + &#x27;=&#x27; + xm, a[0]*xMid, a[1]*b[1].y+offset, a[2]*b[0].z, als[0] );\n",
       "        addLabel( ( b[0].x ).toFixed(d), a[0]*b[0].x, a[1]*b[1].y+offset, a[2]*b[0].z, als[0] );\n",
       "        addLabel( ( b[1].x ).toFixed(d), a[0]*b[1].x, a[1]*b[1].y+offset, a[2]*b[0].z, als[0] );\n",
       "\n",
       "        var offset = offsetRatio * a[0]*( b[1].x - b[0].x );\n",
       "        var ym = yMid.toFixed(d);\n",
       "        if ( /^-0.?0*$/.test(ym) ) ym = ym.substr(1);\n",
       "        addLabel( al[1] + &#x27;=&#x27; + ym, a[0]*b[1].x+offset, a[1]*yMid, a[2]*b[0].z, als[1] );\n",
       "        addLabel( ( b[0].y ).toFixed(d), a[0]*b[1].x+offset, a[1]*b[0].y, a[2]*b[0].z, als[1] );\n",
       "        addLabel( ( b[1].y ).toFixed(d), a[0]*b[1].x+offset, a[1]*b[1].y, a[2]*b[0].z, als[1] );\n",
       "\n",
       "        var offset = offsetRatio * a[1]*( b[1].y - b[0].y );\n",
       "        var zm = zMid.toFixed(d);\n",
       "        if ( /^-0.?0*$/.test(zm) ) zm = zm.substr(1);\n",
       "        addLabel( al[2] + &#x27;=&#x27; + zm, a[0]*b[1].x, a[1]*b[0].y-offset, a[2]*zMid, als[2] );\n",
       "        addLabel( ( b[0].z ).toFixed(d), a[0]*b[1].x, a[1]*b[0].y-offset, a[2]*b[0].z, als[2] );\n",
       "        addLabel( ( b[1].z ).toFixed(d), a[0]*b[1].x, a[1]*b[0].y-offset, a[2]*b[1].z, als[2] );\n",
       "\n",
       "    }\n",
       "\n",
       "    function addLabel( text, x, y, z, style ) {\n",
       "\n",
       "        var color = style.color || &#x27;black&#x27;;\n",
       "        var fontSize = style.fontSize || 14;\n",
       "        var fontFamily = style.fontFamily || &#x27;monospace&#x27;;\n",
       "        var fontStyle = style.fontStyle || &#x27;normal&#x27;;\n",
       "        var fontWeight = style.fontWeight || &#x27;normal&#x27;;\n",
       "        var opacity = style.opacity || 1;\n",
       "\n",
       "        if ( options.theme === &#x27;dark&#x27; )\n",
       "            if ( color === &#x27;black&#x27; || color === &#x27;#000000&#x27; )\n",
       "                color = &#x27;white&#x27;;\n",
       "\n",
       "        if ( Array.isArray( fontStyle ) ) {\n",
       "            fontFamily = fontFamily.map( function( f ) {\n",
       "                // Need to put quotes around fonts that have whitespace in their names.\n",
       "                return /\\s/.test( f ) ? &#x27;&quot;&#x27; + f + &#x27;&quot;&#x27; : f;\n",
       "            }).join(&#x27;, &#x27;);\n",
       "        }\n",
       "\n",
       "        var canvas = document.createElement( &#x27;canvas&#x27; );\n",
       "        var context = canvas.getContext( &#x27;2d&#x27; );\n",
       "        var pixelRatio = Math.round( window.devicePixelRatio );\n",
       "\n",
       "        // For example: italic bold 20px &quot;Times New Roman&quot;, Georgia, serif\n",
       "        var font = [fontStyle, fontWeight, fontSize + &#x27;px&#x27;, fontFamily].join(&#x27; &#x27;);\n",
       "\n",
       "        context.font = font;\n",
       "        var width = context.measureText( text ).width;\n",
       "        var height = fontSize;\n",
       "\n",
       "        // The dimensions of the canvas&#x27;s underlying image data need to be powers\n",
       "        // of two in order for the resulting texture to support mipmapping.\n",
       "        canvas.width = THREE.MathUtils.ceilPowerOfTwo( width * pixelRatio );\n",
       "        canvas.height = THREE.MathUtils.ceilPowerOfTwo( height * pixelRatio );\n",
       "\n",
       "        // Re-compute the unscaled dimensions after the power of two conversion.\n",
       "        width = canvas.width / pixelRatio;\n",
       "        height = canvas.height / pixelRatio;\n",
       "\n",
       "        canvas.style.width = width + &#x27;px&#x27;;\n",
       "        canvas.style.height = height + &#x27;px&#x27;;\n",
       "\n",
       "        context.scale( pixelRatio, pixelRatio );\n",
       "        context.fillStyle = color;\n",
       "        context.font = font; // Must be set again after measureText.\n",
       "        context.textAlign = &#x27;center&#x27;;\n",
       "        context.textBaseline = &#x27;middle&#x27;;\n",
       "        context.fillText( text, width/2, height/2 );\n",
       "\n",
       "        var texture = new THREE.Texture( canvas );\n",
       "        texture.needsUpdate = true;\n",
       "\n",
       "        var materialOptions = { map: texture, sizeAttenuation: false, depthWrite: false };\n",
       "        if ( opacity &lt; 1 ) {\n",
       "            // Setting opacity=1 would cause the texture&#x27;s alpha component to be\n",
       "            // discarded, giving the text a black background instead of the\n",
       "            // background being transparent.\n",
       "            materialOptions.opacity = opacity;\n",
       "        }\n",
       "        var sprite = new THREE.Sprite( new THREE.SpriteMaterial( materialOptions ) );\n",
       "        sprite.position.set( x, y, z );\n",
       "\n",
       "        // Scaling factor, chosen somewhat arbitrarily so that the size of the text\n",
       "        // is consistent with previously generated plots.\n",
       "        var scale = 1/625;\n",
       "        if ( options.projection === &#x27;orthographic&#x27; ) {\n",
       "            scale = midToCorner/256; // Needs to scale along with the plot itself.\n",
       "        }\n",
       "        sprite.scale.set( scale * width, scale * height, 1 );\n",
       "\n",
       "        scene.add( sprite );\n",
       "\n",
       "        return sprite;\n",
       "\n",
       "    }\n",
       "\n",
       "    if ( options.axes ) scene.add( new THREE.AxesHelper( Math.min( a[0]*b[1].x, a[1]*b[1].y, a[2]*b[1].z ) ) );\n",
       "\n",
       "    var camera = createCamera();\n",
       "    camera.up.set( 0, 0, 1 );\n",
       "    camera.position.set( a[0]*xMid, a[1]*yMid, a[2]*zMid );\n",
       "\n",
       "    // camera is positioned so that the line from the camera to the center\n",
       "    // of the bounding sphere of the objects makes an angle of 60 degrees with x-axis\n",
       "    // and an angle of 30 degrees with z-axis and the field of view of the camera looking\n",
       "    // at the center has an angle of 45 degrees.\n",
       "    const sin8 = Math.sin(Math.PI / 8);\n",
       "    const sin5 = Math.sin(Math.PI / 5);\n",
       "    const cos5 = Math.cos(Math.PI / 5);\n",
       "    const sin3 = Math.sin(Math.PI / 3);\n",
       "    const cos3 = Math.cos(Math.PI / 3);\n",
       "    var r = midToCorner / sin8;\n",
       "    var offset = new THREE.Vector3( r * sin3 * cos5, r * sin3 * sin5, r * cos3 );\n",
       "\n",
       "    if ( options.viewpoint ) {\n",
       "\n",
       "        var aa = options.viewpoint;\n",
       "        var axis = new THREE.Vector3( aa[0][0], aa[0][1], aa[0][2] ).normalize();\n",
       "        var angle = aa[1] * Math.PI / 180;\n",
       "        var q = new THREE.Quaternion().setFromAxisAngle( axis, angle ).inverse();\n",
       "\n",
       "        offset.set( 0, 0, offset.length() );\n",
       "        offset.applyQuaternion( q );\n",
       "\n",
       "    }\n",
       "\n",
       "    camera.position.add( offset );\n",
       "\n",
       "    function createCamera() {\n",
       "\n",
       "        var aspect = window.innerWidth / window.innerHeight;\n",
       "\n",
       "        // Scale the near and far clipping planes along with the overall plot size.\n",
       "        var nearClip = 0.01 * midToCorner;\n",
       "        var farClip = 100 * midToCorner;\n",
       "\n",
       "        if ( options.projection === &#x27;orthographic&#x27; ) {\n",
       "            var camera = new THREE.OrthographicCamera( -1, 1, 1, -1, -farClip, farClip );\n",
       "            updateCameraAspect( camera, aspect );\n",
       "            return camera;\n",
       "        }\n",
       "\n",
       "        return new THREE.PerspectiveCamera( 45, aspect, nearClip, farClip );\n",
       "\n",
       "    }\n",
       "\n",
       "    function updateCameraAspect( camera, aspect ) {\n",
       "\n",
       "        if ( camera.isPerspectiveCamera ) {\n",
       "            camera.aspect = aspect;\n",
       "        } else if ( camera.isOrthographicCamera ) {\n",
       "            // Fit the camera frustum to the bounding box&#x27;s diagonal so that the entire plot fits\n",
       "            // within at the default zoom level and camera position.\n",
       "            if ( aspect &gt; 1 ) { // Wide window\n",
       "                camera.top = midToCorner;\n",
       "                camera.right = midToCorner * aspect;\n",
       "            } else { // Tall or square window\n",
       "                camera.top = midToCorner / aspect;\n",
       "                camera.right = midToCorner;\n",
       "            }\n",
       "            camera.bottom = -camera.top;\n",
       "            camera.left = -camera.right;\n",
       "        }\n",
       "\n",
       "        camera.updateProjectionMatrix();\n",
       "\n",
       "    }\n",
       "\n",
       "    var lights = [{&quot;x&quot;:-5, &quot;y&quot;:3, &quot;z&quot;:0, &quot;color&quot;:&quot;#7f7f7f&quot;, &quot;parent&quot;:&quot;camera&quot;}];\n",
       "    for ( var i=0 ; i &lt; lights.length ; i++ ) {\n",
       "        var light = new THREE.DirectionalLight( lights[i].color, 1 );\n",
       "        light.position.set( a[0]*lights[i].x, a[1]*lights[i].y, a[2]*lights[i].z );\n",
       "        if ( lights[i].parent === &#x27;camera&#x27; ) {\n",
       "            light.target.position.set( a[0]*xMid, a[1]*yMid, a[2]*zMid );\n",
       "            scene.add( light.target );\n",
       "            camera.add( light );\n",
       "        } else scene.add( light );\n",
       "    }\n",
       "    scene.add( camera );\n",
       "\n",
       "    var ambient = {&quot;color&quot;:&quot;#7f7f7f&quot;};\n",
       "    scene.add( new THREE.AmbientLight( ambient.color, 1 ) );\n",
       "\n",
       "    var controls = new THREE.OrbitControls( camera, renderer.domElement );\n",
       "    controls.target.set( a[0]*xMid, a[1]*yMid, a[2]*zMid );\n",
       "    controls.addEventListener( &#x27;change&#x27;, function() { if ( !animate ) render(); } );\n",
       "\n",
       "    window.addEventListener( &#x27;resize&#x27;, function() {\n",
       "\n",
       "        renderer.setSize( window.innerWidth, window.innerHeight );\n",
       "        updateCameraAspect( camera, window.innerWidth / window.innerHeight );\n",
       "        if ( window.rescaleFatLines ) rescaleFatLines();\n",
       "        if ( !animate ) render();\n",
       "\n",
       "    } );\n",
       "\n",
       "    var texts = [];\n",
       "    for ( var i=0 ; i &lt; texts.length ; i++ ) addText( texts[i] );\n",
       "\n",
       "    function addText( json ) {\n",
       "        var sprite = addLabel( json.text, a[0]*json.x, a[1]*json.y, a[2]*json.z, json );\n",
       "        sprite.userData = json;\n",
       "    }\n",
       "\n",
       "    var points = [];\n",
       "    for ( var i=0 ; i &lt; points.length ; i++ ) addPoint( points[i] );\n",
       "\n",
       "    function addPoint( json ) {\n",
       "\n",
       "        var geometry = new THREE.Geometry();\n",
       "        var v = json.point;\n",
       "        geometry.vertices.push( new THREE.Vector3( a[0]*v[0], a[1]*v[1], a[2]*v[2] ) );\n",
       "\n",
       "        var canvas = document.createElement( &#x27;canvas&#x27; );\n",
       "        canvas.width = 128;\n",
       "        canvas.height = 128;\n",
       "\n",
       "        var context = canvas.getContext( &#x27;2d&#x27; );\n",
       "        context.arc( 64, 64, 64, 0, 2 * Math.PI );\n",
       "        context.fillStyle = json.color;\n",
       "        context.fill();\n",
       "\n",
       "        var texture = new THREE.Texture( canvas );\n",
       "        texture.needsUpdate = true;\n",
       "\n",
       "        var transparent = json.opacity &lt; 1 ? true : false;\n",
       "        var size = camera.isOrthographicCamera ? json.size : json.size/100;\n",
       "        var material = new THREE.PointsMaterial( { size: size, map: texture,\n",
       "                                                   transparent: transparent, opacity: json.opacity,\n",
       "                                                   alphaTest: .1 } );\n",
       "\n",
       "        var c = new THREE.Vector3();\n",
       "        geometry.computeBoundingBox();\n",
       "        geometry.boundingBox.getCenter( c );\n",
       "        geometry.translate( -c.x, -c.y, -c.z );\n",
       "\n",
       "        var mesh = new THREE.Points( geometry, material );\n",
       "        mesh.position.set( c.x, c.y, c.z );\n",
       "        mesh.userData = json;\n",
       "        scene.add( mesh );\n",
       "\n",
       "    }\n",
       "\n",
       "    var lines = [{&quot;points&quot;: [[0.0, 0.0, 3.5], [0.1050281298274223, 0.03430911379731752, 3.4982555619416082], [0.1782765551049326, 0.13038749371091488, 3.493023986660227], [0.19330362029623108, 0.26872686114550537, 3.484310489103871], [0.13358255100905495, 0.4201337066935436, 3.472123755076402], [-0.004343318435749804, 0.5502320084153554, 3.456475932579333], [-0.20959848823258181, 0.6248753471679505, 3.4373826197024315], [-0.4578252367889376, 0.6157172846080489, 3.4148628490752078], [-0.7140800623105451, 0.50515507710918, 3.388939068894775], [-0.9374317224815737, 0.28993134344954424, 3.3596371205489994], [-1.0866776832535432, -0.017156694802674077, 3.3269862128572396], [-1.1264298768703669, -0.38775040775122355, 3.291018892954364], [-1.0327495443330326, -0.7806495066186863, 3.2517710138470566], [-0.7975452595563861, -1.1464870420159057, 3.2092816986747605], [-0.43108546890100696, -1.4338210278387045, 3.163593301710882], [0.03779851879176241, -1.595899495296195, 3.114751366143131], [0.5639579666482545, -1.597241223078389, 3.0628045786750775], [1.0904484751337191, -1.4191662634954372, 3.0078047209941916], [1.5548578632533905, -1.0635120782434375, 2.9498066181547267], [1.896722385406641, -0.5539723696771974, 2.888868083926916], [2.065148615985171, 0.06522625633087747, 2.825049863166948], [2.0256986148813163, 0.7332725672420504, 2.758415571265173], [1.7656513884301517, 1.378979355702128, 2.6890316307328965], [1.29692017887684, 1.928595524630232, 2.616967204990981], [0.6561650620890327, 2.314343961207709, 2.542294129426237], [-0.09803573105108104, 2.482687227130973, 2.4650868397843513], [-0.8907422311950227, 2.4013202072838635, 2.385422297970717], [-1.6383887577134317, 2.064006599853348, 2.3033799153331302], [-2.2578730398968307, 1.4926031872475072, 2.2190414735028337], [-2.6759844226280523, 0.7359275249093877, 2.1324910428728066], [-2.838085018573469, -0.1345142624935077, 2.04381489879457], [-2.7150120558734656, -1.031554321792435, 1.9531014355770386], [-2.3073468710055307, -1.861426713777023, 1.860441078373153], [-1.6464776749512433, -2.533893436317896, 1.7659261930421193], [-0.7922383696794119, -2.9723095268805735, 1.669650994077112], [0.1727058755508598, -3.122482313211631, 1.5717114506902192], [1.1511786081285855, -2.9592904026714404, 1.472205191148244], [2.0416485405928952, -2.4902601609851045, 1.3712314054547252], [2.7491257552831354, -1.7556263426904308, 1.2688907464751853], [3.195594994211782, -0.8247926810023058, 1.1652852296041638], [3.3288131182134864, 0.21048638358097296, 1.0605181310740546], [3.128461785931014, 1.2455064993404728, 0.9546938850071112], [2.608927517688243, 2.1735989298411083, 0.8479179793132418], [1.818348786445493, 2.8975107012600763, 0.7402968505373675], [0.8339825636884239, 3.33992929992567, 0.6319377777611589], [-0.24564580502035926, 3.451982432821243, 0.5229487756649148], [-1.3109822941976401, 3.218756598732866, 0.41343848685617973], [-2.2529730559085954, 2.6612009323673895, 0.3035160735724299], [-2.974630319483753, 1.8341791105672915, 0.19329110886578088], [-3.401371027062269, 0.8208575544307802, 0.08287346737818668], [-3.488993320202857, -0.2759753111702133, -0.027626784183993478], [-3.2284129406310496, -1.3447224300050598, -0.13809949676688132], [-2.6466374140376203, -2.2767500243976433, -0.2484345487680521], [-1.8038705560572215, -2.977836970721082, -0.35852195580814267], [-0.7870666307495173, -3.3780565717057236, -0.4682519803656728], [0.2993557296849104, -3.4390205427310305, -0.577515241165793], [1.344618972903576, -3.15770890116448, -0.6862028222139185], [2.2432946564997587, -2.5664889066422734, -0.7942063813655605], [2.906337890903572, -1.729348197286499, -0.9014182583241332], [3.2702552560208864, -0.7347840629668156, -1.0077315819590773], [3.303428933390213, 0.31384455000878775, -1.1130403768373283], [3.0089427498114403, 1.3094239637741711, -1.2172396688619325], [2.4236488244028194, 2.152424393030101, -1.32022558991251], [1.6136316023315742, 2.76123274860681, -1.4218954813832552], [0.6666217917027246, 3.080370247800027, -1.5221479965152698], [-0.31775839652642024, 3.085736095129893, -1.6208832014212116], [-1.238811711211724, 2.7863618490574633, -1.718002674701572], [-2.005438988359842, 2.2225571008307994, -1.8134096055532647], [-2.5455028154979136, 1.4607301286387329, -1.9070088902727405], [-2.8128850749078684, 0.585531361985822, -1.9987072270574253], [-2.7915204481470366, -0.30974805246423953, -2.0884132090109895], [-2.496042420809035, -1.1334166934148893, -2.1760374152597266], [-1.9690667053207869, -1.8051116259215982, -2.2614925000892274], [-1.275514216642495, -2.2639516129562423, -2.3446932800124864], [-0.4946986964587756, -2.474256922606072, -2.4255568186826544], [0.288863329548297, -2.428277045341096, -2.504002509565793], [0.9948453794716423, -2.1457235474758183, -2.5799521562912195], [1.5556410983574565, -1.6702755508261633, -2.6533300505993527], [1.9230981596433734, -1.0635666316389931, -2.724063047809348], [2.072759275011005, -0.39743513822187787, -2.792080639731311], [2.0052249123543375, 0.2546053790992819, -2.8573150249503905], [1.7445999455244219, 0.8256609900742856, -2.919701176412705], [1.3343285722128233, 1.2625657300388913, -2.979176906245725], [0.8310180741258226, 1.531025186811939, -3.035682927748495], [0.29706823561971885, 1.618277773166894, -3.0891629144899087], [-0.2069644208883169, 1.5330709062072057, -3.1395635564561166], [-0.6293409688411087, 1.303079081677389, -3.1868346131911123], [-0.9326407499851374, 0.9701954760998303, -3.2309289638775076], [-1.0971858778398929, 0.5843719198716831, -3.2718026543075895], [-1.1220643771926615, 0.19683567695217463, -3.3094149406978306], [-1.023736193685575, -0.1464413154341846, -3.3437283303031777], [-0.832509084086277, -0.41020770735569767, -3.3747086187906374], [-0.5874302317274853, -0.573681821310504, -3.402324924334896], [-0.3303230557885007, -0.6321737942478608, -3.426549718401998], [-0.0997856160467859, -0.5964560068940907, -3.447358853190384], [0.07405191006187799, -0.4900523988875613, -3.464731585701948], [0.17333383806102493, -0.34488461070542586, -3.4786505984191054], [0.19437837196747046, -0.19591877525508297, -3.489102016567275], [0.1474616426912216, -0.07557584272132281, -3.4960754219455517], [0.054564765586024855, -0.008686366255786842, -3.4995638633118], [-0.0545647655859926, -0.008686366255776403, -3.4995638633118005], [-0.1474616426911993, -0.07557584272129304, -3.4960754219455534], [-0.19437837196746546, -0.19591877525504084, -3.4891020165672773], [-0.17333383806104272, -0.3448846107053797, -3.478650598419109], [-0.0740519100619195, -0.49005239888752156, -3.4647315857019527], [0.0997856160467239, -0.5964560068940676, -3.44735885319039], [0.33032305578842336, -0.6321737942478642, -3.4265497184020046], [0.5874302317274056, -0.573681821310539, -3.402324924334904], [0.8325090840862078, -0.41020770735576534, -3.374708618790646], [1.0237361936855291, -0.14644131543427713, -3.3437283303031875], [1.1220643771926488, 0.19683567695206275, -3.3094149406978413], [1.0971858778399206, 0.5843719198715643, -3.271802654307601], [0.9326407499852079, 0.9701954760997193, -3.2309289638775205], [0.6293409688412189, 1.303079081677302, -3.1868346131911265], [0.2069644208884637, 1.533070906207156, -3.1395635564561317], [-0.2970682356195543, 1.6182777731668943, -3.089162914489924], [-0.831018074125669, 1.5310251868119895, -3.035682927748512], [-1.334328572212683, 1.2625657300389985, -2.9791769062457427], [-1.7445999455243186, 0.8256609900744392, -2.9197011764127234], [-2.0052249123542865, 0.25460537909946857, -2.85731502495041], [-2.072759275011017, -0.39743513822167637, -2.7920806397313314], [-1.9230981596434515, -1.0635666316387982, -2.724063047809369], [-1.5556410983576034, -1.6702755508259919, -2.6533300505993744], [-0.994845379471843, -2.1457235474756975, -2.5799521562912426], [-0.288863329548533, -2.428277045341044, -2.504002509565816], [0.49469869645853654, -2.474256922606096, -2.425556818682679], [1.2755142166422693, -2.2639516129563435, -2.3446932800125113], [1.9690667053206132, -1.8051116259217572, -2.261492500089252], [2.496042420808918, -1.1334166934151004, -2.17603741525975], [2.7915204481469944, -0.3097480524644627, -2.0884132090110126], [2.8128850749078986, 0.5855313619856022, -1.9987072270574475], [2.5455028154980135, 1.4607301286385297, -1.9070088902727618], [2.0054389883599884, 2.2225571008306497, -1.8134096055532853], [1.2388117112119046, 2.786361849057371, -1.7180026747015915], [0.3177583965266022, 3.085736095129865, -1.6208832014212302], [-0.6666217917025621, 3.0803702478000536, -1.5221479965152873], [-1.6136316023314163, 2.761232748606893, -1.4218954813832723], [-2.4236488244027097, 2.152424393030214, -1.320225589912526], [-3.008942749811381, 1.3094239637742942, -1.2172396688619473], [-3.3034289333901943, 0.31384455000893624, -1.1130403768373416], [-3.270255256020911, -0.7347840629666907, -1.007731581959089], [-2.906337890903623, -1.7293481972864078, -0.9014182583241437], [-2.243294656499818, -2.5664889066422183, -0.7942063813655696], [-1.3446189729036393, -3.157708901164451, -0.6862028222139261], [-0.2993557296849798, -3.4390205427310234, -0.5775152411657992], [0.7870666307494729, -3.378056571705734, -0.46825198036567744], [1.8038705560572037, -2.977836970721093, -0.35852195580814583], [2.6466374140375986, -2.2767500243976686, -0.2484345487680537], [3.2284129406310464, -1.3447224300050675, -0.1380994967668814], [3.4889933202028582, -0.275975311170197, -0.027626784183992004], [3.401371027062261, 0.8208575544308142, 0.08287346737818972], [2.9746303194837216, 1.8341791105673428, 0.1932911088657855], [2.252973055908554, 2.6612009323674237, 0.30351607357243593], [1.3109822941975673, 3.2187565987328943, 0.41343848685618734], [0.2456458050202634, 3.4519824328212483, 0.522948775664924], [-0.8339825636885161, 3.3399292999256445, 0.6319377777611696], [-1.8183487864455874, 2.897510701260014, 0.7402968505373796], [-2.6089275176883273, 2.1735989298410012, 0.8479179793132553], [-3.1284617859310666, 1.2455064993403289, 0.954693885007126], [-3.3288131182134926, 0.2104863835807975, 1.0605181310740708], [-3.195594994211734, -0.8247926810024668, 1.1652852296041811], [-2.7491257552830275, -1.7556263426905858, 1.268890746475204], [-2.0416485405927323, -2.4902601609852275, 1.3712314054547452], [-1.1511786081283948, -2.959290402671504, 1.472205191148265], [-0.17270587555064498, -3.122482313211632, 1.5717114506902414], [0.7922383696796336, -2.9723095268805015, 1.6696509940771351], [1.646477674951441, -2.5338934363177503, 1.7659261930421435], [2.3073468710056826, -1.8614267137768097, 1.860441078373178], [2.7150120558735384, -1.0315543217921943, 1.9531014355770644], [2.838085018573463, -0.13451426249325163, 2.043814898794596], [2.675984422627963, 0.7359275249096374, 2.132491042872833], [2.257873039896673, 1.4926031872477061, 2.2190414735028603], [1.6383887577132132, 2.0640065998534918, 2.3033799153331573], [0.8907422311947641, 2.401320207283933, 2.385422297970744], [0.09803573105080823, 2.4826872271309575, 2.4650868397843784], [-0.6561650620892908, 2.3143439612076064, 2.542294129426263], [-1.2969201788770395, 1.928595524630062, 2.616967204991007], [-1.765651388430289, 1.3789793557019012, 2.689031630732923], [-2.0256986148813754, 0.7332725672417902, 2.7584155712651985], [-2.0651486159851435, 0.06522625633062831, 2.8250498631669734], [-1.896722385406536, -0.553972369677425, 2.8888680839269414], [-1.5548578632532197, -1.063512078243619, 2.949806618154751], [-1.0904484751335013, -1.4191662634955535, 3.0078047209942156], [-0.5639579666480146, -1.597241223078429, 3.062804578675101], [-0.037798518791539906, -1.5958994952961567, 3.114751366143153], [0.4310854689012004, -1.4338210278385985, 3.163593301710904], [0.7975452595565304, -1.1464870420157476, 3.209281698674781], [1.0327495443331083, -0.7806495066185047, 3.2517710138470766], [1.126429876870378, -0.38775040775103564, 3.2910188929543827], [1.0866776832534937, -0.017156694802502183, 3.326986212857257], [0.9374317224814748, 0.28993134344968086, 3.3596371205490154], [0.7140800623104151, 0.5051550771092675, 3.3889390688947896], [0.4578252367888013, 0.6157172846080788, 3.41486284907522], [0.20959848823245614, 0.6248753471679307, 3.4373826197024426], [0.004343318435652078, 0.5502320084152958, 3.456475932579343], [-0.13358255100910968, 0.4201337066934612, 3.47212375507641], [-0.1933036202962425, 0.26872686114541905, 3.4843104891038768], [-0.17827655510490442, 0.13038749371084346, 3.493023986660231], [-0.10502812982736587, 0.03430911379727688, 3.4982555619416105], [-8.572527594031472e-16, 2.099663695726601e-30, 3.5]], &quot;color&quot;: &quot;#ffff00&quot;, &quot;opacity&quot;: 1.0, &quot;linewidth&quot;: 2.0}];\n",
       "    for ( var i=0 ; i &lt; lines.length ; i++ ) addLine( lines[i] );\n",
       "\n",
       "    function addLine( json ) {\n",
       "\n",
       "        var geometry = new THREE.Geometry();\n",
       "        for ( var i=0 ; i &lt; json.points.length ; i++ ) {\n",
       "            var v = json.points[i];\n",
       "            geometry.vertices.push( new THREE.Vector3( a[0]*v[0], a[1]*v[1], a[2]*v[2] ) );\n",
       "        }\n",
       "\n",
       "        var c = new THREE.Vector3();\n",
       "        geometry.computeBoundingBox();\n",
       "        geometry.boundingBox.getCenter( c );\n",
       "        geometry.translate( -c.x, -c.y, -c.z );\n",
       "\n",
       "        var transparent = json.opacity &lt; 1 ? true : false;\n",
       "        var materialOptions = { color: json.color, linewidth: json.linewidth,\n",
       "                                transparent: transparent, opacity: json.opacity };\n",
       "\n",
       "        var mesh;\n",
       "        if ( json.linewidth &gt; 1 &amp;&amp; window.createFatLineStrip ) {\n",
       "            mesh = createFatLineStrip( geometry, materialOptions );\n",
       "        } else {\n",
       "            var material = new THREE.LineBasicMaterial( materialOptions );\n",
       "            mesh = new THREE.Line( geometry, material );\n",
       "        }\n",
       "\n",
       "        mesh.position.set( c.x, c.y, c.z );\n",
       "        mesh.userData = json;\n",
       "        scene.add( mesh );\n",
       "\n",
       "    }\n",
       "\n",
       "    var surfaces = [{&quot;vertices&quot;: [{&quot;x&quot;: 0.0, &quot;y&quot;: 0.0, &quot;z&quot;: -3.5}, {&quot;x&quot;: 0.5392025590347782, &quot;y&quot;: 0.09507595922488028, &quot;z&quot;: -3.456909192082982}, {&quot;x&quot;: 0.5475206276408082, &quot;y&quot;: 0.0, &quot;z&quot;: -3.456909192082982}, {&quot;x&quot;: 0.5145010935221366, &quot;y&quot;: 0.1872630835394693, &quot;z&quot;: -3.456909192082982}, {&quot;x&quot;: 0.47416677263294027, &quot;y&quot;: 0.27376031382040406, &quot;z&quot;: -3.456909192082982}, {&quot;x&quot;: 0.41942513429725625, &quot;y&quot;: 0.3519394754953088, &quot;z&quot;: -3.456909192082982}, {&quot;x&quot;: 0.35193947549530885, &quot;y&quot;: 0.41942513429725625, &quot;z&quot;: -3.456909192082982}, {&quot;x&quot;: 0.27376031382040417, &quot;y&quot;: 0.4741667726329402, &quot;z&quot;: -3.456909192082982}, {&quot;x&quot;: 0.18726308353946938, &quot;y&quot;: 0.5145010935221366, &quot;z&quot;: -3.456909192082982}, {&quot;x&quot;: 0.09507595922488031, &quot;y&quot;: 0.5392025590347782, &quot;z&quot;: -3.456909192082982}, {&quot;x&quot;: 3.3525969205373284e-17, &quot;y&quot;: 0.5475206276408082, &quot;z&quot;: -3.456909192082982}, {&quot;x&quot;: -0.09507595922488025, &quot;y&quot;: 0.5392025590347782, &quot;z&quot;: -3.456909192082982}, {&quot;x&quot;: -0.18726308353946922, &quot;y&quot;: 0.5145010935221366, &quot;z&quot;: -3.456909192082982}, {&quot;x&quot;: -0.273760313820404, &quot;y&quot;: 0.47416677263294027, &quot;z&quot;: -3.456909192082982}, {&quot;x&quot;: -0.35193947549530885, &quot;y&quot;: 0.41942513429725625, &quot;z&quot;: -3.456909192082982}, {&quot;x&quot;: -0.4194251342972562, &quot;y&quot;: 0.35193947549530896, &quot;z&quot;: -3.456909192082982}, {&quot;x&quot;: -0.47416677263294016, &quot;y&quot;: 0.2737603138204043, &quot;z&quot;: -3.456909192082982}, {&quot;x&quot;: -0.5145010935221366, &quot;y&quot;: 0.1872630835394694, &quot;z&quot;: -3.456909192082982}, {&quot;x&quot;: -0.5392025590347782, &quot;y&quot;: 0.09507595922488024, &quot;z&quot;: -3.456909192082982}, {&quot;x&quot;: -0.5475206276408082, &quot;y&quot;: 6.705193841074657e-17, &quot;z&quot;: -3.456909192082982}, {&quot;x&quot;: -0.5392025590347782, &quot;y&quot;: -0.0950759592248801, &quot;z&quot;: -3.456909192082982}, {&quot;x&quot;: -0.5145010935221366, &quot;y&quot;: -0.1872630835394693, &quot;z&quot;: -3.456909192082982}, {&quot;x&quot;: -0.4741667726329402, &quot;y&quot;: -0.27376031382040417, &quot;z&quot;: -3.456909192082982}, {&quot;x&quot;: -0.4194251342972564, &quot;y&quot;: -0.3519394754953087, &quot;z&quot;: -3.456909192082982}, {&quot;x&quot;: -0.35193947549530896, &quot;y&quot;: -0.4194251342972562, &quot;z&quot;: -3.456909192082982}, {&quot;x&quot;: -0.2737603138204044, &quot;y&quot;: -0.4741667726329401, &quot;z&quot;: -3.456909192082982}, {&quot;x&quot;: -0.18726308353946924, &quot;y&quot;: -0.5145010935221366, &quot;z&quot;: -3.456909192082982}, {&quot;x&quot;: -0.09507595922488028, &quot;y&quot;: -0.5392025590347782, &quot;z&quot;: -3.456909192082982}, {&quot;x&quot;: -1.0057790761611984e-16, &quot;y&quot;: -0.5475206276408082, &quot;z&quot;: -3.456909192082982}, {&quot;x&quot;: 0.09507595922488007, &quot;y&quot;: -0.5392025590347782, &quot;z&quot;: -3.456909192082982}, {&quot;x&quot;: 0.1872630835394695, &quot;y&quot;: -0.5145010935221366, &quot;z&quot;: -3.456909192082982}, {&quot;x&quot;: 0.2737603138204038, &quot;y&quot;: -0.47416677263294044, &quot;z&quot;: -3.456909192082982}, {&quot;x&quot;: 0.3519394754953088, &quot;y&quot;: -0.41942513429725636, &quot;z&quot;: -3.456909192082982}, {&quot;x&quot;: 0.41942513429725614, &quot;y&quot;: -0.351939475495309, &quot;z&quot;: -3.456909192082982}, {&quot;x&quot;: 0.47416677263294027, &quot;y&quot;: -0.27376031382040394, &quot;z&quot;: -3.456909192082982}, {&quot;x&quot;: 0.5145010935221366, &quot;y&quot;: -0.18726308353946927, &quot;z&quot;: -3.456909192082982}, {&quot;x&quot;: 0.5392025590347782, &quot;y&quot;: -0.09507595922488031, &quot;z&quot;: -3.456909192082982}, {&quot;x&quot;: 1.0651281615554233, &quot;y&quot;: 0.1878108327946259, &quot;z&quot;: -3.3286978070330373}, {&quot;x&quot;: 1.081559480312316, &quot;y&quot;: 0.0, &quot;z&quot;: -3.3286978070330373}, {&quot;x&quot;: 1.0163334625905254, &quot;y&quot;: 0.3699151284716541, &quot;z&quot;: -3.3286978070330373}, {&quot;x&quot;: 0.9366579856543613, &quot;y&quot;: 0.5407797401561579, &quot;z&quot;: -3.3286978070330373}, {&quot;x&quot;: 0.8285226297958994, &quot;y&quot;: 0.6952130330837691, &quot;z&quot;: -3.3286978070330373}, {&quot;x&quot;: 0.6952130330837694, &quot;y&quot;: 0.8285226297958994, &quot;z&quot;: -3.3286978070330373}, {&quot;x&quot;: 0.5407797401561582, &quot;y&quot;: 0.9366579856543611, &quot;z&quot;: -3.3286978070330373}, {&quot;x&quot;: 0.36991512847165425, &quot;y&quot;: 1.0163334625905254, &quot;z&quot;: -3.3286978070330373}, {&quot;x&quot;: 0.187810832794626, &quot;y&quot;: 1.0651281615554233, &quot;z&quot;: -3.3286978070330373}, {&quot;x&quot;: 6.622641778259763e-17, &quot;y&quot;: 1.081559480312316, &quot;z&quot;: -3.3286978070330373}, {&quot;x&quot;: -0.18781083279462588, &quot;y&quot;: 1.0651281615554233, &quot;z&quot;: -3.3286978070330373}, {&quot;x&quot;: -0.36991512847165386, &quot;y&quot;: 1.0163334625905254, &quot;z&quot;: -3.3286978070330373}, {&quot;x&quot;: -0.5407797401561578, &quot;y&quot;: 0.9366579856543613, &quot;z&quot;: -3.3286978070330373}, {&quot;x&quot;: -0.6952130330837694, &quot;y&quot;: 0.8285226297958994, &quot;z&quot;: -3.3286978070330373}, {&quot;x&quot;: -0.8285226297958993, &quot;y&quot;: 0.6952130330837695, &quot;z&quot;: -3.3286978070330373}, {&quot;x&quot;: -0.936657985654361, &quot;y&quot;: 0.5407797401561584, &quot;z&quot;: -3.3286978070330373}, {&quot;x&quot;: -1.0163334625905254, &quot;y&quot;: 0.3699151284716543, &quot;z&quot;: -3.3286978070330373}, {&quot;x&quot;: -1.0651281615554233, &quot;y&quot;: 0.18781083279462585, &quot;z&quot;: -3.3286978070330373}, {&quot;x&quot;: -1.081559480312316, &quot;y&quot;: 1.3245283556519527e-16, &quot;z&quot;: -3.3286978070330373}, {&quot;x&quot;: -1.0651281615554236, &quot;y&quot;: -0.18781083279462557, &quot;z&quot;: -3.3286978070330373}, {&quot;x&quot;: -1.0163334625905254, &quot;y&quot;: -0.3699151284716541, &quot;z&quot;: -3.3286978070330373}, {&quot;x&quot;: -0.9366579856543611, &quot;y&quot;: -0.5407797401561582, &quot;z&quot;: -3.3286978070330373}, {&quot;x&quot;: -0.8285226297958997, &quot;y&quot;: -0.6952130330837689, &quot;z&quot;: -3.3286978070330373}, {&quot;x&quot;: -0.6952130330837695, &quot;y&quot;: -0.8285226297958993, &quot;z&quot;: -3.3286978070330373}, {&quot;x&quot;: -0.5407797401561585, &quot;y&quot;: -0.9366579856543609, &quot;z&quot;: -3.3286978070330373}, {&quot;x&quot;: -0.369915128471654, &quot;y&quot;: -1.0163334625905254, &quot;z&quot;: -3.3286978070330373}, {&quot;x&quot;: -0.1878108327946259, &quot;y&quot;: -1.0651281615554233, &quot;z&quot;: -3.3286978070330373}, {&quot;x&quot;: -1.986792533477929e-16, &quot;y&quot;: -1.081559480312316, &quot;z&quot;: -3.3286978070330373}, {&quot;x&quot;: 0.1878108327946255, &quot;y&quot;: -1.0651281615554236, &quot;z&quot;: -3.3286978070330373}, {&quot;x&quot;: 0.3699151284716544, &quot;y&quot;: -1.0163334625905254, &quot;z&quot;: -3.3286978070330373}, {&quot;x&quot;: 0.5407797401561574, &quot;y&quot;: -0.9366579856543615, &quot;z&quot;: -3.3286978070330373}, {&quot;x&quot;: 0.6952130330837691, &quot;y&quot;: -0.8285226297958996, &quot;z&quot;: -3.3286978070330373}, {&quot;x&quot;: 0.8285226297958992, &quot;y&quot;: -0.6952130330837696, &quot;z&quot;: -3.3286978070330373}, {&quot;x&quot;: 0.9366579856543613, &quot;y&quot;: -0.5407797401561577, &quot;z&quot;: -3.3286978070330373}, {&quot;x&quot;: 1.0163334625905254, &quot;y&quot;: -0.36991512847165403, &quot;z&quot;: -3.3286978070330373}, {&quot;x&quot;: 1.0651281615554233, &quot;y&quot;: -0.187810832794626, &quot;z&quot;: -3.3286978070330373}, {&quot;x&quot;: 1.5648267737808739, &quot;y&quot;: 0.27592118035254964, &quot;z&quot;: -3.1185228346592875}, {&quot;x&quot;: 1.588966749088414, &quot;y&quot;: 0.0, &quot;z&quot;: -3.1185228346592875}, {&quot;x&quot;: 1.4931403287925566, &quot;y&quot;: 0.5434586352629412, &quot;z&quot;: -3.1185228346592875}, {&quot;x&quot;: 1.3760855704793407, &quot;y&quot;: 0.7944833745442069, &quot;z&quot;: -3.1185228346592875}, {&quot;x&quot;: 1.217219148440007, &quot;y&quot;: 1.0213681385179325, &quot;z&quot;: -3.1185228346592875}, {&quot;x&quot;: 1.0213681385179327, &quot;y&quot;: 1.217219148440007, &quot;z&quot;: -3.1185228346592875}, {&quot;x&quot;: 0.7944833745442073, &quot;y&quot;: 1.3760855704793404, &quot;z&quot;: -3.1185228346592875}, {&quot;x&quot;: 0.5434586352629414, &quot;y&quot;: 1.4931403287925566, &quot;z&quot;: -3.1185228346592875}, {&quot;x&quot;: 0.27592118035254976, &quot;y&quot;: 1.5648267737808739, &quot;z&quot;: -3.1185228346592875}, {&quot;x&quot;: 9.729615216113509e-17, &quot;y&quot;: 1.588966749088414, &quot;z&quot;: -3.1185228346592875}, {&quot;x&quot;: -0.2759211803525496, &quot;y&quot;: 1.5648267737808739, &quot;z&quot;: -3.1185228346592875}, {&quot;x&quot;: -0.5434586352629409, &quot;y&quot;: 1.4931403287925566, &quot;z&quot;: -3.1185228346592875}, {&quot;x&quot;: -0.7944833745442067, &quot;y&quot;: 1.3760855704793407, &quot;z&quot;: -3.1185228346592875}, {&quot;x&quot;: -1.0213681385179327, &quot;y&quot;: 1.217219148440007, &quot;z&quot;: -3.1185228346592875}, {&quot;x&quot;: -1.2172191484400068, &quot;y&quot;: 1.021368138517933, &quot;z&quot;: -3.1185228346592875}, {&quot;x&quot;: -1.3760855704793402, &quot;y&quot;: 0.7944833745442075, &quot;z&quot;: -3.1185228346592875}, {&quot;x&quot;: -1.4931403287925566, &quot;y&quot;: 0.5434586352629415, &quot;z&quot;: -3.1185228346592875}, {&quot;x&quot;: -1.5648267737808739, &quot;y&quot;: 0.27592118035254953, &quot;z&quot;: -3.1185228346592875}, {&quot;x&quot;: -1.588966749088414, &quot;y&quot;: 1.9459230432227017e-16, &quot;z&quot;: -3.1185228346592875}, {&quot;x&quot;: -1.564826773780874, &quot;y&quot;: -0.27592118035254914, &quot;z&quot;: -3.1185228346592875}, {&quot;x&quot;: -1.4931403287925566, &quot;y&quot;: -0.5434586352629412, &quot;z&quot;: -3.1185228346592875}, {&quot;x&quot;: -1.3760855704793404, &quot;y&quot;: -0.7944833745442073, &quot;z&quot;: -3.1185228346592875}, {&quot;x&quot;: -1.2172191484400074, &quot;y&quot;: -1.021368138517932, &quot;z&quot;: -3.1185228346592875}, {&quot;x&quot;: -1.021368138517933, &quot;y&quot;: -1.2172191484400068, &quot;z&quot;: -3.1185228346592875}, {&quot;x&quot;: -0.7944833745442077, &quot;y&quot;: -1.3760855704793402, &quot;z&quot;: -3.1185228346592875}, {&quot;x&quot;: -0.543458635262941, &quot;y&quot;: -1.4931403287925566, &quot;z&quot;: -3.1185228346592875}, {&quot;x&quot;: -0.27592118035254964, &quot;y&quot;: -1.5648267737808739, &quot;z&quot;: -3.1185228346592875}, {&quot;x&quot;: -2.9188845648340523e-16, &quot;y&quot;: -1.588966749088414, &quot;z&quot;: -3.1185228346592875}, {&quot;x&quot;: 0.27592118035254903, &quot;y&quot;: -1.564826773780874, &quot;z&quot;: -3.1185228346592875}, {&quot;x&quot;: 0.5434586352629417, &quot;y&quot;: -1.4931403287925566, &quot;z&quot;: -3.1185228346592875}, {&quot;x&quot;: 0.794483374544206, &quot;y&quot;: -1.376085570479341, &quot;z&quot;: -3.1185228346592875}, {&quot;x&quot;: 1.0213681385179325, &quot;y&quot;: -1.2172191484400072, &quot;z&quot;: -3.1185228346592875}, {&quot;x&quot;: 1.2172191484400066, &quot;y&quot;: -1.0213681385179332, &quot;z&quot;: -3.1185228346592875}, {&quot;x&quot;: 1.3760855704793407, &quot;y&quot;: -0.7944833745442065, &quot;z&quot;: -3.1185228346592875}, {&quot;x&quot;: 1.4931403287925566, &quot;y&quot;: -0.5434586352629411, &quot;z&quot;: -3.1185228346592875}, {&quot;x&quot;: 1.5648267737808739, &quot;y&quot;: -0.27592118035254976, &quot;z&quot;: -3.1185228346592875}, {&quot;x&quot;: 2.0259941574735247, &quot;y&quot;: 0.35723743272029695, &quot;z&quot;: -2.831559480312316}, {&quot;x&quot;: 2.057248383023656, &quot;y&quot;: 0.0, &quot;z&quot;: -2.831559480312316}, {&quot;x&quot;: 1.9331811246510715, &quot;y&quot;: 0.703620386818251, &quot;z&quot;: -2.831559480312316}, {&quot;x&quot;: 1.7816293615929455, &quot;y&quot;: 1.028624191511828, &quot;z&quot;: -2.831559480312316}, {&quot;x&quot;: 1.5759436919307745, &quot;y&quot;: 1.3223737706552736, &quot;z&quot;: -2.831559480312316}, {&quot;x&quot;: 1.3223737706552738, &quot;y&quot;: 1.5759436919307745, &quot;z&quot;: -2.831559480312316}, {&quot;x&quot;: 1.0286241915118282, &quot;y&quot;: 1.781629361592945, &quot;z&quot;: -2.831559480312316}, {&quot;x&quot;: 0.7036203868182512, &quot;y&quot;: 1.9331811246510715, &quot;z&quot;: -2.831559480312316}, {&quot;x&quot;: 0.35723743272029707, &quot;y&quot;: 2.0259941574735247, &quot;z&quot;: -2.831559480312316}, {&quot;x&quot;: 1.2597013236604943e-16, &quot;y&quot;: 2.057248383023656, &quot;z&quot;: -2.831559480312316}, {&quot;x&quot;: -0.3572374327202969, &quot;y&quot;: 2.0259941574735247, &quot;z&quot;: -2.831559480312316}, {&quot;x&quot;: -0.7036203868182506, &quot;y&quot;: 1.9331811246510715, &quot;z&quot;: -2.831559480312316}, {&quot;x&quot;: -1.0286241915118275, &quot;y&quot;: 1.7816293615929455, &quot;z&quot;: -2.831559480312316}, {&quot;x&quot;: -1.3223737706552738, &quot;y&quot;: 1.5759436919307745, &quot;z&quot;: -2.831559480312316}, {&quot;x&quot;: -1.5759436919307743, &quot;y&quot;: 1.3223737706552743, &quot;z&quot;: -2.831559480312316}, {&quot;x&quot;: -1.7816293615929448, &quot;y&quot;: 1.0286241915118286, &quot;z&quot;: -2.831559480312316}, {&quot;x&quot;: -1.9331811246510715, &quot;y&quot;: 0.7036203868182513, &quot;z&quot;: -2.831559480312316}, {&quot;x&quot;: -2.0259941574735247, &quot;y&quot;: 0.35723743272029684, &quot;z&quot;: -2.831559480312316}, {&quot;x&quot;: -2.057248383023656, &quot;y&quot;: 2.5194026473209885e-16, &quot;z&quot;: -2.831559480312316}, {&quot;x&quot;: -2.025994157473525, &quot;y&quot;: -0.3572374327202963, &quot;z&quot;: -2.831559480312316}, {&quot;x&quot;: -1.9331811246510715, &quot;y&quot;: -0.703620386818251, &quot;z&quot;: -2.831559480312316}, {&quot;x&quot;: -1.781629361592945, &quot;y&quot;: -1.0286241915118282, &quot;z&quot;: -2.831559480312316}, {&quot;x&quot;: -1.575943691930775, &quot;y&quot;: -1.3223737706552732, &quot;z&quot;: -2.831559480312316}, {&quot;x&quot;: -1.3223737706552743, &quot;y&quot;: -1.5759436919307743, &quot;z&quot;: -2.831559480312316}, {&quot;x&quot;: -1.0286241915118288, &quot;y&quot;: -1.7816293615929446, &quot;z&quot;: -2.831559480312316}, {&quot;x&quot;: -0.7036203868182507, &quot;y&quot;: -1.9331811246510715, &quot;z&quot;: -2.831559480312316}, {&quot;x&quot;: -0.35723743272029695, &quot;y&quot;: -2.0259941574735247, &quot;z&quot;: -2.831559480312316}, {&quot;x&quot;: -3.7791039709814823e-16, &quot;y&quot;: -2.057248383023656, &quot;z&quot;: -2.831559480312316}, {&quot;x&quot;: 0.3572374327202962, &quot;y&quot;: -2.025994157473525, &quot;z&quot;: -2.831559480312316}, {&quot;x&quot;: 0.7036203868182517, &quot;y&quot;: -1.9331811246510715, &quot;z&quot;: -2.831559480312316}, {&quot;x&quot;: 1.0286241915118266, &quot;y&quot;: -1.781629361592946, &quot;z&quot;: -2.831559480312316}, {&quot;x&quot;: 1.3223737706552736, &quot;y&quot;: -1.5759436919307748, &quot;z&quot;: -2.831559480312316}, {&quot;x&quot;: 1.575943691930774, &quot;y&quot;: -1.3223737706552745, &quot;z&quot;: -2.831559480312316}, {&quot;x&quot;: 1.7816293615929455, &quot;y&quot;: -1.0286241915118273, &quot;z&quot;: -2.831559480312316}, {&quot;x&quot;: 1.9331811246510715, &quot;y&quot;: -0.7036203868182509, &quot;z&quot;: -2.831559480312316}, {&quot;x&quot;: 2.0259941574735247, &quot;y&quot;: -0.35723743272029707, &quot;z&quot;: -2.831559480312316}, {&quot;x&quot;: 2.4372748411200664, &quot;y&quot;: 0.429757313891405, &quot;z&quot;: -2.474873734152916}, {&quot;x&quot;: 2.4748737341529163, &quot;y&quot;: 0.0, &quot;z&quot;: -2.474873734152916}, {&quot;x&quot;: 2.3256205853603618, &quot;y&quot;: 0.8464566692679134, &quot;z&quot;: -2.474873734152916}, {&quot;x&quot;: 2.1433035249352814, &quot;y&quot;: 1.2374368670764582, &quot;z&quot;: -2.474873734152916}, {&quot;x&quot;: 1.8958632714689565, &quot;y&quot;: 1.5908181718521526, &quot;z&quot;: -2.474873734152916}, {&quot;x&quot;: 1.590818171852153, &quot;y&quot;: 1.8958632714689565, &quot;z&quot;: -2.474873734152916}, {&quot;x&quot;: 1.2374368670764586, &quot;y&quot;: 2.143303524935281, &quot;z&quot;: -2.474873734152916}, {&quot;x&quot;: 0.8464566692679136, &quot;y&quot;: 2.3256205853603618, &quot;z&quot;: -2.474873734152916}, {&quot;x&quot;: 0.4297573138914051, &quot;y&quot;: 2.4372748411200664, &quot;z&quot;: -2.474873734152916}, {&quot;x&quot;: 1.5154230984121134e-16, &quot;y&quot;: 2.4748737341529163, &quot;z&quot;: -2.474873734152916}, {&quot;x&quot;: -0.42975731389140487, &quot;y&quot;: 2.4372748411200664, &quot;z&quot;: -2.474873734152916}, {&quot;x&quot;: -0.8464566692679129, &quot;y&quot;: 2.3256205853603618, &quot;z&quot;: -2.474873734152916}, {&quot;x&quot;: -1.2374368670764577, &quot;y&quot;: 2.1433035249352814, &quot;z&quot;: -2.474873734152916}, {&quot;x&quot;: -1.590818171852153, &quot;y&quot;: 1.8958632714689565, &quot;z&quot;: -2.474873734152916}, {&quot;x&quot;: -1.8958632714689563, &quot;y&quot;: 1.5908181718521532, &quot;z&quot;: -2.474873734152916}, {&quot;x&quot;: -2.1433035249352805, &quot;y&quot;: 1.237436867076459, &quot;z&quot;: -2.474873734152916}, {&quot;x&quot;: -2.3256205853603618, &quot;y&quot;: 0.8464566692679139, &quot;z&quot;: -2.474873734152916}, {&quot;x&quot;: -2.4372748411200664, &quot;y&quot;: 0.4297573138914048, &quot;z&quot;: -2.474873734152916}, {&quot;x&quot;: -2.4748737341529163, &quot;y&quot;: 3.030846196824227e-16, &quot;z&quot;: -2.474873734152916}, {&quot;x&quot;: -2.4372748411200664, &quot;y&quot;: -0.42975731389140415, &quot;z&quot;: -2.474873734152916}, {&quot;x&quot;: -2.3256205853603618, &quot;y&quot;: -0.8464566692679134, &quot;z&quot;: -2.474873734152916}, {&quot;x&quot;: -2.143303524935281, &quot;y&quot;: -1.2374368670764586, &quot;z&quot;: -2.474873734152916}, {&quot;x&quot;: -1.8958632714689572, &quot;y&quot;: -1.590818171852152, &quot;z&quot;: -2.474873734152916}, {&quot;x&quot;: -1.5908181718521532, &quot;y&quot;: -1.8958632714689563, &quot;z&quot;: -2.474873734152916}, {&quot;x&quot;: -1.2374368670764593, &quot;y&quot;: -2.14330352493528, &quot;z&quot;: -2.474873734152916}, {&quot;x&quot;: -0.8464566692679131, &quot;y&quot;: -2.3256205853603618, &quot;z&quot;: -2.474873734152916}, {&quot;x&quot;: -0.429757313891405, &quot;y&quot;: -2.4372748411200664, &quot;z&quot;: -2.474873734152916}, {&quot;x&quot;: -4.54626929523634e-16, &quot;y&quot;: -2.4748737341529163, &quot;z&quot;: -2.474873734152916}, {&quot;x&quot;: 0.42975731389140404, &quot;y&quot;: -2.4372748411200664, &quot;z&quot;: -2.474873734152916}, {&quot;x&quot;: 0.8464566692679142, &quot;y&quot;: -2.3256205853603618, &quot;z&quot;: -2.474873734152916}, {&quot;x&quot;: 1.2374368670764566, &quot;y&quot;: -2.143303524935282, &quot;z&quot;: -2.474873734152916}, {&quot;x&quot;: 1.5908181718521526, &quot;y&quot;: -1.895863271468957, &quot;z&quot;: -2.474873734152916}, {&quot;x&quot;: 1.895863271468956, &quot;y&quot;: -1.5908181718521537, &quot;z&quot;: -2.474873734152916}, {&quot;x&quot;: 2.1433035249352814, &quot;y&quot;: -1.2374368670764575, &quot;z&quot;: -2.474873734152916}, {&quot;x&quot;: 2.3256205853603618, &quot;y&quot;: -0.8464566692679132, &quot;z&quot;: -2.474873734152916}, {&quot;x&quot;: 2.4372748411200664, &quot;y&quot;: -0.4297573138914051, &quot;z&quot;: -2.474873734152916}, {&quot;x&quot;: 2.7885417293267873, &quot;y&quot;: 0.491695143711754, &quot;z&quot;: -2.057248383023656}, {&quot;x&quot;: 2.831559480312316, &quot;y&quot;: 0.0, &quot;z&quot;: -2.057248383023656}, {&quot;x&quot;: 2.660795548965865, &quot;y&quot;: 0.9684503792915743, &quot;z&quot;: -2.057248383023656}, {&quot;x&quot;: 2.452202442277129, &quot;y&quot;: 1.4157797401561578, &quot;z&quot;: -2.057248383023656}, {&quot;x&quot;: 2.169100405254111, &quot;y&quot;: 1.8200913500352127, &quot;z&quot;: -2.057248383023656}, {&quot;x&quot;: 1.8200913500352132, &quot;y&quot;: 2.169100405254111, &quot;z&quot;: -2.057248383023656}, {&quot;x&quot;: 1.4157797401561585, &quot;y&quot;: 2.452202442277129, &quot;z&quot;: -2.057248383023656}, {&quot;x&quot;: 0.9684503792915746, &quot;y&quot;: 2.660795548965865, &quot;z&quot;: -2.057248383023656}, {&quot;x&quot;: 0.49169514371175416, &quot;y&quot;: 2.7885417293267873, &quot;z&quot;: -2.057248383023656}, {&quot;x&quot;: 1.7338301270799104e-16, &quot;y&quot;: 2.831559480312316, &quot;z&quot;: -2.057248383023656}, {&quot;x&quot;: -0.4916951437117539, &quot;y&quot;: 2.7885417293267873, &quot;z&quot;: -2.057248383023656}, {&quot;x&quot;: -0.9684503792915737, &quot;y&quot;: 2.660795548965865, &quot;z&quot;: -2.057248383023656}, {&quot;x&quot;: -1.4157797401561576, &quot;y&quot;: 2.452202442277129, &quot;z&quot;: -2.057248383023656}, {&quot;x&quot;: -1.8200913500352132, &quot;y&quot;: 2.169100405254111, &quot;z&quot;: -2.057248383023656}, {&quot;x&quot;: -2.1691004052541105, &quot;y&quot;: 1.8200913500352134, &quot;z&quot;: -2.057248383023656}, {&quot;x&quot;: -2.4522024422771285, &quot;y&quot;: 1.415779740156159, &quot;z&quot;: -2.057248383023656}, {&quot;x&quot;: -2.660795548965865, &quot;y&quot;: 0.9684503792915748, &quot;z&quot;: -2.057248383023656}, {&quot;x&quot;: -2.7885417293267873, &quot;y&quot;: 0.4916951437117538, &quot;z&quot;: -2.057248383023656}, {&quot;x&quot;: -2.831559480312316, &quot;y&quot;: 3.4676602541598207e-16, &quot;z&quot;: -2.057248383023656}, {&quot;x&quot;: -2.788541729326788, &quot;y&quot;: -0.4916951437117531, &quot;z&quot;: -2.057248383023656}, {&quot;x&quot;: -2.660795548965865, &quot;y&quot;: -0.9684503792915743, &quot;z&quot;: -2.057248383023656}, {&quot;x&quot;: -2.452202442277129, &quot;y&quot;: -1.4157797401561585, &quot;z&quot;: -2.057248383023656}, {&quot;x&quot;: -2.169100405254112, &quot;y&quot;: -1.820091350035212, &quot;z&quot;: -2.057248383023656}, {&quot;x&quot;: -1.8200913500352134, &quot;y&quot;: -2.1691004052541105, &quot;z&quot;: -2.057248383023656}, {&quot;x&quot;: -1.4157797401561594, &quot;y&quot;: -2.452202442277128, &quot;z&quot;: -2.057248383023656}, {&quot;x&quot;: -0.968450379291574, &quot;y&quot;: -2.660795548965865, &quot;z&quot;: -2.057248383023656}, {&quot;x&quot;: -0.491695143711754, &quot;y&quot;: -2.7885417293267873, &quot;z&quot;: -2.057248383023656}, {&quot;x&quot;: -5.201490381239731e-16, &quot;y&quot;: -2.831559480312316, &quot;z&quot;: -2.057248383023656}, {&quot;x&quot;: 0.49169514371175294, &quot;y&quot;: -2.788541729326788, &quot;z&quot;: -2.057248383023656}, {&quot;x&quot;: 0.9684503792915752, &quot;y&quot;: -2.660795548965865, &quot;z&quot;: -2.057248383023656}, {&quot;x&quot;: 1.4157797401561563, &quot;y&quot;: -2.45220244227713, &quot;z&quot;: -2.057248383023656}, {&quot;x&quot;: 1.8200913500352127, &quot;y&quot;: -2.1691004052541114, &quot;z&quot;: -2.057248383023656}, {&quot;x&quot;: 2.16910040525411, &quot;y&quot;: -1.8200913500352138, &quot;z&quot;: -2.057248383023656}, {&quot;x&quot;: 2.452202442277129, &quot;y&quot;: -1.4157797401561572, &quot;z&quot;: -2.057248383023656}, {&quot;x&quot;: 2.660795548965865, &quot;y&quot;: -0.9684503792915741, &quot;z&quot;: -2.057248383023656}, {&quot;x&quot;: 2.7885417293267873, &quot;y&quot;: -0.49169514371175416, &quot;z&quot;: -2.057248383023656}, {&quot;x&quot;: 3.0711454655180743, &quot;y&quot;: 0.5415258072512952, &quot;z&quot;: -1.5889667490884136}, {&quot;x&quot;: 3.1185228346592875, &quot;y&quot;: 0.0, &quot;z&quot;: -1.5889667490884136}, {&quot;x&quot;: 2.930452895481686, &quot;y&quot;: 1.06659762687454, &quot;z&quot;: -1.5889667490884136}, {&quot;x&quot;: 2.7007199970968023, &quot;y&quot;: 1.5592614173296435, &quot;z&quot;: -1.5889667490884136}, {&quot;x&quot;: 2.388927088230391, &quot;y&quot;: 2.004547838643534, &quot;z&quot;: -1.5889667490884136}, {&quot;x&quot;: 2.0045478386435343, &quot;y&quot;: 2.388927088230391, &quot;z&quot;: -1.5889667490884136}, {&quot;x&quot;: 1.5592614173296442, &quot;y&quot;: 2.700719997096802, &quot;z&quot;: -1.5889667490884136}, {&quot;x&quot;: 1.0665976268745405, &quot;y&quot;: 2.930452895481686, &quot;z&quot;: -1.5889667490884136}, {&quot;x&quot;: 0.5415258072512954, &quot;y&quot;: 3.0711454655180743, &quot;z&quot;: -1.5889667490884136}, {&quot;x&quot;: 1.9095445037667136e-16, &quot;y&quot;: 3.1185228346592875, &quot;z&quot;: -1.5889667490884136}, {&quot;x&quot;: -0.5415258072512951, &quot;y&quot;: 3.0711454655180743, &quot;z&quot;: -1.5889667490884136}, {&quot;x&quot;: -1.0665976268745396, &quot;y&quot;: 2.930452895481686, &quot;z&quot;: -1.5889667490884136}, {&quot;x&quot;: -1.5592614173296433, &quot;y&quot;: 2.7007199970968023, &quot;z&quot;: -1.5889667490884136}, {&quot;x&quot;: -2.0045478386435343, &quot;y&quot;: 2.388927088230391, &quot;z&quot;: -1.5889667490884136}, {&quot;x&quot;: -2.3889270882303903, &quot;y&quot;: 2.0045478386435347, &quot;z&quot;: -1.5889667490884136}, {&quot;x&quot;: -2.7007199970968014, &quot;y&quot;: 1.5592614173296448, &quot;z&quot;: -1.5889667490884136}, {&quot;x&quot;: -2.930452895481686, &quot;y&quot;: 1.0665976268745407, &quot;z&quot;: -1.5889667490884136}, {&quot;x&quot;: -3.0711454655180743, &quot;y&quot;: 0.541525807251295, &quot;z&quot;: -1.5889667490884136}, {&quot;x&quot;: -3.1185228346592875, &quot;y&quot;: 3.819089007533427e-16, &quot;z&quot;: -1.5889667490884136}, {&quot;x&quot;: -3.0711454655180748, &quot;y&quot;: -0.5415258072512942, &quot;z&quot;: -1.5889667490884136}, {&quot;x&quot;: -2.930452895481686, &quot;y&quot;: -1.06659762687454, &quot;z&quot;: -1.5889667490884136}, {&quot;x&quot;: -2.700719997096802, &quot;y&quot;: -1.5592614173296442, &quot;z&quot;: -1.5889667490884136}, {&quot;x&quot;: -2.3889270882303917, &quot;y&quot;: -2.0045478386435334, &quot;z&quot;: -1.5889667490884136}, {&quot;x&quot;: -2.0045478386435347, &quot;y&quot;: -2.3889270882303903, &quot;z&quot;: -1.5889667490884136}, {&quot;x&quot;: -1.5592614173296453, &quot;y&quot;: -2.700719997096801, &quot;z&quot;: -1.5889667490884136}, {&quot;x&quot;: -1.0665976268745399, &quot;y&quot;: -2.930452895481686, &quot;z&quot;: -1.5889667490884136}, {&quot;x&quot;: -0.5415258072512952, &quot;y&quot;: -3.0711454655180743, &quot;z&quot;: -1.5889667490884136}, {&quot;x&quot;: -5.728633511300141e-16, &quot;y&quot;: -3.1185228346592875, &quot;z&quot;: -1.5889667490884136}, {&quot;x&quot;: 0.541525807251294, &quot;y&quot;: -3.0711454655180748, &quot;z&quot;: -1.5889667490884136}, {&quot;x&quot;: 1.0665976268745412, &quot;y&quot;: -2.930452895481686, &quot;z&quot;: -1.5889667490884136}, {&quot;x&quot;: 1.5592614173296417, &quot;y&quot;: -2.7007199970968028, &quot;z&quot;: -1.5889667490884136}, {&quot;x&quot;: 2.004547838643534, &quot;y&quot;: -2.3889270882303912, &quot;z&quot;: -1.5889667490884136}, {&quot;x&quot;: 2.38892708823039, &quot;y&quot;: -2.004547838643535, &quot;z&quot;: -1.5889667490884136}, {&quot;x&quot;: 2.7007199970968023, &quot;y&quot;: -1.5592614173296429, &quot;z&quot;: -1.5889667490884136}, {&quot;x&quot;: 2.930452895481686, &quot;y&quot;: -1.06659762687454, &quot;z&quot;: -1.5889667490884136}, {&quot;x&quot;: 3.0711454655180743, &quot;y&quot;: -0.5415258072512954, &quot;z&quot;: -1.5889667490884136}, {&quot;x&quot;: 3.27812740780087, &quot;y&quot;: 0.5780223081951943, &quot;z&quot;: -1.0815594803123159}, {&quot;x&quot;: 3.3286978070330373, &quot;y&quot;: 0.0, &quot;z&quot;: -1.0815594803123159}, {&quot;x&quot;: 3.1279527660951807, &quot;y&quot;: 1.1384817010492785, &quot;z&quot;: -1.0815594803123159}, {&quot;x&quot;: 2.882736862412162, &quot;y&quot;: 1.6643489035165184, &quot;z&quot;: -1.0815594803123159}, {&quot;x&quot;: 2.5499304578999866, &quot;y&quot;: 2.139645706751591, &quot;z&quot;: -1.0815594803123159}, {&quot;x&quot;: 2.1396457067515913, &quot;y&quot;: 2.5499304578999866, &quot;z&quot;: -1.0815594803123159}, {&quot;x&quot;: 1.664348903516519, &quot;y&quot;: 2.8827368624121616, &quot;z&quot;: -1.0815594803123159}, {&quot;x&quot;: 1.138481701049279, &quot;y&quot;: 3.1279527660951807, &quot;z&quot;: -1.0815594803123159}, {&quot;x&quot;: 0.5780223081951945, &quot;y&quot;: 3.27812740780087, &quot;z&quot;: -1.0815594803123159}, {&quot;x&quot;: 2.0382395573559115e-16, &quot;y&quot;: 3.3286978070330373, &quot;z&quot;: -1.0815594803123159}, {&quot;x&quot;: -0.5780223081951942, &quot;y&quot;: 3.27812740780087, &quot;z&quot;: -1.0815594803123159}, {&quot;x&quot;: -1.1384817010492778, &quot;y&quot;: 3.1279527660951807, &quot;z&quot;: -1.0815594803123159}, {&quot;x&quot;: -1.664348903516518, &quot;y&quot;: 2.882736862412162, &quot;z&quot;: -1.0815594803123159}, {&quot;x&quot;: -2.1396457067515913, &quot;y&quot;: 2.5499304578999866, &quot;z&quot;: -1.0815594803123159}, {&quot;x&quot;: -2.549930457899986, &quot;y&quot;: 2.1396457067515917, &quot;z&quot;: -1.0815594803123159}, {&quot;x&quot;: -2.882736862412161, &quot;y&quot;: 1.6643489035165198, &quot;z&quot;: -1.0815594803123159}, {&quot;x&quot;: -3.1279527660951807, &quot;y&quot;: 1.1384817010492791, &quot;z&quot;: -1.0815594803123159}, {&quot;x&quot;: -3.27812740780087, &quot;y&quot;: 0.5780223081951941, &quot;z&quot;: -1.0815594803123159}, {&quot;x&quot;: -3.3286978070330373, &quot;y&quot;: 4.076479114711823e-16, &quot;z&quot;: -1.0815594803123159}, {&quot;x&quot;: -3.2781274078008704, &quot;y&quot;: -0.5780223081951932, &quot;z&quot;: -1.0815594803123159}, {&quot;x&quot;: -3.1279527660951807, &quot;y&quot;: -1.1384817010492785, &quot;z&quot;: -1.0815594803123159}, {&quot;x&quot;: -2.8827368624121616, &quot;y&quot;: -1.664348903516519, &quot;z&quot;: -1.0815594803123159}, {&quot;x&quot;: -2.5499304578999875, &quot;y&quot;: -2.13964570675159, &quot;z&quot;: -1.0815594803123159}, {&quot;x&quot;: -2.1396457067515917, &quot;y&quot;: -2.549930457899986, &quot;z&quot;: -1.0815594803123159}, {&quot;x&quot;: -1.6643489035165202, &quot;y&quot;: -2.8827368624121608, &quot;z&quot;: -1.0815594803123159}, {&quot;x&quot;: -1.138481701049278, &quot;y&quot;: -3.1279527660951807, &quot;z&quot;: -1.0815594803123159}, {&quot;x&quot;: -0.5780223081951943, &quot;y&quot;: -3.27812740780087, &quot;z&quot;: -1.0815594803123159}, {&quot;x&quot;: -6.114718672067734e-16, &quot;y&quot;: -3.3286978070330373, &quot;z&quot;: -1.0815594803123159}, {&quot;x&quot;: 0.578022308195193, &quot;y&quot;: -3.2781274078008704, &quot;z&quot;: -1.0815594803123159}, {&quot;x&quot;: 1.1384817010492796, &quot;y&quot;: -3.1279527660951807, &quot;z&quot;: -1.0815594803123159}, {&quot;x&quot;: 1.6643489035165167, &quot;y&quot;: -2.882736862412163, &quot;z&quot;: -1.0815594803123159}, {&quot;x&quot;: 2.139645706751591, &quot;y&quot;: -2.549930457899987, &quot;z&quot;: -1.0815594803123159}, {&quot;x&quot;: 2.5499304578999857, &quot;y&quot;: -2.139645706751592, &quot;z&quot;: -1.0815594803123159}, {&quot;x&quot;: 2.882736862412162, &quot;y&quot;: -1.6643489035165175, &quot;z&quot;: -1.0815594803123159}, {&quot;x&quot;: 3.1279527660951807, &quot;y&quot;: -1.1384817010492783, &quot;z&quot;: -1.0815594803123159}, {&quot;x&quot;: 3.27812740780087, &quot;y&quot;: -0.5780223081951945, &quot;z&quot;: -1.0815594803123159}, {&quot;x&quot;: 3.404390973822489, &quot;y&quot;: 0.6002859815652702, &quot;z&quot;: -0.547520627640808}, {&quot;x&quot;: 3.456909192082982, &quot;y&quot;: 0.0, &quot;z&quot;: -0.547520627640808}, {&quot;x&quot;: 3.2484320585273547, &quot;y&quot;: 1.182332577340043, &quot;z&quot;: -0.547520627640808}, {&quot;x&quot;: 2.9937711789198027, &quot;y&quot;: 1.728454596041491, &quot;z&quot;: -0.547520627640808}, {&quot;x&quot;: 2.6481460769620844, &quot;y&quot;: 2.2220583964824456, &quot;z&quot;: -0.547520627640808}, {&quot;x&quot;: 2.222058396482446, &quot;y&quot;: 2.6481460769620844, &quot;z&quot;: -0.547520627640808}, {&quot;x&quot;: 1.7284545960414914, &quot;y&quot;: 2.9937711789198023, &quot;z&quot;: -0.547520627640808}, {&quot;x&quot;: 1.1823325773400435, &quot;y&quot;: 3.2484320585273547, &quot;z&quot;: -0.547520627640808}, {&quot;x&quot;: 0.6002859815652705, &quot;y&quot;: 3.404390973822489, &quot;z&quot;: -0.547520627640808}, {&quot;x&quot;: 2.1167463885137434e-16, &quot;y&quot;: 3.456909192082982, &quot;z&quot;: -0.547520627640808}, {&quot;x&quot;: -0.6002859815652701, &quot;y&quot;: 3.404390973822489, &quot;z&quot;: -0.547520627640808}, {&quot;x&quot;: -1.1823325773400424, &quot;y&quot;: 3.2484320585273547, &quot;z&quot;: -0.547520627640808}, {&quot;x&quot;: -1.7284545960414905, &quot;y&quot;: 2.9937711789198027, &quot;z&quot;: -0.547520627640808}, {&quot;x&quot;: -2.222058396482446, &quot;y&quot;: 2.6481460769620844, &quot;z&quot;: -0.547520627640808}, {&quot;x&quot;: -2.648146076962084, &quot;y&quot;: 2.2220583964824465, &quot;z&quot;: -0.547520627640808}, {&quot;x&quot;: -2.993771178919802, &quot;y&quot;: 1.728454596041492, &quot;z&quot;: -0.547520627640808}, {&quot;x&quot;: -3.2484320585273547, &quot;y&quot;: 1.1823325773400437, &quot;z&quot;: -0.547520627640808}, {&quot;x&quot;: -3.404390973822489, &quot;y&quot;: 0.6002859815652701, &quot;z&quot;: -0.547520627640808}, {&quot;x&quot;: -3.456909192082982, &quot;y&quot;: 4.233492777027487e-16, &quot;z&quot;: -0.547520627640808}, {&quot;x&quot;: -3.4043909738224896, &quot;y&quot;: -0.6002859815652692, &quot;z&quot;: -0.547520627640808}, {&quot;x&quot;: -3.2484320585273547, &quot;y&quot;: -1.182332577340043, &quot;z&quot;: -0.547520627640808}, {&quot;x&quot;: -2.9937711789198023, &quot;y&quot;: -1.7284545960414914, &quot;z&quot;: -0.547520627640808}, {&quot;x&quot;: -2.6481460769620853, &quot;y&quot;: -2.2220583964824447, &quot;z&quot;: -0.547520627640808}, {&quot;x&quot;: -2.2220583964824465, &quot;y&quot;: -2.648146076962084, &quot;z&quot;: -0.547520627640808}, {&quot;x&quot;: -1.7284545960414925, &quot;y&quot;: -2.9937711789198014, &quot;z&quot;: -0.547520627640808}, {&quot;x&quot;: -1.1823325773400426, &quot;y&quot;: -3.2484320585273547, &quot;z&quot;: -0.547520627640808}, {&quot;x&quot;: -0.6002859815652702, &quot;y&quot;: -3.404390973822489, &quot;z&quot;: -0.547520627640808}, {&quot;x&quot;: -6.35023916554123e-16, &quot;y&quot;: -3.456909192082982, &quot;z&quot;: -0.547520627640808}, {&quot;x&quot;: 0.600285981565269, &quot;y&quot;: -3.4043909738224896, &quot;z&quot;: -0.547520627640808}, {&quot;x&quot;: 1.1823325773400442, &quot;y&quot;: -3.2484320585273547, &quot;z&quot;: -0.547520627640808}, {&quot;x&quot;: 1.728454596041489, &quot;y&quot;: -2.9937711789198036, &quot;z&quot;: -0.547520627640808}, {&quot;x&quot;: 2.2220583964824456, &quot;y&quot;: -2.648146076962085, &quot;z&quot;: -0.547520627640808}, {&quot;x&quot;: 2.6481460769620835, &quot;y&quot;: -2.222058396482447, &quot;z&quot;: -0.547520627640808}, {&quot;x&quot;: 2.9937711789198027, &quot;y&quot;: -1.72845459604149, &quot;z&quot;: -0.547520627640808}, {&quot;x&quot;: 3.2484320585273547, &quot;y&quot;: -1.1823325773400428, &quot;z&quot;: -0.547520627640808}, {&quot;x&quot;: 3.404390973822489, &quot;y&quot;: -0.6002859815652705, &quot;z&quot;: -0.547520627640808}, {&quot;x&quot;: 3.446827135542728, &quot;y&quot;: 0.6077686218342562, &quot;z&quot;: 0.0}, {&quot;x&quot;: 3.5, &quot;y&quot;: 0.0, &quot;z&quot;: 0.0}, {&quot;x&quot;: 3.2889241727506793, &quot;y&quot;: 1.1970705016398404, &quot;z&quot;: 0.0}, {&quot;x&quot;: 3.0310889132455356, &quot;y&quot;: 1.7499999999999998, &quot;z&quot;: 0.0}, {&quot;x&quot;: 2.681155550916423, &quot;y&quot;: 2.249756633902887, &quot;z&quot;: 0.0}, {&quot;x&quot;: 2.2497566339028876, &quot;y&quot;: 2.681155550916423, &quot;z&quot;: 0.0}, {&quot;x&quot;: 1.7500000000000004, &quot;y&quot;: 3.031088913245535, &quot;z&quot;: 0.0}, {&quot;x&quot;: 1.1970705016398409, &quot;y&quot;: 3.2889241727506793, &quot;z&quot;: 0.0}, {&quot;x&quot;: 0.6077686218342564, &quot;y&quot;: 3.446827135542728, &quot;z&quot;: 0.0}, {&quot;x&quot;: 2.143131898507868e-16, &quot;y&quot;: 3.5, &quot;z&quot;: 0.0}, {&quot;x&quot;: -0.6077686218342561, &quot;y&quot;: 3.446827135542728, &quot;z&quot;: 0.0}, {&quot;x&quot;: -1.1970705016398397, &quot;y&quot;: 3.2889241727506793, &quot;z&quot;: 0.0}, {&quot;x&quot;: -1.7499999999999993, &quot;y&quot;: 3.0310889132455356, &quot;z&quot;: 0.0}, {&quot;x&quot;: -2.2497566339028876, &quot;y&quot;: 2.681155550916423, &quot;z&quot;: 0.0}, {&quot;x&quot;: -2.6811555509164227, &quot;y&quot;: 2.249756633902888, &quot;z&quot;: 0.0}, {&quot;x&quot;: -3.0310889132455348, &quot;y&quot;: 1.750000000000001, &quot;z&quot;: 0.0}, {&quot;x&quot;: -3.2889241727506793, &quot;y&quot;: 1.197070501639841, &quot;z&quot;: 0.0}, {&quot;x&quot;: -3.446827135542728, &quot;y&quot;: 0.607768621834256, &quot;z&quot;: 0.0}, {&quot;x&quot;: -3.5, &quot;y&quot;: 4.286263797015736e-16, &quot;z&quot;: 0.0}, {&quot;x&quot;: -3.4468271355427285, &quot;y&quot;: -0.6077686218342551, &quot;z&quot;: 0.0}, {&quot;x&quot;: -3.2889241727506793, &quot;y&quot;: -1.1970705016398404, &quot;z&quot;: 0.0}, {&quot;x&quot;: -3.031088913245535, &quot;y&quot;: -1.7500000000000004, &quot;z&quot;: 0.0}, {&quot;x&quot;: -2.681155550916424, &quot;y&quot;: -2.2497566339028863, &quot;z&quot;: 0.0}, {&quot;x&quot;: -2.249756633902888, &quot;y&quot;: -2.6811555509164227, &quot;z&quot;: 0.0}, {&quot;x&quot;: -1.7500000000000016, &quot;y&quot;: -3.0310889132455343, &quot;z&quot;: 0.0}, {&quot;x&quot;: -1.19707050163984, &quot;y&quot;: -3.2889241727506793, &quot;z&quot;: 0.0}, {&quot;x&quot;: -0.6077686218342562, &quot;y&quot;: -3.446827135542728, &quot;z&quot;: 0.0}, {&quot;x&quot;: -6.429395695523604e-16, &quot;y&quot;: -3.5, &quot;z&quot;: 0.0}, {&quot;x&quot;: 0.6077686218342548, &quot;y&quot;: -3.4468271355427285, &quot;z&quot;: 0.0}, {&quot;x&quot;: 1.1970705016398415, &quot;y&quot;: -3.2889241727506793, &quot;z&quot;: 0.0}, {&quot;x&quot;: 1.7499999999999978, &quot;y&quot;: -3.0310889132455365, &quot;z&quot;: 0.0}, {&quot;x&quot;: 2.249756633902887, &quot;y&quot;: -2.6811555509164235, &quot;z&quot;: 0.0}, {&quot;x&quot;: 2.681155550916422, &quot;y&quot;: -2.2497566339028885, &quot;z&quot;: 0.0}, {&quot;x&quot;: 3.0310889132455356, &quot;y&quot;: -1.749999999999999, &quot;z&quot;: 0.0}, {&quot;x&quot;: 3.2889241727506793, &quot;y&quot;: -1.1970705016398402, &quot;z&quot;: 0.0}, {&quot;x&quot;: 3.446827135542728, &quot;y&quot;: -0.6077686218342564, &quot;z&quot;: 0.0}, {&quot;x&quot;: 3.404390973822489, &quot;y&quot;: 0.6002859815652702, &quot;z&quot;: 0.5475206276408072}, {&quot;x&quot;: 3.456909192082982, &quot;y&quot;: 0.0, &quot;z&quot;: 0.5475206276408072}, {&quot;x&quot;: 3.2484320585273547, &quot;y&quot;: 1.182332577340043, &quot;z&quot;: 0.5475206276408072}, {&quot;x&quot;: 2.9937711789198027, &quot;y&quot;: 1.728454596041491, &quot;z&quot;: 0.5475206276408072}, {&quot;x&quot;: 2.6481460769620844, &quot;y&quot;: 2.2220583964824456, &quot;z&quot;: 0.5475206276408072}, {&quot;x&quot;: 2.222058396482446, &quot;y&quot;: 2.6481460769620844, &quot;z&quot;: 0.5475206276408072}, {&quot;x&quot;: 1.7284545960414914, &quot;y&quot;: 2.9937711789198023, &quot;z&quot;: 0.5475206276408072}, {&quot;x&quot;: 1.1823325773400435, &quot;y&quot;: 3.2484320585273547, &quot;z&quot;: 0.5475206276408072}, {&quot;x&quot;: 0.6002859815652705, &quot;y&quot;: 3.404390973822489, &quot;z&quot;: 0.5475206276408072}, {&quot;x&quot;: 2.1167463885137434e-16, &quot;y&quot;: 3.456909192082982, &quot;z&quot;: 0.5475206276408072}, {&quot;x&quot;: -0.6002859815652701, &quot;y&quot;: 3.404390973822489, &quot;z&quot;: 0.5475206276408072}, {&quot;x&quot;: -1.1823325773400424, &quot;y&quot;: 3.2484320585273547, &quot;z&quot;: 0.5475206276408072}, {&quot;x&quot;: -1.7284545960414905, &quot;y&quot;: 2.9937711789198027, &quot;z&quot;: 0.5475206276408072}, {&quot;x&quot;: -2.222058396482446, &quot;y&quot;: 2.6481460769620844, &quot;z&quot;: 0.5475206276408072}, {&quot;x&quot;: -2.648146076962084, &quot;y&quot;: 2.2220583964824465, &quot;z&quot;: 0.5475206276408072}, {&quot;x&quot;: -2.993771178919802, &quot;y&quot;: 1.728454596041492, &quot;z&quot;: 0.5475206276408072}, {&quot;x&quot;: -3.2484320585273547, &quot;y&quot;: 1.1823325773400437, &quot;z&quot;: 0.5475206276408072}, {&quot;x&quot;: -3.404390973822489, &quot;y&quot;: 0.6002859815652701, &quot;z&quot;: 0.5475206276408072}, {&quot;x&quot;: -3.456909192082982, &quot;y&quot;: 4.233492777027487e-16, &quot;z&quot;: 0.5475206276408072}, {&quot;x&quot;: -3.4043909738224896, &quot;y&quot;: -0.6002859815652692, &quot;z&quot;: 0.5475206276408072}, {&quot;x&quot;: -3.2484320585273547, &quot;y&quot;: -1.182332577340043, &quot;z&quot;: 0.5475206276408072}, {&quot;x&quot;: -2.9937711789198023, &quot;y&quot;: -1.7284545960414914, &quot;z&quot;: 0.5475206276408072}, {&quot;x&quot;: -2.6481460769620853, &quot;y&quot;: -2.2220583964824447, &quot;z&quot;: 0.5475206276408072}, {&quot;x&quot;: -2.2220583964824465, &quot;y&quot;: -2.648146076962084, &quot;z&quot;: 0.5475206276408072}, {&quot;x&quot;: -1.7284545960414925, &quot;y&quot;: -2.9937711789198014, &quot;z&quot;: 0.5475206276408072}, {&quot;x&quot;: -1.1823325773400426, &quot;y&quot;: -3.2484320585273547, &quot;z&quot;: 0.5475206276408072}, {&quot;x&quot;: -0.6002859815652702, &quot;y&quot;: -3.404390973822489, &quot;z&quot;: 0.5475206276408072}, {&quot;x&quot;: -6.35023916554123e-16, &quot;y&quot;: -3.456909192082982, &quot;z&quot;: 0.5475206276408072}, {&quot;x&quot;: 0.600285981565269, &quot;y&quot;: -3.4043909738224896, &quot;z&quot;: 0.5475206276408072}, {&quot;x&quot;: 1.1823325773400442, &quot;y&quot;: -3.2484320585273547, &quot;z&quot;: 0.5475206276408072}, {&quot;x&quot;: 1.728454596041489, &quot;y&quot;: -2.9937711789198036, &quot;z&quot;: 0.5475206276408072}, {&quot;x&quot;: 2.2220583964824456, &quot;y&quot;: -2.648146076962085, &quot;z&quot;: 0.5475206276408072}, {&quot;x&quot;: 2.6481460769620835, &quot;y&quot;: -2.222058396482447, &quot;z&quot;: 0.5475206276408072}, {&quot;x&quot;: 2.9937711789198027, &quot;y&quot;: -1.72845459604149, &quot;z&quot;: 0.5475206276408072}, {&quot;x&quot;: 3.2484320585273547, &quot;y&quot;: -1.1823325773400428, &quot;z&quot;: 0.5475206276408072}, {&quot;x&quot;: 3.404390973822489, &quot;y&quot;: -0.6002859815652705, &quot;z&quot;: 0.5475206276408072}, {&quot;x&quot;: 3.27812740780087, &quot;y&quot;: 0.5780223081951943, &quot;z&quot;: 1.0815594803123159}, {&quot;x&quot;: 3.3286978070330373, &quot;y&quot;: 0.0, &quot;z&quot;: 1.0815594803123159}, {&quot;x&quot;: 3.1279527660951807, &quot;y&quot;: 1.1384817010492785, &quot;z&quot;: 1.0815594803123159}, {&quot;x&quot;: 2.882736862412162, &quot;y&quot;: 1.6643489035165184, &quot;z&quot;: 1.0815594803123159}, {&quot;x&quot;: 2.5499304578999866, &quot;y&quot;: 2.139645706751591, &quot;z&quot;: 1.0815594803123159}, {&quot;x&quot;: 2.1396457067515913, &quot;y&quot;: 2.5499304578999866, &quot;z&quot;: 1.0815594803123159}, {&quot;x&quot;: 1.664348903516519, &quot;y&quot;: 2.8827368624121616, &quot;z&quot;: 1.0815594803123159}, {&quot;x&quot;: 1.138481701049279, &quot;y&quot;: 3.1279527660951807, &quot;z&quot;: 1.0815594803123159}, {&quot;x&quot;: 0.5780223081951945, &quot;y&quot;: 3.27812740780087, &quot;z&quot;: 1.0815594803123159}, {&quot;x&quot;: 2.0382395573559115e-16, &quot;y&quot;: 3.3286978070330373, &quot;z&quot;: 1.0815594803123159}, {&quot;x&quot;: -0.5780223081951942, &quot;y&quot;: 3.27812740780087, &quot;z&quot;: 1.0815594803123159}, {&quot;x&quot;: -1.1384817010492778, &quot;y&quot;: 3.1279527660951807, &quot;z&quot;: 1.0815594803123159}, {&quot;x&quot;: -1.664348903516518, &quot;y&quot;: 2.882736862412162, &quot;z&quot;: 1.0815594803123159}, {&quot;x&quot;: -2.1396457067515913, &quot;y&quot;: 2.5499304578999866, &quot;z&quot;: 1.0815594803123159}, {&quot;x&quot;: -2.549930457899986, &quot;y&quot;: 2.1396457067515917, &quot;z&quot;: 1.0815594803123159}, {&quot;x&quot;: -2.882736862412161, &quot;y&quot;: 1.6643489035165198, &quot;z&quot;: 1.0815594803123159}, {&quot;x&quot;: -3.1279527660951807, &quot;y&quot;: 1.1384817010492791, &quot;z&quot;: 1.0815594803123159}, {&quot;x&quot;: -3.27812740780087, &quot;y&quot;: 0.5780223081951941, &quot;z&quot;: 1.0815594803123159}, {&quot;x&quot;: -3.3286978070330373, &quot;y&quot;: 4.076479114711823e-16, &quot;z&quot;: 1.0815594803123159}, {&quot;x&quot;: -3.2781274078008704, &quot;y&quot;: -0.5780223081951932, &quot;z&quot;: 1.0815594803123159}, {&quot;x&quot;: -3.1279527660951807, &quot;y&quot;: -1.1384817010492785, &quot;z&quot;: 1.0815594803123159}, {&quot;x&quot;: -2.8827368624121616, &quot;y&quot;: -1.664348903516519, &quot;z&quot;: 1.0815594803123159}, {&quot;x&quot;: -2.5499304578999875, &quot;y&quot;: -2.13964570675159, &quot;z&quot;: 1.0815594803123159}, {&quot;x&quot;: -2.1396457067515917, &quot;y&quot;: -2.549930457899986, &quot;z&quot;: 1.0815594803123159}, {&quot;x&quot;: -1.6643489035165202, &quot;y&quot;: -2.8827368624121608, &quot;z&quot;: 1.0815594803123159}, {&quot;x&quot;: -1.138481701049278, &quot;y&quot;: -3.1279527660951807, &quot;z&quot;: 1.0815594803123159}, {&quot;x&quot;: -0.5780223081951943, &quot;y&quot;: -3.27812740780087, &quot;z&quot;: 1.0815594803123159}, {&quot;x&quot;: -6.114718672067734e-16, &quot;y&quot;: -3.3286978070330373, &quot;z&quot;: 1.0815594803123159}, {&quot;x&quot;: 0.578022308195193, &quot;y&quot;: -3.2781274078008704, &quot;z&quot;: 1.0815594803123159}, {&quot;x&quot;: 1.1384817010492796, &quot;y&quot;: -3.1279527660951807, &quot;z&quot;: 1.0815594803123159}, {&quot;x&quot;: 1.6643489035165167, &quot;y&quot;: -2.882736862412163, &quot;z&quot;: 1.0815594803123159}, {&quot;x&quot;: 2.139645706751591, &quot;y&quot;: -2.549930457899987, &quot;z&quot;: 1.0815594803123159}, {&quot;x&quot;: 2.5499304578999857, &quot;y&quot;: -2.139645706751592, &quot;z&quot;: 1.0815594803123159}, {&quot;x&quot;: 2.882736862412162, &quot;y&quot;: -1.6643489035165175, &quot;z&quot;: 1.0815594803123159}, {&quot;x&quot;: 3.1279527660951807, &quot;y&quot;: -1.1384817010492783, &quot;z&quot;: 1.0815594803123159}, {&quot;x&quot;: 3.27812740780087, &quot;y&quot;: -0.5780223081951945, &quot;z&quot;: 1.0815594803123159}, {&quot;x&quot;: 3.0711454655180743, &quot;y&quot;: 0.5415258072512952, &quot;z&quot;: 1.5889667490884136}, {&quot;x&quot;: 3.1185228346592875, &quot;y&quot;: 0.0, &quot;z&quot;: 1.5889667490884136}, {&quot;x&quot;: 2.930452895481686, &quot;y&quot;: 1.06659762687454, &quot;z&quot;: 1.5889667490884136}, {&quot;x&quot;: 2.7007199970968023, &quot;y&quot;: 1.5592614173296435, &quot;z&quot;: 1.5889667490884136}, {&quot;x&quot;: 2.388927088230391, &quot;y&quot;: 2.004547838643534, &quot;z&quot;: 1.5889667490884136}, {&quot;x&quot;: 2.0045478386435343, &quot;y&quot;: 2.388927088230391, &quot;z&quot;: 1.5889667490884136}, {&quot;x&quot;: 1.5592614173296442, &quot;y&quot;: 2.700719997096802, &quot;z&quot;: 1.5889667490884136}, {&quot;x&quot;: 1.0665976268745405, &quot;y&quot;: 2.930452895481686, &quot;z&quot;: 1.5889667490884136}, {&quot;x&quot;: 0.5415258072512954, &quot;y&quot;: 3.0711454655180743, &quot;z&quot;: 1.5889667490884136}, {&quot;x&quot;: 1.9095445037667136e-16, &quot;y&quot;: 3.1185228346592875, &quot;z&quot;: 1.5889667490884136}, {&quot;x&quot;: -0.5415258072512951, &quot;y&quot;: 3.0711454655180743, &quot;z&quot;: 1.5889667490884136}, {&quot;x&quot;: -1.0665976268745396, &quot;y&quot;: 2.930452895481686, &quot;z&quot;: 1.5889667490884136}, {&quot;x&quot;: -1.5592614173296433, &quot;y&quot;: 2.7007199970968023, &quot;z&quot;: 1.5889667490884136}, {&quot;x&quot;: -2.0045478386435343, &quot;y&quot;: 2.388927088230391, &quot;z&quot;: 1.5889667490884136}, {&quot;x&quot;: -2.3889270882303903, &quot;y&quot;: 2.0045478386435347, &quot;z&quot;: 1.5889667490884136}, {&quot;x&quot;: -2.7007199970968014, &quot;y&quot;: 1.5592614173296448, &quot;z&quot;: 1.5889667490884136}, {&quot;x&quot;: -2.930452895481686, &quot;y&quot;: 1.0665976268745407, &quot;z&quot;: 1.5889667490884136}, {&quot;x&quot;: -3.0711454655180743, &quot;y&quot;: 0.541525807251295, &quot;z&quot;: 1.5889667490884136}, {&quot;x&quot;: -3.1185228346592875, &quot;y&quot;: 3.819089007533427e-16, &quot;z&quot;: 1.5889667490884136}, {&quot;x&quot;: -3.0711454655180748, &quot;y&quot;: -0.5415258072512942, &quot;z&quot;: 1.5889667490884136}, {&quot;x&quot;: -2.930452895481686, &quot;y&quot;: -1.06659762687454, &quot;z&quot;: 1.5889667490884136}, {&quot;x&quot;: -2.700719997096802, &quot;y&quot;: -1.5592614173296442, &quot;z&quot;: 1.5889667490884136}, {&quot;x&quot;: -2.3889270882303917, &quot;y&quot;: -2.0045478386435334, &quot;z&quot;: 1.5889667490884136}, {&quot;x&quot;: -2.0045478386435347, &quot;y&quot;: -2.3889270882303903, &quot;z&quot;: 1.5889667490884136}, {&quot;x&quot;: -1.5592614173296453, &quot;y&quot;: -2.700719997096801, &quot;z&quot;: 1.5889667490884136}, {&quot;x&quot;: -1.0665976268745399, &quot;y&quot;: -2.930452895481686, &quot;z&quot;: 1.5889667490884136}, {&quot;x&quot;: -0.5415258072512952, &quot;y&quot;: -3.0711454655180743, &quot;z&quot;: 1.5889667490884136}, {&quot;x&quot;: -5.728633511300141e-16, &quot;y&quot;: -3.1185228346592875, &quot;z&quot;: 1.5889667490884136}, {&quot;x&quot;: 0.541525807251294, &quot;y&quot;: -3.0711454655180748, &quot;z&quot;: 1.5889667490884136}, {&quot;x&quot;: 1.0665976268745412, &quot;y&quot;: -2.930452895481686, &quot;z&quot;: 1.5889667490884136}, {&quot;x&quot;: 1.5592614173296417, &quot;y&quot;: -2.7007199970968028, &quot;z&quot;: 1.5889667490884136}, {&quot;x&quot;: 2.004547838643534, &quot;y&quot;: -2.3889270882303912, &quot;z&quot;: 1.5889667490884136}, {&quot;x&quot;: 2.38892708823039, &quot;y&quot;: -2.004547838643535, &quot;z&quot;: 1.5889667490884136}, {&quot;x&quot;: 2.7007199970968023, &quot;y&quot;: -1.5592614173296429, &quot;z&quot;: 1.5889667490884136}, {&quot;x&quot;: 2.930452895481686, &quot;y&quot;: -1.06659762687454, &quot;z&quot;: 1.5889667490884136}, {&quot;x&quot;: 3.0711454655180743, &quot;y&quot;: -0.5415258072512954, &quot;z&quot;: 1.5889667490884136}, {&quot;x&quot;: 2.7885417293267873, &quot;y&quot;: 0.491695143711754, &quot;z&quot;: 2.057248383023656}, {&quot;x&quot;: 2.831559480312316, &quot;y&quot;: 0.0, &quot;z&quot;: 2.057248383023656}, {&quot;x&quot;: 2.660795548965865, &quot;y&quot;: 0.9684503792915743, &quot;z&quot;: 2.057248383023656}, {&quot;x&quot;: 2.452202442277129, &quot;y&quot;: 1.4157797401561578, &quot;z&quot;: 2.057248383023656}, {&quot;x&quot;: 2.169100405254111, &quot;y&quot;: 1.8200913500352127, &quot;z&quot;: 2.057248383023656}, {&quot;x&quot;: 1.8200913500352132, &quot;y&quot;: 2.169100405254111, &quot;z&quot;: 2.057248383023656}, {&quot;x&quot;: 1.4157797401561585, &quot;y&quot;: 2.452202442277129, &quot;z&quot;: 2.057248383023656}, {&quot;x&quot;: 0.9684503792915746, &quot;y&quot;: 2.660795548965865, &quot;z&quot;: 2.057248383023656}, {&quot;x&quot;: 0.49169514371175416, &quot;y&quot;: 2.7885417293267873, &quot;z&quot;: 2.057248383023656}, {&quot;x&quot;: 1.7338301270799104e-16, &quot;y&quot;: 2.831559480312316, &quot;z&quot;: 2.057248383023656}, {&quot;x&quot;: -0.4916951437117539, &quot;y&quot;: 2.7885417293267873, &quot;z&quot;: 2.057248383023656}, {&quot;x&quot;: -0.9684503792915737, &quot;y&quot;: 2.660795548965865, &quot;z&quot;: 2.057248383023656}, {&quot;x&quot;: -1.4157797401561576, &quot;y&quot;: 2.452202442277129, &quot;z&quot;: 2.057248383023656}, {&quot;x&quot;: -1.8200913500352132, &quot;y&quot;: 2.169100405254111, &quot;z&quot;: 2.057248383023656}, {&quot;x&quot;: -2.1691004052541105, &quot;y&quot;: 1.8200913500352134, &quot;z&quot;: 2.057248383023656}, {&quot;x&quot;: -2.4522024422771285, &quot;y&quot;: 1.415779740156159, &quot;z&quot;: 2.057248383023656}, {&quot;x&quot;: -2.660795548965865, &quot;y&quot;: 0.9684503792915748, &quot;z&quot;: 2.057248383023656}, {&quot;x&quot;: -2.7885417293267873, &quot;y&quot;: 0.4916951437117538, &quot;z&quot;: 2.057248383023656}, {&quot;x&quot;: -2.831559480312316, &quot;y&quot;: 3.4676602541598207e-16, &quot;z&quot;: 2.057248383023656}, {&quot;x&quot;: -2.788541729326788, &quot;y&quot;: -0.4916951437117531, &quot;z&quot;: 2.057248383023656}, {&quot;x&quot;: -2.660795548965865, &quot;y&quot;: -0.9684503792915743, &quot;z&quot;: 2.057248383023656}, {&quot;x&quot;: -2.452202442277129, &quot;y&quot;: -1.4157797401561585, &quot;z&quot;: 2.057248383023656}, {&quot;x&quot;: -2.169100405254112, &quot;y&quot;: -1.820091350035212, &quot;z&quot;: 2.057248383023656}, {&quot;x&quot;: -1.8200913500352134, &quot;y&quot;: -2.1691004052541105, &quot;z&quot;: 2.057248383023656}, {&quot;x&quot;: -1.4157797401561594, &quot;y&quot;: -2.452202442277128, &quot;z&quot;: 2.057248383023656}, {&quot;x&quot;: -0.968450379291574, &quot;y&quot;: -2.660795548965865, &quot;z&quot;: 2.057248383023656}, {&quot;x&quot;: -0.491695143711754, &quot;y&quot;: -2.7885417293267873, &quot;z&quot;: 2.057248383023656}, {&quot;x&quot;: -5.201490381239731e-16, &quot;y&quot;: -2.831559480312316, &quot;z&quot;: 2.057248383023656}, {&quot;x&quot;: 0.49169514371175294, &quot;y&quot;: -2.788541729326788, &quot;z&quot;: 2.057248383023656}, {&quot;x&quot;: 0.9684503792915752, &quot;y&quot;: -2.660795548965865, &quot;z&quot;: 2.057248383023656}, {&quot;x&quot;: 1.4157797401561563, &quot;y&quot;: -2.45220244227713, &quot;z&quot;: 2.057248383023656}, {&quot;x&quot;: 1.8200913500352127, &quot;y&quot;: -2.1691004052541114, &quot;z&quot;: 2.057248383023656}, {&quot;x&quot;: 2.16910040525411, &quot;y&quot;: -1.8200913500352138, &quot;z&quot;: 2.057248383023656}, {&quot;x&quot;: 2.452202442277129, &quot;y&quot;: -1.4157797401561572, &quot;z&quot;: 2.057248383023656}, {&quot;x&quot;: 2.660795548965865, &quot;y&quot;: -0.9684503792915741, &quot;z&quot;: 2.057248383023656}, {&quot;x&quot;: 2.7885417293267873, &quot;y&quot;: -0.49169514371175416, &quot;z&quot;: 2.057248383023656}, {&quot;x&quot;: 2.4372748411200664, &quot;y&quot;: 0.429757313891405, &quot;z&quot;: 2.474873734152916}, {&quot;x&quot;: 2.4748737341529163, &quot;y&quot;: 0.0, &quot;z&quot;: 2.474873734152916}, {&quot;x&quot;: 2.3256205853603618, &quot;y&quot;: 0.8464566692679134, &quot;z&quot;: 2.474873734152916}, {&quot;x&quot;: 2.1433035249352814, &quot;y&quot;: 1.2374368670764582, &quot;z&quot;: 2.474873734152916}, {&quot;x&quot;: 1.8958632714689565, &quot;y&quot;: 1.5908181718521526, &quot;z&quot;: 2.474873734152916}, {&quot;x&quot;: 1.590818171852153, &quot;y&quot;: 1.8958632714689565, &quot;z&quot;: 2.474873734152916}, {&quot;x&quot;: 1.2374368670764586, &quot;y&quot;: 2.143303524935281, &quot;z&quot;: 2.474873734152916}, {&quot;x&quot;: 0.8464566692679136, &quot;y&quot;: 2.3256205853603618, &quot;z&quot;: 2.474873734152916}, {&quot;x&quot;: 0.4297573138914051, &quot;y&quot;: 2.4372748411200664, &quot;z&quot;: 2.474873734152916}, {&quot;x&quot;: 1.5154230984121134e-16, &quot;y&quot;: 2.4748737341529163, &quot;z&quot;: 2.474873734152916}, {&quot;x&quot;: -0.42975731389140487, &quot;y&quot;: 2.4372748411200664, &quot;z&quot;: 2.474873734152916}, {&quot;x&quot;: -0.8464566692679129, &quot;y&quot;: 2.3256205853603618, &quot;z&quot;: 2.474873734152916}, {&quot;x&quot;: -1.2374368670764577, &quot;y&quot;: 2.1433035249352814, &quot;z&quot;: 2.474873734152916}, {&quot;x&quot;: -1.590818171852153, &quot;y&quot;: 1.8958632714689565, &quot;z&quot;: 2.474873734152916}, {&quot;x&quot;: -1.8958632714689563, &quot;y&quot;: 1.5908181718521532, &quot;z&quot;: 2.474873734152916}, {&quot;x&quot;: -2.1433035249352805, &quot;y&quot;: 1.237436867076459, &quot;z&quot;: 2.474873734152916}, {&quot;x&quot;: -2.3256205853603618, &quot;y&quot;: 0.8464566692679139, &quot;z&quot;: 2.474873734152916}, {&quot;x&quot;: -2.4372748411200664, &quot;y&quot;: 0.4297573138914048, &quot;z&quot;: 2.474873734152916}, {&quot;x&quot;: -2.4748737341529163, &quot;y&quot;: 3.030846196824227e-16, &quot;z&quot;: 2.474873734152916}, {&quot;x&quot;: -2.4372748411200664, &quot;y&quot;: -0.42975731389140415, &quot;z&quot;: 2.474873734152916}, {&quot;x&quot;: -2.3256205853603618, &quot;y&quot;: -0.8464566692679134, &quot;z&quot;: 2.474873734152916}, {&quot;x&quot;: -2.143303524935281, &quot;y&quot;: -1.2374368670764586, &quot;z&quot;: 2.474873734152916}, {&quot;x&quot;: -1.8958632714689572, &quot;y&quot;: -1.590818171852152, &quot;z&quot;: 2.474873734152916}, {&quot;x&quot;: -1.5908181718521532, &quot;y&quot;: -1.8958632714689563, &quot;z&quot;: 2.474873734152916}, {&quot;x&quot;: -1.2374368670764593, &quot;y&quot;: -2.14330352493528, &quot;z&quot;: 2.474873734152916}, {&quot;x&quot;: -0.8464566692679131, &quot;y&quot;: -2.3256205853603618, &quot;z&quot;: 2.474873734152916}, {&quot;x&quot;: -0.429757313891405, &quot;y&quot;: -2.4372748411200664, &quot;z&quot;: 2.474873734152916}, {&quot;x&quot;: -4.54626929523634e-16, &quot;y&quot;: -2.4748737341529163, &quot;z&quot;: 2.474873734152916}, {&quot;x&quot;: 0.42975731389140404, &quot;y&quot;: -2.4372748411200664, &quot;z&quot;: 2.474873734152916}, {&quot;x&quot;: 0.8464566692679142, &quot;y&quot;: -2.3256205853603618, &quot;z&quot;: 2.474873734152916}, {&quot;x&quot;: 1.2374368670764566, &quot;y&quot;: -2.143303524935282, &quot;z&quot;: 2.474873734152916}, {&quot;x&quot;: 1.5908181718521526, &quot;y&quot;: -1.895863271468957, &quot;z&quot;: 2.474873734152916}, {&quot;x&quot;: 1.895863271468956, &quot;y&quot;: -1.5908181718521537, &quot;z&quot;: 2.474873734152916}, {&quot;x&quot;: 2.1433035249352814, &quot;y&quot;: -1.2374368670764575, &quot;z&quot;: 2.474873734152916}, {&quot;x&quot;: 2.3256205853603618, &quot;y&quot;: -0.8464566692679132, &quot;z&quot;: 2.474873734152916}, {&quot;x&quot;: 2.4372748411200664, &quot;y&quot;: -0.4297573138914051, &quot;z&quot;: 2.474873734152916}, {&quot;x&quot;: 2.0259941574735247, &quot;y&quot;: 0.35723743272029695, &quot;z&quot;: 2.831559480312316}, {&quot;x&quot;: 2.057248383023656, &quot;y&quot;: 0.0, &quot;z&quot;: 2.831559480312316}, {&quot;x&quot;: 1.9331811246510715, &quot;y&quot;: 0.703620386818251, &quot;z&quot;: 2.831559480312316}, {&quot;x&quot;: 1.7816293615929455, &quot;y&quot;: 1.028624191511828, &quot;z&quot;: 2.831559480312316}, {&quot;x&quot;: 1.5759436919307745, &quot;y&quot;: 1.3223737706552736, &quot;z&quot;: 2.831559480312316}, {&quot;x&quot;: 1.3223737706552738, &quot;y&quot;: 1.5759436919307745, &quot;z&quot;: 2.831559480312316}, {&quot;x&quot;: 1.0286241915118282, &quot;y&quot;: 1.781629361592945, &quot;z&quot;: 2.831559480312316}, {&quot;x&quot;: 0.7036203868182512, &quot;y&quot;: 1.9331811246510715, &quot;z&quot;: 2.831559480312316}, {&quot;x&quot;: 0.35723743272029707, &quot;y&quot;: 2.0259941574735247, &quot;z&quot;: 2.831559480312316}, {&quot;x&quot;: 1.2597013236604943e-16, &quot;y&quot;: 2.057248383023656, &quot;z&quot;: 2.831559480312316}, {&quot;x&quot;: -0.3572374327202969, &quot;y&quot;: 2.0259941574735247, &quot;z&quot;: 2.831559480312316}, {&quot;x&quot;: -0.7036203868182506, &quot;y&quot;: 1.9331811246510715, &quot;z&quot;: 2.831559480312316}, {&quot;x&quot;: -1.0286241915118275, &quot;y&quot;: 1.7816293615929455, &quot;z&quot;: 2.831559480312316}, {&quot;x&quot;: -1.3223737706552738, &quot;y&quot;: 1.5759436919307745, &quot;z&quot;: 2.831559480312316}, {&quot;x&quot;: -1.5759436919307743, &quot;y&quot;: 1.3223737706552743, &quot;z&quot;: 2.831559480312316}, {&quot;x&quot;: -1.7816293615929448, &quot;y&quot;: 1.0286241915118286, &quot;z&quot;: 2.831559480312316}, {&quot;x&quot;: -1.9331811246510715, &quot;y&quot;: 0.7036203868182513, &quot;z&quot;: 2.831559480312316}, {&quot;x&quot;: -2.0259941574735247, &quot;y&quot;: 0.35723743272029684, &quot;z&quot;: 2.831559480312316}, {&quot;x&quot;: -2.057248383023656, &quot;y&quot;: 2.5194026473209885e-16, &quot;z&quot;: 2.831559480312316}, {&quot;x&quot;: -2.025994157473525, &quot;y&quot;: -0.3572374327202963, &quot;z&quot;: 2.831559480312316}, {&quot;x&quot;: -1.9331811246510715, &quot;y&quot;: -0.703620386818251, &quot;z&quot;: 2.831559480312316}, {&quot;x&quot;: -1.781629361592945, &quot;y&quot;: -1.0286241915118282, &quot;z&quot;: 2.831559480312316}, {&quot;x&quot;: -1.575943691930775, &quot;y&quot;: -1.3223737706552732, &quot;z&quot;: 2.831559480312316}, {&quot;x&quot;: -1.3223737706552743, &quot;y&quot;: -1.5759436919307743, &quot;z&quot;: 2.831559480312316}, {&quot;x&quot;: -1.0286241915118288, &quot;y&quot;: -1.7816293615929446, &quot;z&quot;: 2.831559480312316}, {&quot;x&quot;: -0.7036203868182507, &quot;y&quot;: -1.9331811246510715, &quot;z&quot;: 2.831559480312316}, {&quot;x&quot;: -0.35723743272029695, &quot;y&quot;: -2.0259941574735247, &quot;z&quot;: 2.831559480312316}, {&quot;x&quot;: -3.7791039709814823e-16, &quot;y&quot;: -2.057248383023656, &quot;z&quot;: 2.831559480312316}, {&quot;x&quot;: 0.3572374327202962, &quot;y&quot;: -2.025994157473525, &quot;z&quot;: 2.831559480312316}, {&quot;x&quot;: 0.7036203868182517, &quot;y&quot;: -1.9331811246510715, &quot;z&quot;: 2.831559480312316}, {&quot;x&quot;: 1.0286241915118266, &quot;y&quot;: -1.781629361592946, &quot;z&quot;: 2.831559480312316}, {&quot;x&quot;: 1.3223737706552736, &quot;y&quot;: -1.5759436919307748, &quot;z&quot;: 2.831559480312316}, {&quot;x&quot;: 1.575943691930774, &quot;y&quot;: -1.3223737706552745, &quot;z&quot;: 2.831559480312316}, {&quot;x&quot;: 1.7816293615929455, &quot;y&quot;: -1.0286241915118273, &quot;z&quot;: 2.831559480312316}, {&quot;x&quot;: 1.9331811246510715, &quot;y&quot;: -0.7036203868182509, &quot;z&quot;: 2.831559480312316}, {&quot;x&quot;: 2.0259941574735247, &quot;y&quot;: -0.35723743272029707, &quot;z&quot;: 2.831559480312316}, {&quot;x&quot;: 1.5648267737808739, &quot;y&quot;: 0.27592118035254964, &quot;z&quot;: 3.1185228346592875}, {&quot;x&quot;: 1.588966749088414, &quot;y&quot;: 0.0, &quot;z&quot;: 3.1185228346592875}, {&quot;x&quot;: 1.4931403287925566, &quot;y&quot;: 0.5434586352629412, &quot;z&quot;: 3.1185228346592875}, {&quot;x&quot;: 1.3760855704793407, &quot;y&quot;: 0.7944833745442069, &quot;z&quot;: 3.1185228346592875}, {&quot;x&quot;: 1.217219148440007, &quot;y&quot;: 1.0213681385179325, &quot;z&quot;: 3.1185228346592875}, {&quot;x&quot;: 1.0213681385179327, &quot;y&quot;: 1.217219148440007, &quot;z&quot;: 3.1185228346592875}, {&quot;x&quot;: 0.7944833745442073, &quot;y&quot;: 1.3760855704793404, &quot;z&quot;: 3.1185228346592875}, {&quot;x&quot;: 0.5434586352629414, &quot;y&quot;: 1.4931403287925566, &quot;z&quot;: 3.1185228346592875}, {&quot;x&quot;: 0.27592118035254976, &quot;y&quot;: 1.5648267737808739, &quot;z&quot;: 3.1185228346592875}, {&quot;x&quot;: 9.729615216113509e-17, &quot;y&quot;: 1.588966749088414, &quot;z&quot;: 3.1185228346592875}, {&quot;x&quot;: -0.2759211803525496, &quot;y&quot;: 1.5648267737808739, &quot;z&quot;: 3.1185228346592875}, {&quot;x&quot;: -0.5434586352629409, &quot;y&quot;: 1.4931403287925566, &quot;z&quot;: 3.1185228346592875}, {&quot;x&quot;: -0.7944833745442067, &quot;y&quot;: 1.3760855704793407, &quot;z&quot;: 3.1185228346592875}, {&quot;x&quot;: -1.0213681385179327, &quot;y&quot;: 1.217219148440007, &quot;z&quot;: 3.1185228346592875}, {&quot;x&quot;: -1.2172191484400068, &quot;y&quot;: 1.021368138517933, &quot;z&quot;: 3.1185228346592875}, {&quot;x&quot;: -1.3760855704793402, &quot;y&quot;: 0.7944833745442075, &quot;z&quot;: 3.1185228346592875}, {&quot;x&quot;: -1.4931403287925566, &quot;y&quot;: 0.5434586352629415, &quot;z&quot;: 3.1185228346592875}, {&quot;x&quot;: -1.5648267737808739, &quot;y&quot;: 0.27592118035254953, &quot;z&quot;: 3.1185228346592875}, {&quot;x&quot;: -1.588966749088414, &quot;y&quot;: 1.9459230432227017e-16, &quot;z&quot;: 3.1185228346592875}, {&quot;x&quot;: -1.564826773780874, &quot;y&quot;: -0.27592118035254914, &quot;z&quot;: 3.1185228346592875}, {&quot;x&quot;: -1.4931403287925566, &quot;y&quot;: -0.5434586352629412, &quot;z&quot;: 3.1185228346592875}, {&quot;x&quot;: -1.3760855704793404, &quot;y&quot;: -0.7944833745442073, &quot;z&quot;: 3.1185228346592875}, {&quot;x&quot;: -1.2172191484400074, &quot;y&quot;: -1.021368138517932, &quot;z&quot;: 3.1185228346592875}, {&quot;x&quot;: -1.021368138517933, &quot;y&quot;: -1.2172191484400068, &quot;z&quot;: 3.1185228346592875}, {&quot;x&quot;: -0.7944833745442077, &quot;y&quot;: -1.3760855704793402, &quot;z&quot;: 3.1185228346592875}, {&quot;x&quot;: -0.543458635262941, &quot;y&quot;: -1.4931403287925566, &quot;z&quot;: 3.1185228346592875}, {&quot;x&quot;: -0.27592118035254964, &quot;y&quot;: -1.5648267737808739, &quot;z&quot;: 3.1185228346592875}, {&quot;x&quot;: -2.9188845648340523e-16, &quot;y&quot;: -1.588966749088414, &quot;z&quot;: 3.1185228346592875}, {&quot;x&quot;: 0.27592118035254903, &quot;y&quot;: -1.564826773780874, &quot;z&quot;: 3.1185228346592875}, {&quot;x&quot;: 0.5434586352629417, &quot;y&quot;: -1.4931403287925566, &quot;z&quot;: 3.1185228346592875}, {&quot;x&quot;: 0.794483374544206, &quot;y&quot;: -1.376085570479341, &quot;z&quot;: 3.1185228346592875}, {&quot;x&quot;: 1.0213681385179325, &quot;y&quot;: -1.2172191484400072, &quot;z&quot;: 3.1185228346592875}, {&quot;x&quot;: 1.2172191484400066, &quot;y&quot;: -1.0213681385179332, &quot;z&quot;: 3.1185228346592875}, {&quot;x&quot;: 1.3760855704793407, &quot;y&quot;: -0.7944833745442065, &quot;z&quot;: 3.1185228346592875}, {&quot;x&quot;: 1.4931403287925566, &quot;y&quot;: -0.5434586352629411, &quot;z&quot;: 3.1185228346592875}, {&quot;x&quot;: 1.5648267737808739, &quot;y&quot;: -0.27592118035254976, &quot;z&quot;: 3.1185228346592875}, {&quot;x&quot;: 1.0651281615554233, &quot;y&quot;: 0.1878108327946259, &quot;z&quot;: 3.3286978070330373}, {&quot;x&quot;: 1.081559480312316, &quot;y&quot;: 0.0, &quot;z&quot;: 3.3286978070330373}, {&quot;x&quot;: 1.0163334625905254, &quot;y&quot;: 0.3699151284716541, &quot;z&quot;: 3.3286978070330373}, {&quot;x&quot;: 0.9366579856543613, &quot;y&quot;: 0.5407797401561579, &quot;z&quot;: 3.3286978070330373}, {&quot;x&quot;: 0.8285226297958994, &quot;y&quot;: 0.6952130330837691, &quot;z&quot;: 3.3286978070330373}, {&quot;x&quot;: 0.6952130330837694, &quot;y&quot;: 0.8285226297958994, &quot;z&quot;: 3.3286978070330373}, {&quot;x&quot;: 0.5407797401561582, &quot;y&quot;: 0.9366579856543611, &quot;z&quot;: 3.3286978070330373}, {&quot;x&quot;: 0.36991512847165425, &quot;y&quot;: 1.0163334625905254, &quot;z&quot;: 3.3286978070330373}, {&quot;x&quot;: 0.187810832794626, &quot;y&quot;: 1.0651281615554233, &quot;z&quot;: 3.3286978070330373}, {&quot;x&quot;: 6.622641778259763e-17, &quot;y&quot;: 1.081559480312316, &quot;z&quot;: 3.3286978070330373}, {&quot;x&quot;: -0.18781083279462588, &quot;y&quot;: 1.0651281615554233, &quot;z&quot;: 3.3286978070330373}, {&quot;x&quot;: -0.36991512847165386, &quot;y&quot;: 1.0163334625905254, &quot;z&quot;: 3.3286978070330373}, {&quot;x&quot;: -0.5407797401561578, &quot;y&quot;: 0.9366579856543613, &quot;z&quot;: 3.3286978070330373}, {&quot;x&quot;: -0.6952130330837694, &quot;y&quot;: 0.8285226297958994, &quot;z&quot;: 3.3286978070330373}, {&quot;x&quot;: -0.8285226297958993, &quot;y&quot;: 0.6952130330837695, &quot;z&quot;: 3.3286978070330373}, {&quot;x&quot;: -0.936657985654361, &quot;y&quot;: 0.5407797401561584, &quot;z&quot;: 3.3286978070330373}, {&quot;x&quot;: -1.0163334625905254, &quot;y&quot;: 0.3699151284716543, &quot;z&quot;: 3.3286978070330373}, {&quot;x&quot;: -1.0651281615554233, &quot;y&quot;: 0.18781083279462585, &quot;z&quot;: 3.3286978070330373}, {&quot;x&quot;: -1.081559480312316, &quot;y&quot;: 1.3245283556519527e-16, &quot;z&quot;: 3.3286978070330373}, {&quot;x&quot;: -1.0651281615554236, &quot;y&quot;: -0.18781083279462557, &quot;z&quot;: 3.3286978070330373}, {&quot;x&quot;: -1.0163334625905254, &quot;y&quot;: -0.3699151284716541, &quot;z&quot;: 3.3286978070330373}, {&quot;x&quot;: -0.9366579856543611, &quot;y&quot;: -0.5407797401561582, &quot;z&quot;: 3.3286978070330373}, {&quot;x&quot;: -0.8285226297958997, &quot;y&quot;: -0.6952130330837689, &quot;z&quot;: 3.3286978070330373}, {&quot;x&quot;: -0.6952130330837695, &quot;y&quot;: -0.8285226297958993, &quot;z&quot;: 3.3286978070330373}, {&quot;x&quot;: -0.5407797401561585, &quot;y&quot;: -0.9366579856543609, &quot;z&quot;: 3.3286978070330373}, {&quot;x&quot;: -0.369915128471654, &quot;y&quot;: -1.0163334625905254, &quot;z&quot;: 3.3286978070330373}, {&quot;x&quot;: -0.1878108327946259, &quot;y&quot;: -1.0651281615554233, &quot;z&quot;: 3.3286978070330373}, {&quot;x&quot;: -1.986792533477929e-16, &quot;y&quot;: -1.081559480312316, &quot;z&quot;: 3.3286978070330373}, {&quot;x&quot;: 0.1878108327946255, &quot;y&quot;: -1.0651281615554236, &quot;z&quot;: 3.3286978070330373}, {&quot;x&quot;: 0.3699151284716544, &quot;y&quot;: -1.0163334625905254, &quot;z&quot;: 3.3286978070330373}, {&quot;x&quot;: 0.5407797401561574, &quot;y&quot;: -0.9366579856543615, &quot;z&quot;: 3.3286978070330373}, {&quot;x&quot;: 0.6952130330837691, &quot;y&quot;: -0.8285226297958996, &quot;z&quot;: 3.3286978070330373}, {&quot;x&quot;: 0.8285226297958992, &quot;y&quot;: -0.6952130330837696, &quot;z&quot;: 3.3286978070330373}, {&quot;x&quot;: 0.9366579856543613, &quot;y&quot;: -0.5407797401561577, &quot;z&quot;: 3.3286978070330373}, {&quot;x&quot;: 1.0163334625905254, &quot;y&quot;: -0.36991512847165403, &quot;z&quot;: 3.3286978070330373}, {&quot;x&quot;: 1.0651281615554233, &quot;y&quot;: -0.187810832794626, &quot;z&quot;: 3.3286978070330373}, {&quot;x&quot;: 0.5392025590347782, &quot;y&quot;: 0.09507595922488028, &quot;z&quot;: 3.456909192082982}, {&quot;x&quot;: 0.5475206276408082, &quot;y&quot;: 0.0, &quot;z&quot;: 3.456909192082982}, {&quot;x&quot;: 0.5145010935221366, &quot;y&quot;: 0.1872630835394693, &quot;z&quot;: 3.456909192082982}, {&quot;x&quot;: 0.47416677263294027, &quot;y&quot;: 0.27376031382040406, &quot;z&quot;: 3.456909192082982}, {&quot;x&quot;: 0.41942513429725625, &quot;y&quot;: 0.3519394754953088, &quot;z&quot;: 3.456909192082982}, {&quot;x&quot;: 0.35193947549530885, &quot;y&quot;: 0.41942513429725625, &quot;z&quot;: 3.456909192082982}, {&quot;x&quot;: 0.27376031382040417, &quot;y&quot;: 0.4741667726329402, &quot;z&quot;: 3.456909192082982}, {&quot;x&quot;: 0.18726308353946938, &quot;y&quot;: 0.5145010935221366, &quot;z&quot;: 3.456909192082982}, {&quot;x&quot;: 0.09507595922488031, &quot;y&quot;: 0.5392025590347782, &quot;z&quot;: 3.456909192082982}, {&quot;x&quot;: 3.3525969205373284e-17, &quot;y&quot;: 0.5475206276408082, &quot;z&quot;: 3.456909192082982}, {&quot;x&quot;: -0.09507595922488025, &quot;y&quot;: 0.5392025590347782, &quot;z&quot;: 3.456909192082982}, {&quot;x&quot;: -0.18726308353946922, &quot;y&quot;: 0.5145010935221366, &quot;z&quot;: 3.456909192082982}, {&quot;x&quot;: -0.273760313820404, &quot;y&quot;: 0.47416677263294027, &quot;z&quot;: 3.456909192082982}, {&quot;x&quot;: -0.35193947549530885, &quot;y&quot;: 0.41942513429725625, &quot;z&quot;: 3.456909192082982}, {&quot;x&quot;: -0.4194251342972562, &quot;y&quot;: 0.35193947549530896, &quot;z&quot;: 3.456909192082982}, {&quot;x&quot;: -0.47416677263294016, &quot;y&quot;: 0.2737603138204043, &quot;z&quot;: 3.456909192082982}, {&quot;x&quot;: -0.5145010935221366, &quot;y&quot;: 0.1872630835394694, &quot;z&quot;: 3.456909192082982}, {&quot;x&quot;: -0.5392025590347782, &quot;y&quot;: 0.09507595922488024, &quot;z&quot;: 3.456909192082982}, {&quot;x&quot;: -0.5475206276408082, &quot;y&quot;: 6.705193841074657e-17, &quot;z&quot;: 3.456909192082982}, {&quot;x&quot;: -0.5392025590347782, &quot;y&quot;: -0.0950759592248801, &quot;z&quot;: 3.456909192082982}, {&quot;x&quot;: -0.5145010935221366, &quot;y&quot;: -0.1872630835394693, &quot;z&quot;: 3.456909192082982}, {&quot;x&quot;: -0.4741667726329402, &quot;y&quot;: -0.27376031382040417, &quot;z&quot;: 3.456909192082982}, {&quot;x&quot;: -0.4194251342972564, &quot;y&quot;: -0.3519394754953087, &quot;z&quot;: 3.456909192082982}, {&quot;x&quot;: -0.35193947549530896, &quot;y&quot;: -0.4194251342972562, &quot;z&quot;: 3.456909192082982}, {&quot;x&quot;: -0.2737603138204044, &quot;y&quot;: -0.4741667726329401, &quot;z&quot;: 3.456909192082982}, {&quot;x&quot;: -0.18726308353946924, &quot;y&quot;: -0.5145010935221366, &quot;z&quot;: 3.456909192082982}, {&quot;x&quot;: -0.09507595922488028, &quot;y&quot;: -0.5392025590347782, &quot;z&quot;: 3.456909192082982}, {&quot;x&quot;: -1.0057790761611984e-16, &quot;y&quot;: -0.5475206276408082, &quot;z&quot;: 3.456909192082982}, {&quot;x&quot;: 0.09507595922488007, &quot;y&quot;: -0.5392025590347782, &quot;z&quot;: 3.456909192082982}, {&quot;x&quot;: 0.1872630835394695, &quot;y&quot;: -0.5145010935221366, &quot;z&quot;: 3.456909192082982}, {&quot;x&quot;: 0.2737603138204038, &quot;y&quot;: -0.47416677263294044, &quot;z&quot;: 3.456909192082982}, {&quot;x&quot;: 0.3519394754953088, &quot;y&quot;: -0.41942513429725636, &quot;z&quot;: 3.456909192082982}, {&quot;x&quot;: 0.41942513429725614, &quot;y&quot;: -0.351939475495309, &quot;z&quot;: 3.456909192082982}, {&quot;x&quot;: 0.47416677263294027, &quot;y&quot;: -0.27376031382040394, &quot;z&quot;: 3.456909192082982}, {&quot;x&quot;: 0.5145010935221366, &quot;y&quot;: -0.18726308353946927, &quot;z&quot;: 3.456909192082982}, {&quot;x&quot;: 0.5392025590347782, &quot;y&quot;: -0.09507595922488031, &quot;z&quot;: 3.456909192082982}, {&quot;x&quot;: 0.0, &quot;y&quot;: 0.0, &quot;z&quot;: 3.5}], &quot;faces&quot;: [[0, 1, 2], [0, 3, 1], [0, 4, 3], [0, 5, 4], [0, 6, 5], [0, 7, 6], [0, 8, 7], [0, 9, 8], [0, 10, 9], [0, 11, 10], [0, 12, 11], [0, 13, 12], [0, 14, 13], [0, 15, 14], [0, 16, 15], [0, 17, 16], [0, 18, 17], [0, 19, 18], [0, 20, 19], [0, 21, 20], [0, 22, 21], [0, 23, 22], [0, 24, 23], [0, 25, 24], [0, 26, 25], [0, 27, 26], [0, 28, 27], [0, 29, 28], [0, 30, 29], [0, 31, 30], [0, 32, 31], [0, 33, 32], [0, 34, 33], [0, 35, 34], [0, 36, 35], [0, 2, 36], [2, 1, 37, 38], [1, 3, 39, 37], [3, 4, 40, 39], [4, 5, 41, 40], [5, 6, 42, 41], [6, 7, 43, 42], [7, 8, 44, 43], [8, 9, 45, 44], [9, 10, 46, 45], [10, 11, 47, 46], [11, 12, 48, 47], [12, 13, 49, 48], [13, 14, 50, 49], [14, 15, 51, 50], [15, 16, 52, 51], [16, 17, 53, 52], [17, 18, 54, 53], [18, 19, 55, 54], [19, 20, 56, 55], [20, 21, 57, 56], [21, 22, 58, 57], [22, 23, 59, 58], [23, 24, 60, 59], [24, 25, 61, 60], [25, 26, 62, 61], [26, 27, 63, 62], [27, 28, 64, 63], [28, 29, 65, 64], [29, 30, 66, 65], [30, 31, 67, 66], [31, 32, 68, 67], [32, 33, 69, 68], [33, 34, 70, 69], [34, 35, 71, 70], [35, 36, 72, 71], [36, 2, 38, 72], [38, 37, 73, 74], [37, 39, 75, 73], [39, 40, 76, 75], [40, 41, 77, 76], [41, 42, 78, 77], [42, 43, 79, 78], [43, 44, 80, 79], [44, 45, 81, 80], [45, 46, 82, 81], [46, 47, 83, 82], [47, 48, 84, 83], [48, 49, 85, 84], [49, 50, 86, 85], [50, 51, 87, 86], [51, 52, 88, 87], [52, 53, 89, 88], [53, 54, 90, 89], [54, 55, 91, 90], [55, 56, 92, 91], [56, 57, 93, 92], [57, 58, 94, 93], [58, 59, 95, 94], [59, 60, 96, 95], [60, 61, 97, 96], [61, 62, 98, 97], [62, 63, 99, 98], [63, 64, 100, 99], [64, 65, 101, 100], [65, 66, 102, 101], [66, 67, 103, 102], [67, 68, 104, 103], [68, 69, 105, 104], [69, 70, 106, 105], [70, 71, 107, 106], [71, 72, 108, 107], [72, 38, 74, 108], [74, 73, 109, 110], [73, 75, 111, 109], [75, 76, 112, 111], [76, 77, 113, 112], [77, 78, 114, 113], [78, 79, 115, 114], [79, 80, 116, 115], [80, 81, 117, 116], [81, 82, 118, 117], [82, 83, 119, 118], [83, 84, 120, 119], [84, 85, 121, 120], [85, 86, 122, 121], [86, 87, 123, 122], [87, 88, 124, 123], [88, 89, 125, 124], [89, 90, 126, 125], [90, 91, 127, 126], [91, 92, 128, 127], [92, 93, 129, 128], [93, 94, 130, 129], [94, 95, 131, 130], [95, 96, 132, 131], [96, 97, 133, 132], [97, 98, 134, 133], [98, 99, 135, 134], [99, 100, 136, 135], [100, 101, 137, 136], [101, 102, 138, 137], [102, 103, 139, 138], [103, 104, 140, 139], [104, 105, 141, 140], [105, 106, 142, 141], [106, 107, 143, 142], [107, 108, 144, 143], [108, 74, 110, 144], [110, 109, 145, 146], [109, 111, 147, 145], [111, 112, 148, 147], [112, 113, 149, 148], [113, 114, 150, 149], [114, 115, 151, 150], [115, 116, 152, 151], [116, 117, 153, 152], [117, 118, 154, 153], [118, 119, 155, 154], [119, 120, 156, 155], [120, 121, 157, 156], [121, 122, 158, 157], [122, 123, 159, 158], [123, 124, 160, 159], [124, 125, 161, 160], [125, 126, 162, 161], [126, 127, 163, 162], [127, 128, 164, 163], [128, 129, 165, 164], [129, 130, 166, 165], [130, 131, 167, 166], [131, 132, 168, 167], [132, 133, 169, 168], [133, 134, 170, 169], [134, 135, 171, 170], [135, 136, 172, 171], [136, 137, 173, 172], [137, 138, 174, 173], [138, 139, 175, 174], [139, 140, 176, 175], [140, 141, 177, 176], [141, 142, 178, 177], [142, 143, 179, 178], [143, 144, 180, 179], [144, 110, 146, 180], [146, 145, 181, 182], [145, 147, 183, 181], [147, 148, 184, 183], [148, 149, 185, 184], [149, 150, 186, 185], [150, 151, 187, 186], [151, 152, 188, 187], [152, 153, 189, 188], [153, 154, 190, 189], [154, 155, 191, 190], [155, 156, 192, 191], [156, 157, 193, 192], [157, 158, 194, 193], [158, 159, 195, 194], [159, 160, 196, 195], [160, 161, 197, 196], [161, 162, 198, 197], [162, 163, 199, 198], [163, 164, 200, 199], [164, 165, 201, 200], [165, 166, 202, 201], [166, 167, 203, 202], [167, 168, 204, 203], [168, 169, 205, 204], [169, 170, 206, 205], [170, 171, 207, 206], [171, 172, 208, 207], [172, 173, 209, 208], [173, 174, 210, 209], [174, 175, 211, 210], [175, 176, 212, 211], [176, 177, 213, 212], [177, 178, 214, 213], [178, 179, 215, 214], [179, 180, 216, 215], [180, 146, 182, 216], [182, 181, 217, 218], [181, 183, 219, 217], [183, 184, 220, 219], [184, 185, 221, 220], [185, 186, 222, 221], [186, 187, 223, 222], [187, 188, 224, 223], [188, 189, 225, 224], [189, 190, 226, 225], [190, 191, 227, 226], [191, 192, 228, 227], [192, 193, 229, 228], [193, 194, 230, 229], [194, 195, 231, 230], [195, 196, 232, 231], [196, 197, 233, 232], [197, 198, 234, 233], [198, 199, 235, 234], [199, 200, 236, 235], [200, 201, 237, 236], [201, 202, 238, 237], [202, 203, 239, 238], [203, 204, 240, 239], [204, 205, 241, 240], [205, 206, 242, 241], [206, 207, 243, 242], [207, 208, 244, 243], [208, 209, 245, 244], [209, 210, 246, 245], [210, 211, 247, 246], [211, 212, 248, 247], [212, 213, 249, 248], [213, 214, 250, 249], [214, 215, 251, 250], [215, 216, 252, 251], [216, 182, 218, 252], [218, 217, 253, 254], [217, 219, 255, 253], [219, 220, 256, 255], [220, 221, 257, 256], [221, 222, 258, 257], [222, 223, 259, 258], [223, 224, 260, 259], [224, 225, 261, 260], [225, 226, 262, 261], [226, 227, 263, 262], [227, 228, 264, 263], [228, 229, 265, 264], [229, 230, 266, 265], [230, 231, 267, 266], [231, 232, 268, 267], [232, 233, 269, 268], [233, 234, 270, 269], [234, 235, 271, 270], [235, 236, 272, 271], [236, 237, 273, 272], [237, 238, 274, 273], [238, 239, 275, 274], [239, 240, 276, 275], [240, 241, 277, 276], [241, 242, 278, 277], [242, 243, 279, 278], [243, 244, 280, 279], [244, 245, 281, 280], [245, 246, 282, 281], [246, 247, 283, 282], [247, 248, 284, 283], [248, 249, 285, 284], [249, 250, 286, 285], [250, 251, 287, 286], [251, 252, 288, 287], [252, 218, 254, 288], [254, 253, 289, 290], [253, 255, 291, 289], [255, 256, 292, 291], [256, 257, 293, 292], [257, 258, 294, 293], [258, 259, 295, 294], [259, 260, 296, 295], [260, 261, 297, 296], [261, 262, 298, 297], [262, 263, 299, 298], [263, 264, 300, 299], [264, 265, 301, 300], [265, 266, 302, 301], [266, 267, 303, 302], [267, 268, 304, 303], [268, 269, 305, 304], [269, 270, 306, 305], [270, 271, 307, 306], [271, 272, 308, 307], [272, 273, 309, 308], [273, 274, 310, 309], [274, 275, 311, 310], [275, 276, 312, 311], [276, 277, 313, 312], [277, 278, 314, 313], [278, 279, 315, 314], [279, 280, 316, 315], [280, 281, 317, 316], [281, 282, 318, 317], [282, 283, 319, 318], [283, 284, 320, 319], [284, 285, 321, 320], [285, 286, 322, 321], [286, 287, 323, 322], [287, 288, 324, 323], [288, 254, 290, 324], [290, 289, 325, 326], [289, 291, 327, 325], [291, 292, 328, 327], [292, 293, 329, 328], [293, 294, 330, 329], [294, 295, 331, 330], [295, 296, 332, 331], [296, 297, 333, 332], [297, 298, 334, 333], [298, 299, 335, 334], [299, 300, 336, 335], [300, 301, 337, 336], [301, 302, 338, 337], [302, 303, 339, 338], [303, 304, 340, 339], [304, 305, 341, 340], [305, 306, 342, 341], [306, 307, 343, 342], [307, 308, 344, 343], [308, 309, 345, 344], [309, 310, 346, 345], [310, 311, 347, 346], [311, 312, 348, 347], [312, 313, 349, 348], [313, 314, 350, 349], [314, 315, 351, 350], [315, 316, 352, 351], [316, 317, 353, 352], [317, 318, 354, 353], [318, 319, 355, 354], [319, 320, 356, 355], [320, 321, 357, 356], [321, 322, 358, 357], [322, 323, 359, 358], [323, 324, 360, 359], [324, 290, 326, 360], [326, 325, 361, 362], [325, 327, 363, 361], [327, 328, 364, 363], [328, 329, 365, 364], [329, 330, 366, 365], [330, 331, 367, 366], [331, 332, 368, 367], [332, 333, 369, 368], [333, 334, 370, 369], [334, 335, 371, 370], [335, 336, 372, 371], [336, 337, 373, 372], [337, 338, 374, 373], [338, 339, 375, 374], [339, 340, 376, 375], [340, 341, 377, 376], [341, 342, 378, 377], [342, 343, 379, 378], [343, 344, 380, 379], [344, 345, 381, 380], [345, 346, 382, 381], [346, 347, 383, 382], [347, 348, 384, 383], [348, 349, 385, 384], [349, 350, 386, 385], [350, 351, 387, 386], [351, 352, 388, 387], [352, 353, 389, 388], [353, 354, 390, 389], [354, 355, 391, 390], [355, 356, 392, 391], [356, 357, 393, 392], [357, 358, 394, 393], [358, 359, 395, 394], [359, 360, 396, 395], [360, 326, 362, 396], [362, 361, 397, 398], [361, 363, 399, 397], [363, 364, 400, 399], [364, 365, 401, 400], [365, 366, 402, 401], [366, 367, 403, 402], [367, 368, 404, 403], [368, 369, 405, 404], [369, 370, 406, 405], [370, 371, 407, 406], [371, 372, 408, 407], [372, 373, 409, 408], [373, 374, 410, 409], [374, 375, 411, 410], [375, 376, 412, 411], [376, 377, 413, 412], [377, 378, 414, 413], [378, 379, 415, 414], [379, 380, 416, 415], [380, 381, 417, 416], [381, 382, 418, 417], [382, 383, 419, 418], [383, 384, 420, 419], [384, 385, 421, 420], [385, 386, 422, 421], [386, 387, 423, 422], [387, 388, 424, 423], [388, 389, 425, 424], [389, 390, 426, 425], [390, 391, 427, 426], [391, 392, 428, 427], [392, 393, 429, 428], [393, 394, 430, 429], [394, 395, 431, 430], [395, 396, 432, 431], [396, 362, 398, 432], [398, 397, 433, 434], [397, 399, 435, 433], [399, 400, 436, 435], [400, 401, 437, 436], [401, 402, 438, 437], [402, 403, 439, 438], [403, 404, 440, 439], [404, 405, 441, 440], [405, 406, 442, 441], [406, 407, 443, 442], [407, 408, 444, 443], [408, 409, 445, 444], [409, 410, 446, 445], [410, 411, 447, 446], [411, 412, 448, 447], [412, 413, 449, 448], [413, 414, 450, 449], [414, 415, 451, 450], [415, 416, 452, 451], [416, 417, 453, 452], [417, 418, 454, 453], [418, 419, 455, 454], [419, 420, 456, 455], [420, 421, 457, 456], [421, 422, 458, 457], [422, 423, 459, 458], [423, 424, 460, 459], [424, 425, 461, 460], [425, 426, 462, 461], [426, 427, 463, 462], [427, 428, 464, 463], [428, 429, 465, 464], [429, 430, 466, 465], [430, 431, 467, 466], [431, 432, 468, 467], [432, 398, 434, 468], [434, 433, 469, 470], [433, 435, 471, 469], [435, 436, 472, 471], [436, 437, 473, 472], [437, 438, 474, 473], [438, 439, 475, 474], [439, 440, 476, 475], [440, 441, 477, 476], [441, 442, 478, 477], [442, 443, 479, 478], [443, 444, 480, 479], [444, 445, 481, 480], [445, 446, 482, 481], [446, 447, 483, 482], [447, 448, 484, 483], [448, 449, 485, 484], [449, 450, 486, 485], [450, 451, 487, 486], [451, 452, 488, 487], [452, 453, 489, 488], [453, 454, 490, 489], [454, 455, 491, 490], [455, 456, 492, 491], [456, 457, 493, 492], [457, 458, 494, 493], [458, 459, 495, 494], [459, 460, 496, 495], [460, 461, 497, 496], [461, 462, 498, 497], [462, 463, 499, 498], [463, 464, 500, 499], [464, 465, 501, 500], [465, 466, 502, 501], [466, 467, 503, 502], [467, 468, 504, 503], [468, 434, 470, 504], [470, 469, 505, 506], [469, 471, 507, 505], [471, 472, 508, 507], [472, 473, 509, 508], [473, 474, 510, 509], [474, 475, 511, 510], [475, 476, 512, 511], [476, 477, 513, 512], [477, 478, 514, 513], [478, 479, 515, 514], [479, 480, 516, 515], [480, 481, 517, 516], [481, 482, 518, 517], [482, 483, 519, 518], [483, 484, 520, 519], [484, 485, 521, 520], [485, 486, 522, 521], [486, 487, 523, 522], [487, 488, 524, 523], [488, 489, 525, 524], [489, 490, 526, 525], [490, 491, 527, 526], [491, 492, 528, 527], [492, 493, 529, 528], [493, 494, 530, 529], [494, 495, 531, 530], [495, 496, 532, 531], [496, 497, 533, 532], [497, 498, 534, 533], [498, 499, 535, 534], [499, 500, 536, 535], [500, 501, 537, 536], [501, 502, 538, 537], [502, 503, 539, 538], [503, 504, 540, 539], [504, 470, 506, 540], [506, 505, 541, 542], [505, 507, 543, 541], [507, 508, 544, 543], [508, 509, 545, 544], [509, 510, 546, 545], [510, 511, 547, 546], [511, 512, 548, 547], [512, 513, 549, 548], [513, 514, 550, 549], [514, 515, 551, 550], [515, 516, 552, 551], [516, 517, 553, 552], [517, 518, 554, 553], [518, 519, 555, 554], [519, 520, 556, 555], [520, 521, 557, 556], [521, 522, 558, 557], [522, 523, 559, 558], [523, 524, 560, 559], [524, 525, 561, 560], [525, 526, 562, 561], [526, 527, 563, 562], [527, 528, 564, 563], [528, 529, 565, 564], [529, 530, 566, 565], [530, 531, 567, 566], [531, 532, 568, 567], [532, 533, 569, 568], [533, 534, 570, 569], [534, 535, 571, 570], [535, 536, 572, 571], [536, 537, 573, 572], [537, 538, 574, 573], [538, 539, 575, 574], [539, 540, 576, 575], [540, 506, 542, 576], [542, 541, 577, 578], [541, 543, 579, 577], [543, 544, 580, 579], [544, 545, 581, 580], [545, 546, 582, 581], [546, 547, 583, 582], [547, 548, 584, 583], [548, 549, 585, 584], [549, 550, 586, 585], [550, 551, 587, 586], [551, 552, 588, 587], [552, 553, 589, 588], [553, 554, 590, 589], [554, 555, 591, 590], [555, 556, 592, 591], [556, 557, 593, 592], [557, 558, 594, 593], [558, 559, 595, 594], [559, 560, 596, 595], [560, 561, 597, 596], [561, 562, 598, 597], [562, 563, 599, 598], [563, 564, 600, 599], [564, 565, 601, 600], [565, 566, 602, 601], [566, 567, 603, 602], [567, 568, 604, 603], [568, 569, 605, 604], [569, 570, 606, 605], [570, 571, 607, 606], [571, 572, 608, 607], [572, 573, 609, 608], [573, 574, 610, 609], [574, 575, 611, 610], [575, 576, 612, 611], [576, 542, 578, 612], [578, 577, 613, 614], [577, 579, 615, 613], [579, 580, 616, 615], [580, 581, 617, 616], [581, 582, 618, 617], [582, 583, 619, 618], [583, 584, 620, 619], [584, 585, 621, 620], [585, 586, 622, 621], [586, 587, 623, 622], [587, 588, 624, 623], [588, 589, 625, 624], [589, 590, 626, 625], [590, 591, 627, 626], [591, 592, 628, 627], [592, 593, 629, 628], [593, 594, 630, 629], [594, 595, 631, 630], [595, 596, 632, 631], [596, 597, 633, 632], [597, 598, 634, 633], [598, 599, 635, 634], [599, 600, 636, 635], [600, 601, 637, 636], [601, 602, 638, 637], [602, 603, 639, 638], [603, 604, 640, 639], [604, 605, 641, 640], [605, 606, 642, 641], [606, 607, 643, 642], [607, 608, 644, 643], [608, 609, 645, 644], [609, 610, 646, 645], [610, 611, 647, 646], [611, 612, 648, 647], [612, 578, 614, 648], [614, 613, 649, 650], [613, 615, 651, 649], [615, 616, 652, 651], [616, 617, 653, 652], [617, 618, 654, 653], [618, 619, 655, 654], [619, 620, 656, 655], [620, 621, 657, 656], [621, 622, 658, 657], [622, 623, 659, 658], [623, 624, 660, 659], [624, 625, 661, 660], [625, 626, 662, 661], [626, 627, 663, 662], [627, 628, 664, 663], [628, 629, 665, 664], [629, 630, 666, 665], [630, 631, 667, 666], [631, 632, 668, 667], [632, 633, 669, 668], [633, 634, 670, 669], [634, 635, 671, 670], [635, 636, 672, 671], [636, 637, 673, 672], [637, 638, 674, 673], [638, 639, 675, 674], [639, 640, 676, 675], [640, 641, 677, 676], [641, 642, 678, 677], [642, 643, 679, 678], [643, 644, 680, 679], [644, 645, 681, 680], [645, 646, 682, 681], [646, 647, 683, 682], [647, 648, 684, 683], [648, 614, 650, 684], [650, 649, 685], [649, 651, 685], [651, 652, 685], [652, 653, 685], [653, 654, 685], [654, 655, 685], [655, 656, 685], [656, 657, 685], [657, 658, 685], [658, 659, 685], [659, 660, 685], [660, 661, 685], [661, 662, 685], [662, 663, 685], [663, 664, 685], [664, 665, 685], [665, 666, 685], [666, 667, 685], [667, 668, 685], [668, 669, 685], [669, 670, 685], [670, 671, 685], [671, 672, 685], [672, 673, 685], [673, 674, 685], [674, 675, 685], [675, 676, 685], [676, 677, 685], [677, 678, 685], [678, 679, 685], [679, 680, 685], [680, 681, 685], [681, 682, 685], [682, 683, 685], [683, 684, 685], [684, 650, 685]], &quot;color&quot;: &quot;#0000ff&quot;, &quot;opacity&quot;: 0.5}];\n",
       "    for ( var i=0 ; i &lt; surfaces.length ; i++ ) addSurface( surfaces[i] );\n",
       "\n",
       "    function addSurface( json ) {\n",
       "\n",
       "        var useFaceColors = &#x27;faceColors&#x27; in json ? true : false;\n",
       "\n",
       "        var geometry = new THREE.Geometry();\n",
       "        for ( var i=0 ; i &lt; json.vertices.length ; i++ ) {\n",
       "            var v = json.vertices[i];\n",
       "            geometry.vertices.push( new THREE.Vector3( a[0]*v.x, a[1]*v.y, a[2]*v.z ) );\n",
       "        }\n",
       "        for ( var i=0 ; i &lt; json.faces.length ; i++ ) {\n",
       "            var f = json.faces[i];\n",
       "            for ( var j=0 ; j &lt; f.length - 2 ; j++ ) {\n",
       "                var face = new THREE.Face3( f[0], f[j+1], f[j+2] );\n",
       "                if ( useFaceColors ) face.color.set( json.faceColors[i] );\n",
       "                geometry.faces.push( face );\n",
       "            }\n",
       "        }\n",
       "        geometry.computeVertexNormals();\n",
       "\n",
       "        var side = json.singleSide ? THREE.FrontSide : THREE.DoubleSide;\n",
       "        var transparent = json.opacity &lt; 1 ? true : false;\n",
       "        var depthWrite = &#x27;depthWrite&#x27; in json ? json.depthWrite : !transparent;\n",
       "        var flatShading = json.useFlatShading ? json.useFlatShading : false;\n",
       "\n",
       "        var material = new THREE.MeshPhongMaterial( { side: side,\n",
       "                                     color: useFaceColors ? &#x27;white&#x27; : json.color,\n",
       "                                     vertexColors: useFaceColors ? THREE.FaceColors : THREE.NoColors,\n",
       "                                     transparent: transparent, opacity: json.opacity,\n",
       "                                     shininess: 20, flatShading: flatShading,\n",
       "                                     depthWrite: depthWrite } );\n",
       "\n",
       "        var c = new THREE.Vector3();\n",
       "        geometry.computeBoundingBox();\n",
       "        geometry.boundingBox.getCenter( c );\n",
       "        geometry.translate( -c.x, -c.y, -c.z );\n",
       "\n",
       "        var mesh = new THREE.Mesh( geometry, material );\n",
       "        mesh.position.set( c.x, c.y, c.z );\n",
       "        if ( transparent &amp;&amp; json.renderOrder ) mesh.renderOrder = json.renderOrder;\n",
       "        mesh.userData = json;\n",
       "        scene.add( mesh );\n",
       "\n",
       "        if ( json.showMeshGrid ) addSurfaceMeshGrid( json );\n",
       "\n",
       "    }\n",
       "\n",
       "    function addSurfaceMeshGrid( json ) {\n",
       "\n",
       "        var geometry = new THREE.Geometry();\n",
       "\n",
       "        for ( var i=0 ; i &lt; json.faces.length ; i++ ) {\n",
       "            var f = json.faces[i];\n",
       "            for ( var j=0 ; j &lt; f.length ; j++ ) {\n",
       "                var k = j === f.length-1 ? 0 : j+1;\n",
       "                var v1 = json.vertices[f[j]];\n",
       "                var v2 = json.vertices[f[k]];\n",
       "                // vertices in opposite directions on neighboring faces\n",
       "                var nudge = f[j] &lt; f[k] ? .0005*zRange : -.0005*zRange;\n",
       "                geometry.vertices.push( new THREE.Vector3( a[0]*v1.x, a[1]*v1.y, a[2]*(v1.z+nudge) ) );\n",
       "                geometry.vertices.push( new THREE.Vector3( a[0]*v2.x, a[1]*v2.y, a[2]*(v2.z+nudge) ) );\n",
       "            }\n",
       "        }\n",
       "\n",
       "        var c = new THREE.Vector3();\n",
       "        geometry.computeBoundingBox();\n",
       "        geometry.boundingBox.getCenter( c );\n",
       "        geometry.translate( -c.x, -c.y, -c.z );\n",
       "\n",
       "        var gridColor = options.theme === &#x27;dark&#x27; ? &#x27;white&#x27; : &#x27;black&#x27;;\n",
       "        var linewidth = json.linewidth || 1;\n",
       "        var materialOptions = { color: gridColor, linewidth: linewidth };\n",
       "\n",
       "        var mesh;\n",
       "        if ( linewidth &gt; 1 &amp;&amp; window.createFatLineSegments ) {\n",
       "            mesh = createFatLineSegments( geometry, materialOptions );\n",
       "        } else {\n",
       "            var material = new THREE.LineBasicMaterial( materialOptions );\n",
       "            mesh = new THREE.LineSegments( geometry, material );\n",
       "        }\n",
       "\n",
       "        mesh.position.set( c.x, c.y, c.z );\n",
       "        mesh.userData = json;\n",
       "        scene.add( mesh );\n",
       "\n",
       "    }\n",
       "\n",
       "    function render() {\n",
       "\n",
       "        if ( window.updateAnimation ) animate = updateAnimation();\n",
       "        if ( animate ) requestAnimationFrame( render );\n",
       "\n",
       "        renderer.render( scene, camera );\n",
       "\n",
       "    }\n",
       "\n",
       "    render();\n",
       "    controls.update();\n",
       "    if ( !animate ) render();\n",
       "\n",
       "\n",
       "    // menu functions\n",
       "\n",
       "    function toggleMenu() {\n",
       "\n",
       "        var m = document.getElementById( &#x27;menu-content&#x27; );\n",
       "        if ( m.style.display === &#x27;block&#x27; ) m.style.display = &#x27;none&#x27;\n",
       "        else m.style.display = &#x27;block&#x27;;\n",
       "\n",
       "    }\n",
       "\n",
       "\n",
       "    function saveAsPNG() {\n",
       "\n",
       "        var a = document.body.appendChild( document.createElement( &#x27;a&#x27; ) );\n",
       "        a.href = renderer.domElement.toDataURL( &#x27;image/png&#x27; );\n",
       "        a.download = &#x27;screenshot&#x27;;\n",
       "        a.click();\n",
       "\n",
       "    }\n",
       "\n",
       "    function saveAsHTML() {\n",
       "\n",
       "        toggleMenu(); // otherwise visible in output\n",
       "        event.stopPropagation();\n",
       "\n",
       "        var blob = new Blob( [ &#x27;&lt;!DOCTYPE html&gt;\\n&#x27; + document.documentElement.outerHTML ] );\n",
       "        var a = document.body.appendChild( document.createElement( &#x27;a&#x27; ) );\n",
       "        a.href = window.URL.createObjectURL( blob );\n",
       "        a.download = suggestFilename();\n",
       "        a.click();\n",
       "\n",
       "        function suggestFilename() {\n",
       "            if ( !document.title ) {\n",
       "                return &#x27;graphic.html&#x27;;\n",
       "            } else if ( /\\.html?$/i.test( document.title ) ) {\n",
       "                return document.title; // already ends in .htm or .html\n",
       "            } else {\n",
       "                return document.title + &#x27;.html&#x27;;\n",
       "            }\n",
       "        }\n",
       "\n",
       "    }\n",
       "\n",
       "    function getViewpoint() {\n",
       "\n",
       "        function roundTo( x, n ) { return +x.toFixed(n); }\n",
       "\n",
       "        var v = camera.quaternion.inverse();\n",
       "        var r = Math.sqrt( v.x*v.x + v.y*v.y + v.z*v.z );\n",
       "        var axis = [ roundTo( v.x / r, 4 ), roundTo( v.y / r, 4 ), roundTo( v.z / r, 4 ) ];\n",
       "        var angle = roundTo( 2 * Math.atan2( r, v.w ) * 180 / Math.PI, 2 );\n",
       "\n",
       "        var textArea = document.createElement( &#x27;textarea&#x27; );\n",
       "        textArea.textContent = JSON.stringify( axis ) + &#x27;,&#x27; + angle;\n",
       "        textArea.style.csstext = &#x27;position: absolute; top: -100%&#x27;;\n",
       "        document.body.append( textArea );\n",
       "        textArea.select();\n",
       "        document.execCommand( &#x27;copy&#x27; );\n",
       "\n",
       "        var m = document.getElementById( &#x27;menu-message&#x27; );\n",
       "        m.innerHTML = &#x27;Viewpoint copied to clipboard&#x27;;\n",
       "        m.style.display = &#x27;block&#x27;;\n",
       "        setTimeout( function() { m.style.display = &#x27;none&#x27;; }, 2000 );\n",
       "\n",
       "    }\n",
       "\n",
       "    function getCamera() {\n",
       "\n",
       "        function roundTo( x, n ) { return +x.toFixed(n); }\n",
       "\n",
       "        var pos = camera.position;\n",
       "        var pos_r = [ roundTo( pos.x, 4 ), roundTo( pos.y, 4 ), roundTo( pos.z, 4 ) ];\n",
       "   //     var up = camera.up; // up is always (0,0,1)\n",
       "        var textArea = document.createElement(&#x27;textarea&#x27;);\n",
       "        var cam_position = JSON.stringify(pos_r);\n",
       "        textArea.textContent = &#x27;,camera_position=&#x27; + cam_position;\n",
       "        textArea.style.csstext = &#x27;position: absolute; top: -100%&#x27;;\n",
       "        document.body.append( textArea );\n",
       "        textArea.select();\n",
       "        document.execCommand( &#x27;copy&#x27; );\n",
       "\n",
       "        var m = document.getElementById( &#x27;menu-message&#x27; );\n",
       "        m.innerHTML = &#x27;Camera position &#x27;+ cam_position+&#x27; copied to clipboard&#x27;;\n",
       "        m.style.display = &#x27;block&#x27;;\n",
       "        setTimeout( function() { m.style.display = &#x27;none&#x27;; }, 2000 );\n",
       "\n",
       "    }\n",
       "\n",
       "&lt;/script&gt;\n",
       "\n",
       "&lt;div id=&quot;menu-container&quot; onclick=&quot;toggleMenu()&quot;&gt;&amp;#x24d8;\n",
       "&lt;div id=&quot;menu-message&quot;&gt;&lt;/div&gt;\n",
       "&lt;div id=&quot;menu-content&quot;&gt;\n",
       "&lt;div onclick=&quot;saveAsPNG()&quot;&gt;Save as PNG&lt;/div&gt;\n",
       "&lt;div onclick=&quot;saveAsHTML()&quot;&gt;Save as HTML&lt;/div&gt;\n",
       "&lt;div onclick=&quot;getCamera()&quot;&gt;Get camera&lt;/div&gt;\n",
       "&lt;div onclick=&quot;getViewpoint()&quot;&gt;Get viewpoint&lt;/div&gt;\n",
       "&lt;div&gt;Close Menu&lt;/div&gt;\n",
       "&lt;/div&gt;&lt;/div&gt;\n",
       "\n",
       "\n",
       "&lt;/body&gt;\n",
       "&lt;/html&gt;\n",
       "\"\n",
       "        width=\"100%\"\n",
       "        height=\"400\"\n",
       "        style=\"border: 0;\">\n",
       "</iframe>\n"
      ],
      "text/plain": [
       "Graphics3d Object"
      ]
     },
     "metadata": {},
     "output_type": "display_data"
    }
   ],
   "source": [
    "spiral_sphere_visual = spiral_sphere.visualized_sphere()\n",
    "spiral_line_visual = spiral_sphere.visualized_spiral_line(spiral_line_rotation)\n",
    "show(spiral_sphere_visual + spiral_line_visual)"
   ]
  },
  {
   "cell_type": "markdown",
   "id": "2eb6e5d8",
   "metadata": {},
   "source": [
    "## Aufgabe 3: Tool zur Erzeugung und Visualisierung runder Körper"
   ]
  },
  {
   "cell_type": "markdown",
   "id": "f7ef9646",
   "metadata": {},
   "source": [
    "Unser Ziel ist es, eine interaktive Visualisierung von 3D Rotationskörpern zu ermöglichen, die durch Drehung einer parametrischen Kurve um eine Achse entstehen. Der Benutzer kann verschiedene Parameter einstellen, um die Form des Körpers zu beeinflussen, und die Oberfläche des resultierenden Körpers berechnen.\n",
    "\n",
    "### 1. Was verwenden wir, um das Problem zu lösen?  \n",
    "  \n",
    "**Die Oberfläche eines Rotationskörpers, der durch Drehung einer Kurve um eine Achse entsteht[14]**:\n",
    "\n",
    "$A = 2\\pi \\int f(u) \\sqrt{1 + (f'(u))^2} \\, du$\n",
    "\n",
    "wobei: \n",
    "- $f(u)$ der Radius der Kurve an der Position $u$\n",
    "- $f′(u)$ die Ableitung von $f$ nach $u$.\n",
    "\n",
    "\n",
    "**SageMath-Funktionen**\n",
    "\n",
    "- `numerical_integral()`[10]: Berechnet das numerische Integral einer Funktion über ein bestimmtes Intervall. Diese Funktion wird verwendet, um die Oberfläche des Rotationskörpers zu berechnen.\n",
    "\n",
    "- `revolution_plot3d()`[15]: Erzeugt eine 3D-Visualisierung eines Rotationskörpers, der durch Drehung einer parametrischen Kurve um eine Achse entsteht.\n",
    "\n",
    "\n",
    "### 2. Eigene Hilfsfunktionen\n",
    "\n",
    "`kugel_funktion()`[12,13]: Diese Funktion definiert die parametrische Kurve, die um eine Achse gedreht wird, um den Rotationskörper zu erzeugen. Die Funktion nimmt Parameter wie Radius, Streckungen und Verformungen am Ende des Körpers entgegen und gibt die x- und y-Koordinaten der Kurve zurück.\n",
    "\n",
    "Parameter:\n",
    "- radius: Grundradius der Kurve.\n",
    "- streckung_x, streckung_y: Streckungen der Kurve in x- und y-Richtung.\n",
    "enden_verformung: Verstärkt oder reduziert die Deformation am Ende des Körpers.\n",
    "- breiten_faktor: Ein Faktor, der die Breite der Kurve in Abhängigkeit von der Höhe beeinflusst.\n",
    "\n",
    "`oberflaeche_berechnen()`[14]: Berechnet die Oberfläche des Rotationskörpers durch numerische Integration der Oberflächenformel. Die Funktion wählt abhängig von der gewählten Rotationsachse die entsprechende Funktion für $f(u)$\n",
    "und berechnet deren Ableitung für das Integral.\n",
    "\n",
    "Parameter:\n",
    "- radius: Grundradius der Kurve, der die Größe des Körpers bestimmt.\n",
    "- streckung_x, streckung_y: Streckungen der Kurve, die die Form des Rotationskörpers beeinflussen.\n",
    "- enden_verformung: Einfluss auf die Verformung der Kurve an den Enden.\n",
    "- achse: Die Achse, um die die Rotation erfolgt.\n",
    "- winkelbereich: Der Winkelbereich, über den die Kurve rotiert wird.\n",
    "\n",
    "Diese Funktion ermöglicht es dem Benutzer, mittels Schiebereglern verschiedene Parameter einzustellen und die Auswirkungen dieser Einstellungen in Echtzeit zu sehen. Die Funktion nutzt revolution_plot3d zur Visualisierung und oberflaeche_berechnen zur Berechnung der Oberfläche.\n",
    "\n",
    "### 3. Einsetzen der Problemstellung"
   ]
  },
  {
   "cell_type": "code",
   "execution_count": 52,
   "id": "36840c55",
   "metadata": {},
   "outputs": [
    {
     "data": {
      "application/vnd.jupyter.widget-view+json": {
       "model_id": "eefac738f7904e73b54a3ecf191a9276",
       "version_major": 2,
       "version_minor": 0
      },
      "text/plain": [
       "Interactive function <function interaktiver_rotationskoerper at 0x14a0d6480> with 6 widgets\n",
       "  radius: TransformFloatSlider(value=1.0, description='Radius a', max=5.0, min=1.0)\n",
       "  streckung_x: TransformFloatSlider(value=1.0, description='Streckung X', max=2.0, min=0.5)\n",
       "  streckung_y: TransformFloatSlider(value=1.0, description='Streckung Y', max=2.0, min=0.5)\n",
       "  enden_verformung: TransformFloatSlider(value=1.0, description='Endenverformung', max=4.0)\n",
       "  achse: Dropdown(description='Rotationsachse', options=('x', 'y', 'z'), value='x')\n",
       "  winkelbereich: TransformFloatSlider(value=6.283185307179586, description='Winkelbereich', max=6.283185307179586, min=0.1)"
      ]
     },
     "metadata": {},
     "output_type": "display_data"
    }
   ],
   "source": [
    "forget()\n",
    "u = var('u')\n",
    "\n",
    "# Definition der Standardfunktion für eine Kugel mit Endenverformung\n",
    "# Wir benutzen eine verformte Kugel als unseren Default-Körper\n",
    "def kugel_funktion(u, radius=1, streckung_x=1, streckung_y=1, enden_verformung=1, breiten_faktor=1):\n",
    "    # Berechne die Verformung basierend auf der Position von u\n",
    "    deformation = 1 + (enden_verformung - 1) * (u^2 / radius^2)\n",
    "    \n",
    "    # Berechnung des Radius basierend auf der Position von u, um eine kegelartige Form zu erzeugen\n",
    "    kegel_radius = radius * deformation\n",
    "    \n",
    "    # Berechnung der Breite basierend auf der Höhe von u\n",
    "    breite = breiten_faktor * (radius - abs(u))\n",
    "    \n",
    "    return (streckung_x * kegel_radius * cos(u / radius), streckung_y * breite * sin(u / radius))\n",
    "\n",
    "# Berechnung der Oberfläche des Rotationskörpers\n",
    "def oberflaeche_berechnen(radius, streckung_x, streckung_y, enden_verformung, achse, winkelbereich):\n",
    "    def radius_funktion(u):\n",
    "        return sqrt(kugel_funktion(u, radius, streckung_x, streckung_y, enden_verformung, 1)[0]^2 + kugel_funktion(u, radius, streckung_x, streckung_y, enden_verformung, 1)[1]^2)\n",
    "\n",
    "    if achse == 'x' or achse == 'z':\n",
    "        f = lambda u: streckung_y * abs(kugel_funktion(u, radius, streckung_x, streckung_y, enden_verformung, 1)[1])\n",
    "    else:\n",
    "        f = lambda u: streckung_x * abs(kugel_funktion(u, radius, streckung_x, streckung_y, enden_verformung, 1)[0])\n",
    "    \n",
    "    df = f(u).diff(u)\n",
    "    integral_wert, error = numerical_integral(f(u) * sqrt(1 + df^2), -radius, radius)\n",
    "    return float(2 * pi * integral_wert)  # Multiplizieren des Ergebnisses mit 2*pi, um die Oberfläche zu erhalten\n",
    "\n",
    "# Interaktion mit Slider\n",
    "@interact\n",
    "def interaktiver_rotationskoerper(radius=slider(1, 5, 0.1, default=1, label='Radius a'),\n",
    "                                  streckung_x=slider(0.5, 2, 0.1, default=1, label='Streckung X'),\n",
    "                                  streckung_y=slider(0.5, 2, 0.1, default=1, label='Streckung Y'),\n",
    "                                  enden_verformung=slider(0, 4, 0.1, default=1, label='Endenverformung'),\n",
    "                                  achse=selector(['x', 'y', 'z'], label='Rotationsachse'),\n",
    "                                  winkelbereich=slider(0.1, 2*pi, 0.1, default=2*pi, label='Winkelbereich')):\n",
    "    # Auswahl für die Rotations-Achse\n",
    "    if achse == 'x':\n",
    "        funktion = (u, *kugel_funktion(u, radius, streckung_x, streckung_y, enden_verformung))\n",
    "    elif achse == 'y':\n",
    "        funktion = (*kugel_funktion(u, radius, streckung_x, streckung_y, enden_verformung), u)\n",
    "    else:  # z-Achse\n",
    "        funktion = (*kugel_funktion(u, radius, streckung_y, streckung_x, enden_verformung), u)\n",
    "    \n",
    "    # Festlegung des Bereichs für u und die Winkel für die Rotation\n",
    "    u_bereich = (u, -radius, radius)\n",
    "    winkelbereich = (0, winkelbereich)\n",
    "    \n",
    "    # Erstellung des Rotationskörpers\n",
    "    plot = revolution_plot3d(funktion, u_bereich, phirange=winkelbereich, parallel_axis=achse, axis=(0, 0), show_curve=True)\n",
    "    \n",
    "    # Berechnung der Oberfläche\n",
    "    oberflaeche = oberflaeche_berechnen(radius, streckung_x, streckung_y, enden_verformung, achse, winkelbereich)\n",
    "    \n",
    "    # Ausgabe\n",
    "    show(plot, aspect_ratio=(1,1,1))\n",
    "    print(f\"Oberfläche des Körpers: {oberflaeche:.2f} Einheiten\\u00B2\")\n"
   ]
  },
  {
   "cell_type": "markdown",
   "id": "9f666f62",
   "metadata": {},
   "source": [
    "# Anhang"
   ]
  },
  {
   "cell_type": "code",
   "execution_count": 53,
   "id": "eb05cc59",
   "metadata": {},
   "outputs": [],
   "source": [
    "## Bitte egänzen Sie den Filename ihrer Bibliothek (z.B. Pythagoras.bib)\n",
    "bibfile = 'Quellen.bib'"
   ]
  },
  {
   "cell_type": "code",
   "execution_count": 54,
   "id": "49b338d2",
   "metadata": {},
   "outputs": [
    {
     "name": "stdout",
     "output_type": "stream",
     "text": [
      "\u001b[1mQuellen\u001b[0m \n",
      "\n",
      "[1] Radius berechnen • Was ist ein Radius? Radius Formel, Radius berechnen • Was ist ein Radius? Radius Formel, [Year not found].\n",
      "\n",
      "[2] Strahlensätze: Erklärung, Berechnen \\& Formeln, Strahlensätze: Erklärung, Berechnen \\& Formeln, [Year not found].\n",
      "\n",
      "[3] Oberfläche Kugel • Fläche Kugel, Oberfläche Kugel Formel, Oberfläche Kugel • Fläche Kugel, Oberfläche Kugel Formel, [Year not found].\n",
      "\n",
      "[4] Kugelsegment — Theoretisches Material. Mathematik, 8. Schulstufe., Kugelsegment — Theoretisches Material. Mathematik, 8. Schulstufe., [Year not found].\n",
      "\n",
      "[5] Oberflächeninhalt Zylinder: Formel \\& Beispiele, Oberflächeninhalt Zylinder: Formel \\& Beispiele, [Year not found].\n",
      "\n",
      "[6] Oberfläche Kegel • Mantelfläche Kegel, Oberflächeninhalt Kegel, Oberfläche Kegel • Mantelfläche Kegel, Oberflächeninhalt Kegel, [Year not found].\n",
      "\n",
      "[7] Kegelstumpf berechnen: Volumen, Mantelfläche, Oberfläche, Kegelstumpf berechnen: Volumen, Mantelfläche, Oberfläche, [Year not found].\n",
      "\n",
      "[8] Eric Weisstein, Arc Length, [Year not found].\n",
      "\n",
      "[9] Basic objects such as Sphere, Box, Cone, etc. - 3D Graphics, Basic objects such as Sphere, Box, Cone, etc. - 3D Graphics, [Year not found].\n",
      "\n",
      "[10] Parametric plots - 3D Graphics, Parametric plots - 3D Graphics, [Year not found].\n",
      "\n",
      "[11] \"Kugelkoordinaten,\" Wikipedia, [Year not found]. [Online]. Available: https://de.wikipedia.org/w/index.php?title=Kugelkoordinaten&oldid=244512782.\n",
      "\n",
      "[12] Parametric equations intro (video), Parametric equations intro (video), [Year not found].\n",
      "\n",
      "[13] Adam Finkelstein, Parametric Curves \\& Surfaces, [Year not found].\n",
      "\n",
      "[14] Rotationskörper · Erklärung + Beispiele, Rotationskörper · Erklärung + Beispiele, [Year not found].\n",
      "\n",
      "[15] Surfaces of revolution - 3D Graphics, Surfaces of revolution - 3D Graphics, [Year not found].\n",
      "\n"
     ]
    }
   ],
   "source": [
    "from pybtex.database import parse_file\n",
    "\n",
    "import re\n",
    "\n",
    "def clean_latex_formatting(text):\n",
    "    text = re.sub(r\"(\\{|\\})\", \"\", text)\n",
    "    return text\n",
    "\n",
    "def format_ieee(entry, entry_number):\n",
    "    # Title bereinigen\n",
    "    title = clean_latex_formatting(entry.fields.get('title', '[Title not found]'))\n",
    "    \n",
    "    # Autorenliste erstellen, falls vorhanden\n",
    "    authors = entry.persons.get('author', None)\n",
    "    if authors:\n",
    "        authors = ' and '.join(' '.join(p.first_names + p.last_names) for p in authors)\n",
    "    else:\n",
    "        authors = title  # Use title if author is not available\n",
    "    \n",
    "    year = entry.fields.get('year', '[Year not found]')\n",
    "    url = entry.fields.get('url', '')\n",
    "\n",
    "    # Formatieren basierend auf dem Eintragstyp\n",
    "    if 'booktitle' in entry.fields:  # for conference papers\n",
    "        booktitle = clean_latex_formatting(entry.fields.get('booktitle'))\n",
    "        citation = f\"[{entry_number}] {authors}, \\\"{title},\\\" in {booktitle}, {year}.\"\n",
    "    if 'wikipedia.org' in url:\n",
    "        # Formatting Wikipedia-specific reference\n",
    "        citation = f\"[{entry_number}] \\\"{title},\\\" Wikipedia, {year}. [Online]. Available: {url}.\"\n",
    "    elif 'journal' in entry.fields:  # for journal articles\n",
    "        journal = clean_latex_formatting(entry.fields.get('journal'))\n",
    "        volume = entry.fields.get('volume', '[Volume not found]')\n",
    "        number = entry.fields.get('number', '[Issue not found]')\n",
    "        pages = entry.fields.get('pages', '[Pages not found]')\n",
    "        citation = f\"[{entry_number}] {authors}, \\\"{title},\\\" {journal}, vol. {volume}, no. {number}, pp. {pages}, {year}.\"\n",
    "    elif entry.type == 'book':  # for books\n",
    "        publisher = clean_latex_formatting(entry.fields.get('publisher', '[Publisher not found]'))\n",
    "        citation = f\"[{entry_number}] {authors}, {title}. {publisher}, {year}.\"\n",
    "    else:  # for other types\n",
    "        citation = f\"[{entry_number}] {authors}, {title}, {year}.\"\n",
    "\n",
    "    return citation\n",
    "\n",
    "# BibTeX-Datei lesen\n",
    "bib_data = parse_file(bibfile)\n",
    "\n",
    "# Alle Einträge im IEEE-Stil konvertieren\n",
    "ieee_references = [format_ieee(entry, i+1) for i, (key, entry) in enumerate(bib_data.entries.items())]\n",
    "\n",
    "# Alle IEEE-Stil Zitate ausgeben\n",
    "print(\"\\033[1mQuellen\\033[0m \")\n",
    "print('')\n",
    "for ref in ieee_references:\n",
    "    print(ref)\n",
    "    print('')"
   ]
  },
  {
   "cell_type": "code",
   "execution_count": null,
   "id": "a0ccc4f7",
   "metadata": {},
   "outputs": [],
   "source": []
  }
 ],
 "metadata": {
  "kernelspec": {
   "display_name": "SageMath 10.2",
   "language": "sage",
   "name": "sagemath"
  },
  "language_info": {
   "codemirror_mode": {
    "name": "ipython",
    "version": 3
   },
   "file_extension": ".py",
   "mimetype": "text/x-python",
   "name": "python",
   "nbconvert_exporter": "python",
   "pygments_lexer": "ipython3",
   "version": "3.11.1"
  }
 },
 "nbformat": 4,
 "nbformat_minor": 5
}
