{
 "cells": [
  {
   "cell_type": "code",
   "execution_count": 1,
   "id": "e15deb3b",
   "metadata": {},
   "outputs": [
    {
     "data": {
      "text/html": [
       "<script>\n",
       "    function code_toggle() {\n",
       "        if (code_shown){\n",
       "            $('div.input').hide('500');\n",
       "            $('#toggleButton').val('Show Code')\n",
       "        } else {\n",
       "            $('div.input').show('500');\n",
       "            $('#toggleButton').val('Hide Code')\n",
       "        }\n",
       "        code_shown = !code_shown\n",
       "    }\n",
       "\n",
       "    $(document).ready(function(){\n",
       "        code_shown = false;\n",
       "        $('div.input').hide()\n",
       "    });\n",
       "    </script>\n",
       "    <form action = \"javascript:code_toggle()\">\n",
       "    <input type = \"submit\" id = \"toggleButton\" value = \"Show Code\">\n",
       "    </form>"
      ],
      "text/plain": [
       "<IPython.core.display.HTML object>"
      ]
     },
     "execution_count": 1,
     "metadata": {},
     "output_type": "execute_result"
    }
   ],
   "source": [
    "from IPython.display import HTML # Versteckt Code auf Knopfdruck\n",
    "\n",
    "HTML('''<script>\n",
    "    function code_toggle() {\n",
    "        if (code_shown){\n",
    "            $('div.input').hide('500');\n",
    "            $('#toggleButton').val('Show Code')\n",
    "        } else {\n",
    "            $('div.input').show('500');\n",
    "            $('#toggleButton').val('Hide Code')\n",
    "        }\n",
    "        code_shown = !code_shown\n",
    "    }\n",
    "\n",
    "    $(document).ready(function(){\n",
    "        code_shown = false;\n",
    "        $('div.input').hide()\n",
    "    });\n",
    "    </script>\n",
    "    <form action = \"javascript:code_toggle()\">\n",
    "    <input type = \"submit\" id = \"toggleButton\" value = \"Show Code\">\n",
    "    </form>''')"
   ]
  },
  {
   "cell_type": "markdown",
   "id": "56b853af",
   "metadata": {},
   "source": [
    "# Epidemie\n",
    "\n",
    "\n",
    "- **Datum:** 06.05.2024\n",
    "- **Autor:** Natalia Kotkova, Dino Dervisevic"
   ]
  },
  {
   "cell_type": "markdown",
   "id": "1dfbe82a",
   "metadata": {},
   "source": [
    "## Kritik aus dem ersten Projekt (Dino)\n",
    "- Der Code ist sehr umfangreich, evtl. In Module zerlegen und diese besser beschreiben\n",
    "- Es würde helfen, eine Zusammenfassung aller Ergebnisse in einer Tabelle (Anfang oder Ende) anzubieten / UnitTests\n",
    "- Der Code läuft fehlerfrei aber extrem langsam (Sage 10.2)\n",
    "- Die Codeblöcke sind extrem lang und teilweise schwer verständlich\n",
    "- Kaum Kommentare, um die lange Codeblöcke verständlicher zu machen\n",
    "- Sehr langer Code ohne Herleitung\n",
    "\n",
    "## Kritik aus dem ersten Projekt (Natalia)\n",
    "- Die Problemdefinition sollte klarer herausgearbeitet werden \n",
    "- Es würde helfen, eine Zusammenfassung aller Ergebnisse in einer Tabelle (Anfang oder Ende) anzubieten \n",
    "- Es wurde keine Erklärung zum Vorgehen geliefert  4) Die Lösung ist recht kurz\n",
    "- Keine Kommentare, um die lange Codeblöcke in Aufgabe 3 verständlicher zu machen\n",
    "- Das Design des Tools ist kompliziert"
   ]
  },
  {
   "cell_type": "markdown",
   "id": "6230152e",
   "metadata": {},
   "source": [
    "# Aufgabe\n",
    "Wir schreiben das Jahr 2115. In der Marskolonie New Atlantis ist das berüchtigte Beteigeuze Fieber ausgebrochen. New Atlantis wurde im Jahr 2055 gegründet und umfasst mittlerweile 50.000 Einwohner. Das Beteigeuze-Fieber ist eine lebensgefährliche, höchst ansteckende Krankheit, die von den galaktischen Läufern im Jahr 2099 in das Sonnensystem eingeschleppt wurde. Die galaktischen Läufer stammen vom 13. Planeten der Sonne Beteigeuze aus dem Sternbild Orion.\n",
    "\n",
    "Das Beteigeuze-Fieber wird, ähnlich wie einige längst ausgestorbene Krankheiten der Erde, in 5 Stadien unterteilt. Die Stadien lauten:\n",
    "- gesund\n",
    "- infiziert\n",
    "- krank\n",
    "- schwer krank\n",
    "- tot\n",
    "\n",
    "Der Krankheitsverlauf des Fiebers läuft erfahrungsgemäß folgendermaßen ab:\n",
    "\n",
    "- 10% der Gesunden werden pro Woche infiziert.\n",
    "- 3% der Infizierten werden pro Woche gesund, 80% werden pro Woche krank und 6% schwer krank.\n",
    "- 10% der Kranken werden schwer krank, 50% der Kranken werden gesund.\n",
    "- 43% der Schwerkranken wechseln im Zuge der Genesung zurück in das Stadium krank, 9% der Schwerkranken sterben.\n",
    "\n",
    "Wer die Krankheit einmal überlebt hat, ist immun und erkrankt nicht noch einmal. 3 % der Bevölkerung ist deswegen auf Grund der 1. Großen Beteigeuze-Epidemie im Jahre 2108 immun. Wir gehen davon aus, dass die New Atlantiker bevölkerungstechnisch stabil sind. Aus einer früheren Epidemie sind noch 1500 Menschen immun.\n",
    "\n",
    "## Aufgabenstellung\n",
    "\n",
    "### Aufgabe 1 – Modellieren Sie den Krankheitsverlauf\n",
    "1. Schreiben Sie das Übergangsgesetz in Matrixform\n",
    "2. Wie lautet die Krankheitsverteilung vier Wochen nach dem Ausbruch?\n",
    "3. Wie viele Einwohner sind nach einem Jahr gestorben?\n",
    "4. Zeichnen für die ersten 10 Wochen jeweils ein Diagramm?\n",
    "5. Erstellen Sie eine Animation für die Bevölkerungsverteilung auf die Stadien für das erste Jahr (Sie können auch einen Slider für die Monate verwenden)\n",
    "\n",
    "### Aufgabe 2 – Bestimmen Sie das Ender der Epidemie\n",
    "1. Nach welcher Zeit ist die Epidemie überstanden? d.h. weniger als 0,1% der Bevölkerung ist krank.\n",
    "2. Wie viele New Atlantiker werden insgesamt sterben? (Vorsicht diese Aufgabe ist unabhängig von der letzten.\n",
    "3. Welche Kosten entstehen für die Epidemie, wenn ein kranker Atlantiker pro Woche 20 Space Coins kostet und ein schwer kranker Atlantiker 150?\n",
    "\n",
    "### Aufgabe 3 – Einfluss von Impfung\n",
    "Stellen Sie Überlegungen zum Einsatz einer Impfung an und bauen diese Überlegungen in Ihre Modelle ein. Eine Impfung kostet Geld (z.B. 15 Space Coins) und verringert die Wahr- scheinlichkeit zu erkranken oder schwer zu erkranken. (z.B. Wahrscheinlichkeit schwer zu erkranken wird um 50% reduziert). Diskutieren Sie, welchen Kriterien eine Impfung genügen müsste.\n"
   ]
  },
  {
   "cell_type": "markdown",
   "id": "2638d9dd",
   "metadata": {},
   "source": [
    "\n",
    "## Problemdefinition und gesuchte Werte\n",
    "### Aufgabe 1 – Modellieren Sie den Krankheitsverlauf\n",
    "1. **Übergangsgesetz in Matrixform**: Wir suchen eine Methode, um die Übergangswahrscheinlichkeiten zwischen den Krankheitsstadien (gesund, infiziert, krank, schwer krank, tot, immun) in einer Matrix darzustellen.\n",
    "2. **Krankheitsverteilung nach vier Wochen**: Wir wollen die Verteilung der Bevölkerung auf die Krankheitsstadien vier Wochen nach Ausbruch der Epidemie ermitteln.\n",
    "3. **Todesfälle nach einem Jahr**: Wir möchten berechnen, wie viele Menschen nach einem Jahr an der Krankheit gestorben sind.\n",
    "4. **Diagramme für die ersten 10 Wochen**: Wir erstellen Diagramme, die die Verteilung der Bevölkerung auf die Krankheitsstadien in den ersten 10 Wochen zeigen.\n",
    "5. **Bevölkerungsverteilung animieren**: Wir erstellen eine Animation, die die Veränderung der Krankheitsstadien der Bevölkerung im ersten Jahr zeigt, optional mit einem Slider für die Monate.\n",
    "\n",
    "### Aufgabe 2 – Bestimmen Sie das Ende der Epidemie\n",
    "1. **Ende der Epidemie**: Wir suchen den Zeitpunkt(die genaue Woche), an dem die Epidemie vorbei ist, d.h. wenn weniger als 0,1% der Bevölkerung krank sind.\n",
    "2. **Gesamtzahl der Todesfälle**: Wir wollen ermitteln, wie viele Einwohner von New Atlantis insgesamt an der Epidemie sterben werden(also nache dem \"biologischem Ende\" der Epidemie).\n",
    "3. **Kosten der Epidemie**: Wir berechnen die Kosten der Epidemie, wobei ein kranker Einwohner pro Woche 20 Space Coins und ein schwer kranker Einwohner 150 Space Coins kostet.\n",
    "\n",
    "### Aufgabe 3 – Einfluss von Immunisierung\n",
    "1. **Einsatz einer Impfung**: Wir überlegen, wie der Einsatz einer Impfung die Epidemie beeinflussen könnte und integrieren dies in unser Modell.\n",
    "    - Wir berücksichtigen die Kosten der Impfung (z.B. 15 Space Coins pro Impfung).\n",
    "    - Wir diskutieren, wie die Impfung die Wahrscheinlichkeit zu erkranken oder schwer zu erkranken reduzieren könnte (z.B. um 50%).\n",
    "    - Wir überlegen, welche Kriterien eine Impfung erfüllen müsste, um effektiv zu sein und eine Kosten-Nutzen-Analyse zu rechtfertigen.\n",
    "\n",
    "## Vorgaben\n",
    "- 50000 Einwohner wovon 1500 immun sind\n",
    "- 5 Stadien:\n",
    "    - gesund\n",
    "    - infiziert\n",
    "    - krank\n",
    "    - schwer krank\n",
    "    - tot\n",
    "- Krankheitsverlauf:\n",
    "    - 10% der Gesunden werden pro Woche infiziert.\n",
    "    - 3% der Infizierten werden pro Woche gesund, 80% werden pro Woche krank und 6% schwer krank.\n",
    "    - 10% der Kranken werden schwer krank, 50% der Kranken werden gesund.\n",
    "    - 43% der Schwerkranken wechseln im Zuge der Genesung zurück in das Stadium krank, 9% der Schwerkranken sterben.\n",
    "\n",
    "\n",
    "## Allgemeine Annahmen[9]\n",
    "- **Immunität**: Aus einer vorherigen Epidemie sind 1.500 Menschen immun und können sich nicht mehr anstecken oder krank werden.\n",
    "    - Der Immun-Status wird als sechstes Stadium betrachtet und erhält einen eigenen Eintrag in der Markov-Matrix.\n",
    "    - Die Bevölkerung besteht zu Beginn (Woche 0) aus 48.500 gesunden und 1.500 immunen Individuen.\n",
    "- **Patient 0**: In der ersten Woche gibt es einen Infizierten.\n",
    "- **Immunisierung durch Genesung**: Wenn kranke Menschen wieder gesund werden, werden sie auch immun. Dies wird im Eintrag (6,3) der Markov-Matrix berücksichtigt.\n",
    "- **Markov-Matrix Annahmen**: Um die Eigenschaften der Markov-Matrix zu erfüllen (die Summe jeder Spalte muss eins ergeben), wurden Annahmen für die Wahrscheinlichkeiten getroffen.\n",
    "    - Beispiel: Wenn 10% der gesunden Menschen infiziert werden, bleiben die restlichen 90% gesund.\n",
    "\n"
   ]
  },
  {
   "cell_type": "markdown",
   "id": "8f75ca0a",
   "metadata": {},
   "source": [
    "# Lösungsansätze\n",
    "## Allgemein\n",
    "- Wir erstellen eine Klasse, die den Verlauf der Epidemie simuliert.\n",
    "\n",
    "## Aufgabe 1 – Modellieren Sie den Krankheitsverlauf\n",
    "\n",
    "### 1.1 Übergangsgesetz in Matrixform[1][5]\n",
    "- Wir tragen die Übergangswahrscheinlichkeiten zwischen den Krankheitsstadien in die Markov-Matrix ein. Dabei stellen wir sicher, dass jede Spalte der Matrix zu 1 (bzw. 100%) summiert.\n",
    "\n",
    "### 1.2 Krankheitsverteilung nach vier Wochen[3][5]\n",
    "- Wir definieren einen Status Vektor, der den Zustand am Anfang der Epidemie repräsentiert.\n",
    "- Wir definieren eine Hilfsfunktionen für die Simulation der Epidemie.\n",
    "- Wir multiplizieren die Markov-Matrix mit dem Statusvektor. Das Ergebnis nach vier Iterationen (vier Wochen) ist der Statusvektor nach dieser Zeit.\n",
    "- Der Status Vektor repräsentiert die verschiedenen Stadien in der Bevölkerung zum ausgewählten Zeitpunkt.\n",
    "\n",
    "### 1.3 Todesfälle nach einem Jahr[3][5]\n",
    "- Wir simulieren den Verlauf der Epidemie für ein Jahr (52 Wochen), indem wir die Multiplikation 52 Mal durchführen.\n",
    "- Die Anzahl der Tode wird durch den Eintrag \"tote\" im Status Vektor ausgerechnet .\n",
    "\n",
    "### 1.4 Diagramm für den Epidemieverlauf in den ersten zehn Wochen[4][7]\n",
    "- Wir visualisieren den Verlauf der ersten 10 Wochen mit den Hilfsfunktionen unserer Klasse und der Matplotlib-Bibliothek.\n",
    "\n",
    "### 1.5 Animation für die Bevölkerungsverteilung auf die Stadien für das erste Jahr[6][7]\n",
    "- Wir animieren die Bevölkerungsverteilung auf die verschiedenen Stadien für das erste Jahr mit den Hilfsfunktionen unserer Klasse und der SageMath-Umgebung.\n",
    "\n",
    "\n",
    "## Was verwenden wir, um das Problem zu lösen? \n",
    "### Aufgabe 1.1:  Markov Matrix[1][5]\n",
    "\n",
    "$\n",
    "P = \\begin{pmatrix}\n",
    "p_{11} & p_{12} & \\cdots & p_{1n} \\\\\n",
    "p_{21} & p_{22} & \\cdots & p_{2n} \\\\\n",
    "\\vdots & \\vdots & \\ddots & \\vdots \\\\\n",
    "p_{n1} & p_{n2} & \\cdots & p_{nn}\n",
    "\\end{pmatrix}\n",
    "$\n",
    "\n",
    "wobei  $ \\sum_{i=1}^{n} p_{ij} = 1 \\quad \\text{für alle } j \\in \\{1, 2, \\ldots, n\\}\n",
    "$,\n",
    "\n",
    "und  $\n",
    "p_{ij} \\geq 0 \\quad \\text{für alle } i, j \\in \\{1, 2, \\ldots, n\\}\n",
    "$\n",
    "\n",
    "### Aufgabe 1.2: Status Vektor und Multiplikation mit Markov Matrix[3][5]\n",
    "\n",
    "Wenn eine Markov-Matrix $P$ mit einem Statusvektor $s$ multipliziert wird, ergibt sich ein neuer Statusvektor $s' $. Die allgemeine Formel sieht folgendermaßen aus:\n",
    "\n",
    "$\n",
    "P = \\begin{pmatrix}\n",
    "p_{11} & p_{12} & \\cdots & p_{1n} \\\\\n",
    "p_{21} & p_{22} & \\cdots & p_{2n} \\\\\n",
    "\\vdots & \\vdots & \\ddots & \\vdots \\\\\n",
    "p_{n1} & p_{n2} & \\cdots & p_{nn}\n",
    "\\end{pmatrix}\n",
    "$\n",
    "\n",
    "$\n",
    "\\mathbf{s} = \\begin{pmatrix}\n",
    "s_1 \\\\\n",
    "s_2 \\\\\n",
    "\\vdots \\\\\n",
    "s_n\n",
    "\\end{pmatrix}\n",
    "$\n",
    "\n",
    "Das Produkt $\\mathbf{s'} = P \\mathbf{s} $  ergibt den neuen Statusvektor $ \\mathbf{s'} $:\n",
    "\n",
    "$\n",
    "\\mathbf{s'} = \\begin{pmatrix}\n",
    "s_1' \\\\\n",
    "s_2' \\\\\n",
    "\\vdots \\\\\n",
    "s_n'\n",
    "\\end{pmatrix}\n",
    "$\n",
    "\n",
    "wobei\n",
    "\n",
    "$\n",
    "\\mathbf{s'} = P \\mathbf{s} = \\begin{pmatrix}\n",
    "p_{11} & p_{12} & \\cdots & p_{1n} \\\\\n",
    "p_{21} & p_{22} & \\cdots & p_{2n} \\\\\n",
    "\\vdots & \\vdots & \\ddots & \\vdots \\\\\n",
    "p_{n1} & p_{n2} & \\cdots & p_{nn}\n",
    "\\end{pmatrix}\n",
    "\\begin{pmatrix}\n",
    "s_1 \\\\\n",
    "s_2 \\\\\n",
    "\\vdots \\\\\n",
    "s_n\n",
    "\\end{pmatrix}\n",
    "$\n",
    "\n",
    "### Aufgaben 1.3, 1.4, 1.5: Analog zu Aufgabe 1.2 [4][6][7]"
   ]
  },
  {
   "cell_type": "markdown",
   "id": "07d20ee7",
   "metadata": {},
   "source": [
    "# Hilfsklasse für Aufgaben 1 und 2"
   ]
  },
  {
   "cell_type": "code",
   "execution_count": 2,
   "id": "9521f8e4",
   "metadata": {},
   "outputs": [],
   "source": [
    "class Krankheit_verlauf_2115():\n",
    "    #Konstruktor\n",
    "    def __init__(self):\n",
    "        \n",
    "        # Aufgabe 1.1\n",
    "        #Krankheitsverlauf-Matrix\n",
    "        self.uebergangsgesetz = [\n",
    " #           #G   #I   #K   #SK     #T #Im            \n",
    "            [0.9, 0.03, 0,   0,     0,  0],#G         \n",
    "            [0.1, 0.11, 0,   0,     0,  0],#I\n",
    "            [0,   0.8,  0.4, 0.43,  0,  0],#K\n",
    "            [0,   0.06, 0.1, 0.48,  0,  0],#SK\n",
    "            [0,   0,    0,   0.09,  1,  0],#T\n",
    "            [0,   0,    0.5, 0,     0,  1] #Im\n",
    "        ]\n",
    "        \n",
    "        #Status der Bevölkerung am Anfang\n",
    "        self.n_population = 50000\n",
    "        self.n_immun = 1500\n",
    "        self.infiziert_status = 1  # Annahme: Beginn mit 1 infizierten Person (Patient 0)\n",
    "        self.gesund_status = self.n_population - self.n_immun - self.infiziert_status \n",
    "        self.krank_status = 0\n",
    "        self.schwerkrank_status = 0\n",
    "        self.tot_status = 0\n",
    "        \n",
    "        \n",
    "        #Status-Vektor\n",
    "        self.start_status =[\n",
    "            self.gesund_status, \n",
    "            self.infiziert_status, \n",
    "            self.krank_status, \n",
    "            self.schwerkrank_status, \n",
    "            self.tot_status,\n",
    "            self.n_immun\n",
    "        ]\n",
    "    \n",
    "    \n",
    "    #Simulation der Epidemie mit Status Vektor\n",
    "    #Status Vektor wird zum ausgewälten Zeitpunkt zurückgegeben\n",
    "    def simulation(self, wochen):\n",
    "        M = Matrix(self.uebergangsgesetz)\n",
    "        v = vector(self.start_status)\n",
    "        for i in range(wochen):\n",
    "            v = M * v\n",
    "        return v\n",
    "    \n",
    "    \n",
    "    #Simulation der Epidemie mit Status Vektor\n",
    "    #Status Vektor wird zum ausgewälten Zeitpunkt ausgegeben\n",
    "    def pretty_simulation(self, wochen):\n",
    "        M = Matrix(self.uebergangsgesetz)\n",
    "        v = vector(self.start_status)\n",
    "        for i in range(wochen):\n",
    "            v = M * v\n",
    "        print(f\"gesund: {round(v[0])}, infiziert: {round(v[1])}, krank: {round(v[2])}, schwer krank: {round(v[3])}, tot: {round(v[4])}, immun: {round(v[5])}\")\n",
    "    \n",
    "    \n",
    "    #Aufgabe 2.1\n",
    "    def epidemie_ueberstanden(self):\n",
    "        M = Matrix(self.uebergangsgesetz)\n",
    "        v = vector(self.start_status)\n",
    "        woche = 0\n",
    "        i=0\n",
    "        while v[2] + v[3] >= 0.001 * self.n_population or i<=3:  # Summe der Kranken und Schwerkranken\n",
    "            v = M * v\n",
    "            woche += 1\n",
    "            if i <=3:\n",
    "                i+=1\n",
    "        return woche\n",
    "    \n",
    "    \n",
    "    #Aufgabe 2.2\n",
    "    def epidemie_tode(self):\n",
    "        M = Matrix(self.uebergangsgesetz)\n",
    "        v = vector(self.start_status)\n",
    "        woche=0\n",
    "        while v[0]+v[1]+v[2]+v[3] > 0.5: #Simulation der Epidemie bis es keine krankem Individuen mehr gibt\n",
    "            v = M * v                    #Aufrunden auf 0.5\n",
    "            woche+=1\n",
    "        return round(v[4]),int(woche)\n",
    "    \n",
    "    \n",
    "    #Aufgabe 2.3    \n",
    "    def kosten_kranker(self):\n",
    "        M = Matrix(self.uebergangsgesetz)\n",
    "        v = vector(self.start_status)\n",
    "        ende_epideemie = self.epidemie_tode()[1]\n",
    "        kosten=0\n",
    "        kranker = 20 \n",
    "        schwer_kranker = 150\n",
    "        for i in range(ende_epideemie):\n",
    "            kosten += v[2]*kranker + v[3]*schwer_kranker\n",
    "            v= M * v\n",
    "        return round(kosten,2)\n",
    "\n",
    "#Epidemie erstellen mit Konstruktor    \n",
    "epidemie = Krankheit_verlauf_2115()             "
   ]
  },
  {
   "cell_type": "markdown",
   "id": "fd2308f6",
   "metadata": {},
   "source": [
    "## Einsetzen in die Problemstellung"
   ]
  },
  {
   "cell_type": "markdown",
   "id": "fd3d77e5",
   "metadata": {},
   "source": [
    "### 1.2 Krankheitsverteilung nach vier Wochen\n"
   ]
  },
  {
   "cell_type": "code",
   "execution_count": 3,
   "id": "60f955b3",
   "metadata": {},
   "outputs": [
    {
     "name": "stdout",
     "output_type": "stream",
     "text": [
      "Nach 4 Wochen sieht die Bevölkerung wie folgend aus:\n",
      "gesund: 32205, infiziert: 4056, krank: 6177, schwer krank: 1223, tot: 100, immun: 6239\n"
     ]
    }
   ],
   "source": [
    "print(\"Nach 4 Wochen sieht die Bevölkerung wie folgend aus:\")\n",
    "epidemie.pretty_simulation(4)"
   ]
  },
  {
   "cell_type": "markdown",
   "id": "8d77e006",
   "metadata": {},
   "source": [
    "### 1.3 Tode nach einem Jahr\n"
   ]
  },
  {
   "cell_type": "code",
   "execution_count": 4,
   "id": "62ff79ef",
   "metadata": {},
   "outputs": [
    {
     "name": "stdout",
     "output_type": "stream",
     "text": [
      "Nach einem Jahr sterben 2169 Menschen.\n"
     ]
    }
   ],
   "source": [
    "tode_nach_Jahr = epidemie.simulation(52)[4]\n",
    "print(f\"Nach einem Jahr sterben {int(tode_nach_Jahr)} Menschen.\")"
   ]
  },
  {
   "cell_type": "markdown",
   "id": "4330ab0b",
   "metadata": {},
   "source": [
    "\n",
    "### 1.4 Diagramm für Epidemieverlauf in den ersten zehn Wochen\n"
   ]
  },
  {
   "cell_type": "code",
   "execution_count": 5,
   "id": "d6518b14",
   "metadata": {},
   "outputs": [
    {
     "data": {
      "application/vnd.jupyter.widget-view+json": {
       "model_id": "969b4e07d7804ea9b524c3dcacb68c17",
       "version_major": 2,
       "version_minor": 0
      },
      "text/plain": [
       "Interactive function <function interactive_plot at 0x117781c60> with 1 widget\n",
       "  wochen: TransformIntSlider(value=1, description='Wochen', max=10)"
      ]
     },
     "metadata": {},
     "output_type": "display_data"
    }
   ],
   "source": [
    "import matplotlib.pyplot as plt\n",
    "\n",
    "# Initialisieren der Listen, um die Daten für jede Woche zu sammeln\n",
    "gesund = []\n",
    "infiziert = []\n",
    "krank = []\n",
    "schwer_krank = []\n",
    "tot = []\n",
    "immun = []\n",
    "\n",
    "# Daten für jede Woche sammeln\n",
    "for woche in range(11):  # 0 bis 10 Wochen\n",
    "    ergebnisse = epidemie.simulation(woche)\n",
    "    gesund.append((woche, round(ergebnisse[0]))) # round(), um Rundungsfehler zu vermeiden\n",
    "    infiziert.append((woche, round(ergebnisse[1])))\n",
    "    krank.append((woche, round(ergebnisse[2])))\n",
    "    schwer_krank.append((woche, round(ergebnisse[3])))\n",
    "    tot.append((woche, round(ergebnisse[4])))\n",
    "    immun.append((woche, round(ergebnisse[5])))\n",
    "\n",
    "def plot_epidemie_data(wochen=1):\n",
    "    # Daten für die gewünschte Woche sammeln\n",
    "    woche_data = {\n",
    "        \"Gesund\": gesund[:wochen+1],\n",
    "        \"Infiziert\": infiziert[:wochen+1],\n",
    "        \"Krank\": krank[:wochen+1],\n",
    "        \"Schwer krank\": schwer_krank[:wochen+1],\n",
    "        \"Tot\": tot[:wochen+1],\n",
    "        \"Immun\": immun[:wochen+1]\n",
    "    }\n",
    "\n",
    "    # Aktuelle Woche und Anzahl der betroffenen Personen drucken\n",
    "    aktuelle_werte = {\n",
    "        \"Gesund\": gesund[wochen][1],\n",
    "        \"Infiziert\": infiziert[wochen][1],\n",
    "        \"Krank\": krank[wochen][1],\n",
    "        \"Schwer krank\": schwer_krank[wochen][1],\n",
    "        \"Tot\": tot[wochen][1],\n",
    "        \"Immun\": immun[wochen][1]\n",
    "    }\n",
    "\n",
    "    print(f\"Woche {wochen}:\")\n",
    "    for zustand, anzahl in aktuelle_werte.items():\n",
    "        print(f\"{zustand}: {anzahl}\")\n",
    "\n",
    "    # Diagramm zeichnen\n",
    "    plt.figure(figsize=(10, 6))\n",
    "\n",
    "    # Zeichnen jeder Kategorie\n",
    "    plt.plot(*zip(*woche_data[\"Gesund\"]), color=\"lightgreen\", label=\"Gesund\", marker='o', linestyle=\"--\")\n",
    "    plt.plot(*zip(*woche_data[\"Infiziert\"]), color=\"yellow\", label=\"Infiziert\", marker='s', linestyle=\"-.\")\n",
    "    plt.plot(*zip(*woche_data[\"Krank\"]), color=\"orange\", label=\"Krank\", marker='^', linestyle=\":\")\n",
    "    plt.plot(*zip(*woche_data[\"Schwer krank\"]), color=\"red\", label=\"Schwer krank\", marker='v', linestyle=\"-\")\n",
    "    plt.plot(*zip(*woche_data[\"Tot\"]), color=\"black\", label=\"Tot\", marker='x', linestyle=\"--\")\n",
    "    plt.plot(*zip(*woche_data[\"Immun\"]), color=\"darkgreen\", label=\"Immun\", marker='p', linestyle=\"-\")\n",
    "\n",
    "    plt.xlabel('Zeit in Wochen')\n",
    "    plt.ylabel('Einwohnerzahl')\n",
    "    plt.title('Das Beteigeuze-Fieber')\n",
    "    plt.legend(loc='upper right')\n",
    "    plt.grid(True)\n",
    "    plt.xlim(0, 10)  # Bereich der x-Achse auf 10 Wochen beschränken\n",
    "    plt.show()\n",
    "\n",
    "# Interaktive Funktion mit Slider zur Auswahl der Woche\n",
    "@interact\n",
    "def interactive_plot(wochen=slider(0, 10, 1, default=1, label=\"Wochen\")):\n",
    "    plot_epidemie_data(int(wochen))\n",
    "\n"
   ]
  },
  {
   "cell_type": "markdown",
   "id": "e0b3a472",
   "metadata": {},
   "source": [
    "\n",
    "### 1.5 Animation für die Bevölkerungsverteilung auf die Stadien für das erste Jahr"
   ]
  },
  {
   "cell_type": "code",
   "execution_count": 6,
   "id": "4f121d8d",
   "metadata": {},
   "outputs": [
    {
     "data": {
      "application/vnd.jupyter.widget-view+json": {
       "model_id": "9a5a9b26d5ba41a6a031492fce72503e",
       "version_major": 2,
       "version_minor": 0
      },
      "text/plain": [
       "Interactive function <function interactive_plot at 0x117880720> with 1 widget\n",
       "  wochen: TransformIntSlider(value=0, description='wochen', max=52)"
      ]
     },
     "metadata": {},
     "output_type": "display_data"
    }
   ],
   "source": [
    "def animate_population(wochen=1):\n",
    "    status = epidemie.simulation(wochen)\n",
    "    categories = [\"Gesund\", \"Infiziert\", \"Krank\", \"Schwer kr.\", \"Tot\", \"Immun\"]\n",
    "    colors = ['lightgreen', 'yellow', 'orange', 'red', 'black', 'darkgreen']  # Farben definieren\n",
    "\n",
    "    # Balkendiagramm\n",
    "    fig, ax = plt.subplots()\n",
    "    bars = ax.bar(categories, status, width=0.8, color=colors)\n",
    "\n",
    "    # Textlabels über jeder Bar für die Anzahl betroffener Personen\n",
    "    for i, rect in enumerate(bars):\n",
    "        height = rect.get_height()\n",
    "        ax.text(rect.get_x() + rect.get_width() / 2., 1.05 * height, f'{round(status[i])}',\n",
    "                ha='center', va='bottom', fontsize=10, color='black')\n",
    "\n",
    "    # Entfernen von x-Achsenticks und setzen der Kategorienamen als Labels\n",
    "    ax.set_xticks(range(len(categories)))  \n",
    "    ax.set_xticklabels(categories)\n",
    "\n",
    "    # Y-Achse beschriften\n",
    "    ax.set_ylabel(\"Anzahl betroffener Personen\")\n",
    "\n",
    "    # y-Achsenbereich festlegen und Rahmen anzeigen\n",
    "    ax.set_ylim(0, epidemie.n_population)\n",
    "    ax.set_frame_on(True)\n",
    "\n",
    "    plt.show()\n",
    "\n",
    "# Interaktionsfunktion mit einem Slider, der es erlaubt, die Woche einzustellen\n",
    "@interact(wochen=slider(0, 52, 1, 0))\n",
    "def interactive_plot(wochen):\n",
    "    animate_population(wochen)"
   ]
  },
  {
   "cell_type": "markdown",
   "id": "75c630f7",
   "metadata": {},
   "source": [
    "# Lösungsansätze\n",
    "# Aufgabe 2 – Bestimmen Sie das Ende der Epidemie\n",
    "\n",
    "### 2.1 Überstehen der Epidemie (Anzahl Erkrankte < 0,1 %)\n",
    "- Wir simulieren den Verlauf der Epidemie mithilfe einer Hilfsfunktion, bis der Anteil der kranken und schwer kranken Individuen unter 0,1 % liegt.\n",
    "- Das Ergebnis ist die Woche, in der dieser Zustand erreicht wird.\n",
    "\n",
    "**siehe Hilfsklasse**\n",
    "\n",
    "### 2.2 Todesfälle nach biologischem Ende der Epidemie\n",
    "**Annahme**: Die Epidemie gilt als beendet, wenn alle Individuen entweder tot oder immun sind.[9]\n",
    "- Wir simulieren den Verlauf der Epidemie mithilfe einer Hilfsfunktion, bis nur noch tote oder immune Individuen verbleiben.\n",
    "- Das Ergebnis ist die Woche, in der wir das biologische Ende der Epidemie erreichen.\n",
    "\n",
    "**siehe Hilfsklasse**\n",
    "\n",
    "### 2.3 Kosten für Kranke im Verlauf der Epidemie\n",
    "- Wir simulieren den Verlauf der Epidemie bis zum biologischen Ende. Dabei erfassen wir wöchentlich die Anzahl der kranken und schwer kranken Individuen und multiplizieren diese mit den entsprechenden Kosten.\n",
    "- Das Ergebnis sind die Gesamtkosten am Ende der Epidemie.\n",
    "\n",
    "\n",
    "**siehe Hilfsklasse**\n",
    "\n",
    "## Was verwenden wir, um das Problem zu lösen?\n",
    "- Analog zu Aufgabe 1 verwenden wir die Multiplikation der Markov-Matrix $P$ mit dem Statusvektor $s$, um den Verlauf der Epidemie zu simulieren.[1][3][5]\n",
    "\n",
    "\n",
    "$\n",
    "\\mathbf{s'} = P \\mathbf{s} = \\begin{pmatrix}\n",
    "p_{11} & p_{12} & \\cdots & p_{1n} \\\\\n",
    "p_{21} & p_{22} & \\cdots & p_{2n} \\\\\n",
    "\\vdots & \\vdots & \\ddots & \\vdots \\\\\n",
    "p_{n1} & p_{n2} & \\cdots & p_{nn}\n",
    "\\end{pmatrix}\n",
    "\\begin{pmatrix}\n",
    "s_1 \\\\\n",
    "s_2 \\\\\n",
    "\\vdots \\\\\n",
    "s_n\n",
    "\\end{pmatrix}\n",
    "$\n",
    "\n",
    "\n",
    "## Einsetzen in die Aufgabenstellung\n",
    "### 2.1 Ende der Epidemie"
   ]
  },
  {
   "cell_type": "code",
   "execution_count": 7,
   "id": "1228ca25",
   "metadata": {},
   "outputs": [
    {
     "name": "stdout",
     "output_type": "stream",
     "text": [
      "Die Epidemie ist nach 58 Wochen überstanden.\n"
     ]
    }
   ],
   "source": [
    "print(f\"Die Epidemie ist nach {epidemie.epidemie_ueberstanden()} Wochen überstanden.\")"
   ]
  },
  {
   "cell_type": "markdown",
   "id": "73eff9e0",
   "metadata": {},
   "source": [
    "### 2.2 Gesamtzahl der Todesfälle"
   ]
  },
  {
   "cell_type": "code",
   "execution_count": 8,
   "id": "d4d18b2e",
   "metadata": {},
   "outputs": [
    {
     "name": "stdout",
     "output_type": "stream",
     "text": [
      "Es sterben insgesamt 2189 Individuen nach 118 Wochen.\n"
     ]
    }
   ],
   "source": [
    "print(f\"Es sterben insgesamt {epidemie.epidemie_tode()[0]} Individuen nach {epidemie.epidemie_tode()[1]} Wochen.\")"
   ]
  },
  {
   "cell_type": "markdown",
   "id": "2195eeb8",
   "metadata": {},
   "source": [
    "### 2.3 Kosten der Epidemie"
   ]
  },
  {
   "cell_type": "code",
   "execution_count": 9,
   "id": "816092fc",
   "metadata": {},
   "outputs": [
    {
     "name": "stdout",
     "output_type": "stream",
     "text": [
      "Die Gesamtkosten für Erkranke nach der Epidemie betragen 5500270.78 Space Coins\n"
     ]
    }
   ],
   "source": [
    "print(f\"Die Gesamtkosten für Erkranke nach der Epidemie betragen {epidemie.kosten_kranker()} Space Coins\")"
   ]
  },
  {
   "cell_type": "markdown",
   "id": "02a4e10c",
   "metadata": {},
   "source": [
    "# Lösungsansätze\n",
    "\n",
    "# Aufgabe 3 – Einfluss von Impfung\n",
    "\n",
    "## Annahmen[2][8]\n",
    "\n",
    "- Gesunde, infizierte, kranke und schwer kranke Individuen werden geimpft.\n",
    "- Immune und verstorbene Individuen werden nicht geimpft.\n",
    "- Durch die Impfung verringert sich die Wahrscheinlichkeit um 50%, in den infizierten, kranken, schwer kranken oder toten Status überzugehen.\n",
    "- Die Impfung beginnt ab der fünften Woche.\n",
    "- Die Impfrate beträgt:\n",
    "    1. 5% bei gesunden Individuen\n",
    "    2. 3% bei infizierten Individuen\n",
    "    3. 2% bei kranken Individuen\n",
    "    4. 1% bei schwer kranken Individuen\n",
    "\n",
    "## Allgemein\n",
    "\n",
    "- Es wird eine Subklasse erstellt, die den Verlauf der Epidemie unter Berücksichtigung der Impfung simuliert.\n",
    "- Folgende Stadien werden der Übergangsmatrix hinzugefügt:\n",
    "    1. gesund und geimpft\n",
    "    2. infiziert und geimpft\n",
    "    3. krank und geimpft\n",
    "    4. schwer krank und geimpft\n",
    "- Die oben genannten Stadien werden auch dem Statusvektor hinzugefügt.\n",
    "- Es werden Hilfsfunktionen definiert, die den Verlauf der Epidemie mit Impfung simulieren.\n",
    "- Diese Hilfsfunktionen werden verwendet, um die verschiedenen Szenarien zu vergleichen.\n",
    "\n",
    "## Ziel der Auswertung\n",
    "\n",
    "- Ziel ist es, die verschiedenen Szenarien mit und ohne Impfung anhand der folgenden Kriterien zu bewerten:\n",
    "    1. Offizielle Epidemiedauer (<0,1%)\n",
    "    2. Biologische Epidemiedauer\n",
    "    3. Anzahl der Todesfälle\n",
    "    4. Gesamtkosten\n",
    "  \n",
    "\n",
    "# Hilfsklasse für die Simulation der Epidemie mit Impfung\n"
   ]
  },
  {
   "cell_type": "code",
   "execution_count": 10,
   "id": "398bb627",
   "metadata": {},
   "outputs": [],
   "source": [
    "class Krankheit_verlauf_mit_Impfung(Krankheit_verlauf_2115):\n",
    "    def __init__(self):\n",
    "        super().__init__()\n",
    "        \n",
    "        # Modifikation der Übergangsmatrix für die Auswirkungen der Impfung\n",
    "        # ' -> Impfung\n",
    "        self.uebergangsgesetz = [\n",
    "#            G    I     K    SK     T  Im   G'      I'     K'    SK' \n",
    "            [0.9, 0.03, 0,   0,     0, 0,   0,      0,     0,    0      ], #G\n",
    "            [0.1, 0.11, 0,   0,     0, 0,   0,      0,     0,    0      ], #I\n",
    "            [0,   0.8,  0.4, 0.43,  0, 0,   0,      0,     0,    0      ], #K\n",
    "            [0,   0.06, 0.1, 0.48,  0, 0,   0,      0,     0,    0      ], #SK\n",
    "            [0,   0,    0,   0.09,  1, 0,   0,      0,     0,    0.045  ], #T\n",
    "            [0,   0,    0.5, 0,     0, 1,   0,      0,     0.75, 0      ], #Im\n",
    "            [0,   0,    0,   0,     0, 0,   0.95,   0.515, 0,    0      ], #G'\n",
    "            [0,   0,    0,   0,     0, 0,   0.05,   0.055, 0,    0      ], #I'\n",
    "            [0,   0,    0,   0,     0, 0,   0,      0.4,   0.2,  0.715  ], #K'\n",
    "            [0,   0,    0,   0,     0, 0,   0,      0.03,  0.05, 0.24   ], #SK'\n",
    "        ]\n",
    "        \n",
    "        #Status mit Berücksichtigung von Impfung\n",
    "        self.gesund_status_geimpft = 0\n",
    "        self.infizier_status_geimpft = 0\n",
    "        self.krank_status_geimpft = 0\n",
    "        self.schwerkrank_status_geimpft = 0\n",
    "        \n",
    "        # Erweiterter Status-Vektor mit Impfung\n",
    "        self.start_status.extend([\n",
    "            self.gesund_status_geimpft,\n",
    "            self.infizier_status_geimpft,\n",
    "            self.krank_status_geimpft,\n",
    "            self.schwerkrank_status_geimpft\n",
    "        ])\n",
    "    \n",
    "    # Impfvorgang\n",
    "    def impfen(self, v):\n",
    "        impfung_gesunde = v[0] * 0.05\n",
    "        impfung_infizierte = v[1] * 0.03\n",
    "        impfung_kranke = v[2] * 0.02\n",
    "        impfung_schwerkranke = v[3] * 0.01        \n",
    "        v[0] -= impfung_gesunde\n",
    "        v[1] -= impfung_infizierte\n",
    "        v[2] -= impfung_kranke\n",
    "        v[3] -= impfung_schwerkranke \n",
    "        v[6] += impfung_gesunde\n",
    "        v[7] += impfung_infizierte\n",
    "        v[8] += impfung_kranke\n",
    "        v[9] += impfung_schwerkranke\n",
    "        return vector(v)\n",
    "                \n",
    "    def simulation(self, wochen):\n",
    "        M = Matrix(self.uebergangsgesetz)\n",
    "        v = vector(self.start_status)\n",
    "        for i in range(wochen):\n",
    "            if i >= 4:\n",
    "                v = self.impfen(v)               \n",
    "            v = M * v\n",
    "        return v\n",
    "    \n",
    "    def pretty_simulation(self, wochen):\n",
    "        M = Matrix(self.uebergangsgesetz)\n",
    "        v = vector(self.start_status)\n",
    "        for i in range(wochen):\n",
    "            if i >= 4:\n",
    "                v = self.impfen(v)                \n",
    "            v = M * v\n",
    "        print(f\"gesund: {round(v[0])}, infiziert: {round(v[1])}, krank: {round(v[2])}, schwer krank: {round(v[3])}, tot: {round(v[4])}, immun: {round(v[5])}, gesund geimpft: {round(v[6])}, infiziert geimpft: {round(v[7])}, krank geimpft: {round(v[8])}, schwer krank geimpft: {round(v[9])}\")\n",
    "        \n",
    "    def epidemie_ueberstanden_impfung(self):\n",
    "        M = Matrix(self.uebergangsgesetz)\n",
    "        v = vector(self.start_status)\n",
    "        woche = 0\n",
    "        i=0\n",
    "        while v[2] + v[3] + v[8] + v[9] >= 0.001 * self.n_population or i<=3:  # Summe der Kranken und Schwerkranken mit Berücksichtigung der Impfung\n",
    "            if woche >= 4:\n",
    "                v = self.impfen(v)\n",
    "            v = M * v\n",
    "            woche += 1\n",
    "            if i <=3:\n",
    "                i+=1\n",
    "        return woche\n",
    "    \n",
    "    \n",
    "    # Biologisches Ende\n",
    "    def epidemie_tode_impfung(self):\n",
    "        M = Matrix(self.uebergangsgesetz)\n",
    "        v = vector(self.start_status)\n",
    "        woche=0\n",
    "        while v[0]+v[1]+v[2]+v[3]+v[6]+v[7]+v[8]+v[9] > 1:\n",
    "            if woche >= 4:\n",
    "                v = self.impfen(v)                \n",
    "            v = M * v\n",
    "            woche+=1\n",
    "        return round(v[4]),woche\n",
    "\n",
    "    # Kostenrechnung\n",
    "    def kosten_kranker_impfung(self):\n",
    "        kranker_kosten_pro_woche = 20\n",
    "        schwerkranker_kosten_pro_woche = 150\n",
    "        impfung_kosten = 15\n",
    "\n",
    "        M = Matrix(self.uebergangsgesetz)\n",
    "        v = vector(self.start_status)\n",
    "        gesamtkosten = 0\n",
    "        impfung_gesamtkosten = 0\n",
    "\n",
    "        for woche in range(self.epidemie_tode_impfung()[1]):  # Berechnung der Impfung-Kosten \n",
    "            if woche >= 4:\n",
    "                \n",
    "                impfung_gesunde = v[0] * 0.05\n",
    "                impfung_infizierte = v[1] * 0.03\n",
    "                impfung_kranke = v[2] * 0.02\n",
    "                impfung_schwerkranke = v[3] * 0.01\n",
    "                impfung_gesamtkosten += (impfung_gesunde + impfung_infizierte + impfung_kranke + impfung_schwerkranke) * impfung_kosten\n",
    "                \n",
    "                v = self.impfen(v)\n",
    "            v = M * v\n",
    "            # Kranken-Kosten pro Woche\n",
    "            woche_kosten = (v[2] * kranker_kosten_pro_woche + \n",
    "                            v[3] * schwerkranker_kosten_pro_woche + \n",
    "                            v[8] * kranker_kosten_pro_woche + \n",
    "                            v[9] * schwerkranker_kosten_pro_woche)\n",
    "            gesamtkosten += woche_kosten\n",
    "\n",
    "        gesamtkosten += impfung_gesamtkosten\n",
    "        \n",
    "        return round(gesamtkosten, 2), round(impfung_gesamtkosten, 2)\n",
    "    \n",
    "        \n",
    "epidemie_impfung = Krankheit_verlauf_mit_Impfung()"
   ]
  },
  {
   "cell_type": "markdown",
   "id": "c93e42d1",
   "metadata": {},
   "source": [
    "## Auswertung der Epidemie mit Impfung\n",
    "### Simulation\n"
   ]
  },
  {
   "cell_type": "code",
   "execution_count": 11,
   "id": "f329d33d",
   "metadata": {},
   "outputs": [
    {
     "data": {
      "application/vnd.jupyter.widget-view+json": {
       "model_id": "82912c4edf1041618c9e6873bb995765",
       "version_major": 2,
       "version_minor": 0
      },
      "text/plain": [
       "Interactive function <function interactive_plot at 0x1178d8400> with 1 widget\n",
       "  wochen: TransformIntSlider(value=0, description='wochen', max=433)"
      ]
     },
     "metadata": {},
     "output_type": "display_data"
    }
   ],
   "source": [
    "# Funktion zur Animation der Population\n",
    "def animate_population_impfung(wochen=1):\n",
    "    status = epidemie_impfung.simulation(wochen)\n",
    "    kategorien = [\"Gesund\", \"Infiziert\", \"Krank\", \"Schwer kr.\", \"Tot\", \"Immun\", \"Gesund geimpft\", \"Infiziert geimpft\", \"Krank geimpft\", \"Schwer kr. geimpft\"]\n",
    "    farben = ['lightgreen', 'yellow', 'orange', 'red', 'black', 'darkgreen', 'lightgreen', 'yellow', 'orange', 'red']  # Farben definieren\n",
    "\n",
    "    # Balkendiagramm\n",
    "    fig, ax = plt.subplots(figsize=(12, 6))\n",
    "    bars = ax.bar(kategorien, status, width=0.5, color=farben)\n",
    "\n",
    "    # Textlabels über jeder Bar für die Anzahl betroffener Personen\n",
    "    for i, rect in enumerate(bars):\n",
    "        height = rect.get_height()\n",
    "        ax.text(rect.get_x() + rect.get_width() / 2., 1.05 * height, f'{round(status[i])}',\n",
    "                ha='center', va='bottom', fontsize=10, color='black')\n",
    "\n",
    "    # Kategorienbeschriftungen rotieren und abstand vergrößern\n",
    "    ax.set_xticks(range(len(kategorien)))  \n",
    "    ax.set_xticklabels(kategorien, rotation=45, ha='right')\n",
    "\n",
    "    # Y-Achse beschriften\n",
    "    ax.set_ylabel(\"Anzahl betroffener Personen\")\n",
    "\n",
    "    # y-Achsenbereich festlegen und Rahmen anzeigen\n",
    "    ax.set_ylim(0, epidemie_impfung.n_population)\n",
    "    ax.set_frame_on(True)\n",
    "\n",
    "    plt.tight_layout()\n",
    "    plt.show()\n",
    "\n",
    "# Interaktionsfunktion mit einem Slider, der es erlaubt, die Woche einzustellen\n",
    "@interact\n",
    "def interactive_plot(wochen=slider(0, 433, 1, default=0)):\n",
    "    animate_population_impfung(wochen)\n",
    "\n"
   ]
  },
  {
   "cell_type": "markdown",
   "id": "33ce0bf6",
   "metadata": {},
   "source": [
    "## Offizielles Ende (<0.1%)"
   ]
  },
  {
   "cell_type": "code",
   "execution_count": 12,
   "id": "fa1ef7f4",
   "metadata": {},
   "outputs": [
    {
     "name": "stdout",
     "output_type": "stream",
     "text": [
      "Die Epidemie ist nach 106 Wochen überstanden\n"
     ]
    }
   ],
   "source": [
    "print(f\"Die Epidemie ist nach {epidemie_impfung.epidemie_ueberstanden_impfung()} Wochen überstanden\")"
   ]
  },
  {
   "cell_type": "markdown",
   "id": "d779c69a",
   "metadata": {},
   "source": [
    "## Biologisches Ende"
   ]
  },
  {
   "cell_type": "code",
   "execution_count": 13,
   "id": "398ba7f9",
   "metadata": {},
   "outputs": [
    {
     "name": "stdout",
     "output_type": "stream",
     "text": [
      "Es sterben insgesamt 1677 Individuen nach 433 Wochen.\n"
     ]
    }
   ],
   "source": [
    "print(f\"Es sterben insgesamt {epidemie_impfung.epidemie_tode_impfung()[0]} Individuen nach {epidemie_impfung.epidemie_tode_impfung()[1]} Wochen.\")"
   ]
  },
  {
   "cell_type": "markdown",
   "id": "be10b49a",
   "metadata": {},
   "source": [
    "## Gesamtkosten"
   ]
  },
  {
   "cell_type": "code",
   "execution_count": 14,
   "id": "f81a8f4e",
   "metadata": {},
   "outputs": [
    {
     "name": "stdout",
     "output_type": "stream",
     "text": [
      "Die Gesamtkosten der Epidemie mit Einsatz einer Impfung betragen 4881438.91 Space Coins.\n",
      "Die Impfung alleine kostet für die Epidemie 203835.53 Space Coins. \n"
     ]
    }
   ],
   "source": [
    "print(f\"Die Gesamtkosten der Epidemie mit Einsatz einer Impfung betragen {round(epidemie_impfung.kosten_kranker_impfung()[0],2)} Space Coins.\")\n",
    "print(f\"Die Impfung alleine kostet für die Epidemie {round(epidemie_impfung.kosten_kranker_impfung()[1],2)} Space Coins. \" )"
   ]
  },
  {
   "cell_type": "markdown",
   "id": "4046d5fb",
   "metadata": {},
   "source": [
    "## Auswertungstabelle \"Ohne Impfung vs Mit Impfung\""
   ]
  },
  {
   "cell_type": "markdown",
   "id": "cd7bf9a4",
   "metadata": {},
   "source": [
    "|                           | Ohne Impfung  |  Mit Impfung           |\n",
    "|-----------------------|---------------|------------------------|\n",
    "| offizielle Epidemie Dauer (<0.1%) | 58 Wochen| 106 Wochen                    |\n",
    "| biologische Epidemie Dauer | 118 Wochen            | 433 Wochen                   |\n",
    "| Anzahl Tode               | 2189            | 1677|\n",
    "| Gesamtkosten              | 5500270.78          | 4881438.91                      | \n"
   ]
  },
  {
   "cell_type": "markdown",
   "id": "da29e13c",
   "metadata": {},
   "source": [
    "## Auswertung\n",
    "\n",
    "### Epidemie Dauer:\n",
    "\n",
    "- Die offizielle Epidemie Dauer, definiert als die Zeit, in der die Anzahl der kranken und schwer kranken Individuen über 0,1% der Population liegt, verlängert sich durch die Impfung von 58 Wochen auf 106 Wochen. Durch die Impfung erkranken Menschen seltener, was dazu führt, dass weniger Menschen durch eine Erkrankung immun werden.\n",
    "- Die biologische Epidemie Dauer, die Zeit bis alle Individuen entweder tot oder immun sind, verlängert sich drastisch von 118 Wochen ohne Impfung auf 433 Wochen mit Impfung.\n",
    "\n",
    "### Anzahl Tode:\n",
    "\n",
    "- Die Anzahl der Todesfälle sinkt deutlich durch den Einsatz der Impfung. Ohne Impfung sterben 2189 Menschen, während mit Impfung die Anzahl der Todesfälle auf 1677 reduziert wird. Dies zeigt, dass die Impfung effektiv dazu beiträgt, Leben zu retten, auch wenn die Epidemie länger dauert.\n",
    "\n",
    "### Gesamtkosten:\n",
    "\n",
    "- Trotz der verlängerten Dauer der Epidemie sind die Gesamtkosten mit Impfung geringer. Ohne Impfung betragen die Kosten 5.500.270,78 Coins, während sie mit Impfung auf 4881438,91 Coins sinken. Die Impfung führt zu einer Reduktion der Behandlungskosten für kranke und schwer kranke Individuen, was die zusätzlichen Impfkosten mehr als ausgleicht.\n",
    "\n",
    "## Fazit:\n",
    "\n",
    "- Die Impfung verlängert zwar die Dauer der Epidemie erheblich, führt jedoch zu einer signifikanten Reduktion der Todesfälle und der Gesamtkosten. Diese Ergebnisse unterstreichen die Bedeutung der Impfung als wirksame Maßnahme im Kampf gegen Epidemien. Die verlängerte Epidemiedauer ist ein akzeptabler Kompromiss angesichts der erheblichen Vorteile in Bezug auf gerettete Leben und gesenkte Kosten."
   ]
  },
  {
   "cell_type": "markdown",
   "id": "ec79d068",
   "metadata": {},
   "source": [
    "# Unit Testing\n",
    "### Test 1: Population Anzahl soll immer 50.000 betragen\n",
    "- **Ziel**: Rundungsfehler vermeiden\n",
    "- **Zum Testen**: Wochenanzahl anpassen\n"
   ]
  },
  {
   "cell_type": "code",
   "execution_count": 15,
   "id": "bf300863",
   "metadata": {},
   "outputs": [
    {
     "name": "stdout",
     "output_type": "stream",
     "text": [
      "Iteration 0\n",
      "Eintrag 0 Status Vektor: 250.56\n",
      "Aufsummiert: 250.56\n",
      "-------------\n",
      "Iteration 1\n",
      "Eintrag 1 Status Vektor: 31.57\n",
      "Aufsummiert: 282.13\n",
      "-------------\n",
      "Iteration 2\n",
      "Eintrag 2 Status Vektor: 67.55\n",
      "Aufsummiert: 349.67\n",
      "-------------\n",
      "Iteration 3\n",
      "Eintrag 3 Status Vektor: 20.41\n",
      "Aufsummiert: 370.08\n",
      "-------------\n",
      "Iteration 4\n",
      "Eintrag 4 Status Vektor: 2169.64\n",
      "Aufsummiert: 2539.72\n",
      "-------------\n",
      "Iteration 5\n",
      "Eintrag 5 Status Vektor: 47460.28\n",
      "Aufsummiert: 50000.0\n",
      "-------------\n",
      "Summe: 50000.0000000000\n",
      "Test: True\n"
     ]
    }
   ],
   "source": [
    "epidemie_test = Krankheit_verlauf_2115()\n",
    "summe = 0\n",
    "woche = 52\n",
    "for i in range(6):\n",
    "    summe += epidemie_test.simulation(woche)[i]\n",
    "    print(f\"Iteration {i}\")\n",
    "    print(f\"Eintrag {i} Status Vektor: {round(epidemie_test.simulation(woche)[i],2)}\" )\n",
    "    print(f\"Aufsummiert: {round(summe,2)}\")\n",
    "    print(\"-------------\")\n",
    "    \n",
    "print(f\"Summe: {summe}\")\n",
    "print(f\"Test: {round(summe,5) == 50000}\")\n",
    "    "
   ]
  },
  {
   "cell_type": "code",
   "execution_count": 16,
   "id": "9db7355b",
   "metadata": {},
   "outputs": [
    {
     "name": "stdout",
     "output_type": "stream",
     "text": [
      "Iteration 0\n",
      "Eintrag 0 Status Vektor: 21.46\n",
      "Aufsummiert: 21.46\n",
      "-------------\n",
      "Iteration 1\n",
      "Eintrag 1 Status Vektor: 2.71\n",
      "Aufsummiert: 24.18\n",
      "-------------\n",
      "Iteration 2\n",
      "Eintrag 2 Status Vektor: 6.37\n",
      "Aufsummiert: 30.55\n",
      "-------------\n",
      "Iteration 3\n",
      "Eintrag 3 Status Vektor: 2.04\n",
      "Aufsummiert: 32.59\n",
      "-------------\n",
      "Iteration 4\n",
      "Eintrag 4 Status Vektor: 1635.21\n",
      "Aufsummiert: 1667.79\n",
      "-------------\n",
      "Iteration 5\n",
      "Eintrag 5 Status Vektor: 43357.46\n",
      "Aufsummiert: 45025.25\n",
      "-------------\n",
      "Iteration 6\n",
      "Eintrag 6 Status Vektor: 4562.19\n",
      "Aufsummiert: 49587.44\n",
      "-------------\n",
      "Iteration 7\n",
      "Eintrag 7 Status Vektor: 247.17\n",
      "Aufsummiert: 49834.61\n",
      "-------------\n",
      "Iteration 8\n",
      "Eintrag 8 Status Vektor: 145.47\n",
      "Aufsummiert: 49980.08\n",
      "-------------\n",
      "Iteration 9\n",
      "Eintrag 9 Status Vektor: 19.92\n",
      "Aufsummiert: 50000.0\n",
      "-------------\n",
      "Summe: 50000.0000000000\n",
      "Test: True\n"
     ]
    }
   ],
   "source": [
    "epidemie_impfung_test = Krankheit_verlauf_mit_Impfung()\n",
    "summe = 0\n",
    "woche = 52\n",
    "for i in range(10):\n",
    "    summe += epidemie_impfung_test.simulation(woche)[i]\n",
    "    print(f\"Iteration {i}\")\n",
    "    print(f\"Eintrag {i} Status Vektor: {round(epidemie_impfung_test.simulation(woche)[i],2)}\" )\n",
    "    print(f\"Aufsummiert: {round(summe,2)}\")\n",
    "    print(\"-------------\")\n",
    "    \n",
    "print(f\"Summe: {summe}\")\n",
    "print(f\"Test: {round(summe,5) == 50000}\")"
   ]
  },
  {
   "cell_type": "markdown",
   "id": "72101a62",
   "metadata": {},
   "source": [
    "# Anhang"
   ]
  },
  {
   "cell_type": "code",
   "execution_count": 17,
   "id": "ac58df3e",
   "metadata": {},
   "outputs": [
    {
     "name": "stdout",
     "output_type": "stream",
     "text": [
      "\u001b[1mQuellen\u001b[0m \n",
      "\n",
      "[1] \"Übergangsmatrix,\" Wikipedia, [Year not found]. [Online]. Available: https://de.wikipedia.org/w/index.php?title=%C3%9Cbergangsmatrix&oldid=243066595.\n",
      "\n",
      "[2] Bundesministerium Gesundheit, Das offizielle Dashboard zur Impfkampagne der Bundesrepublik Deutschland, [Year not found].\n",
      "\n",
      "[3] Matrix mal Vektor • Berechnung und Beispiele, Matrix mal Vektor • Berechnung und Beispiele, [Year not found].\n",
      "\n",
      "[4] 2D plotting - 2D Graphics, 2D plotting - 2D Graphics, [Year not found].\n",
      "\n",
      "[5] Thorsten Imkamp, Einstieg in stochastische Prozesse. Springer Spektrum, [Year not found].\n",
      "\n",
      "[6] Bar charts - 2D Graphics, Bar charts - 2D Graphics, [Year not found].\n",
      "\n",
      "[7] Animated plots - 2D Graphics, Animated plots - 2D Graphics, [Year not found].\n",
      "\n",
      "[8] Zentralinstitut Bundesrepublik Deutschland, Modellierung von Impfszenarien, [Year not found].\n",
      "\n",
      "[9] Bayerischer Heike Westram, Pocken, Grippe, Cholera, HIV: Wann endet eine Pandemie?, [Year not found].\n",
      "\n"
     ]
    }
   ],
   "source": [
    "from pybtex.database import parse_file\n",
    "import re\n",
    "\n",
    "from pybtex.database import parse_file\n",
    "import re\n",
    "\n",
    "bibfile = \"Projekt2.bib\"\n",
    "\n",
    "def clean_latex_formatting(text):\n",
    "    text = re.sub(r\"(\\{|\\})\", \"\", text)\n",
    "    return text\n",
    "\n",
    "def format_ieee(entry, entry_number):\n",
    "    # Title bereinigen\n",
    "    title = clean_latex_formatting(entry.fields.get('title', '[Title not found]'))\n",
    "    \n",
    "    # Autorenliste erstellen, falls vorhanden\n",
    "    authors = entry.persons.get('author', None)\n",
    "    if authors:\n",
    "        authors = ' and '.join(' '.join(p.first_names + p.last_names) for p in authors)\n",
    "    else:\n",
    "        authors = title  # Use title if author is not available\n",
    "    \n",
    "    year = entry.fields.get('year', '[Year not found]')\n",
    "    url = entry.fields.get('url', '')\n",
    "\n",
    "    # Formatieren basierend auf dem Eintragstyp\n",
    "    if 'booktitle' in entry.fields:  # for conference papers\n",
    "        booktitle = clean_latex_formatting(entry.fields.get('booktitle'))\n",
    "        citation = f\"[{entry_number}] {authors}, \\\"{title},\\\" in {booktitle}, {year}.\"\n",
    "    if 'wikipedia.org' in url:\n",
    "        # Formatting Wikipedia-specific reference\n",
    "        citation = f\"[{entry_number}] \\\"{title},\\\" Wikipedia, {year}. [Online]. Available: {url}.\"\n",
    "    elif 'journal' in entry.fields:  # for journal articles\n",
    "        journal = clean_latex_formatting(entry.fields.get('journal'))\n",
    "        volume = entry.fields.get('volume', '[Volume not found]')\n",
    "        number = entry.fields.get('number', '[Issue not found]')\n",
    "        pages = entry.fields.get('pages', '[Pages not found]')\n",
    "        citation = f\"[{entry_number}] {authors}, \\\"{title},\\\" {journal}, vol. {volume}, no. {number}, pp. {pages}, {year}.\"\n",
    "    elif entry.type == 'book':  # for books\n",
    "        publisher = clean_latex_formatting(entry.fields.get('publisher', '[Publisher not found]'))\n",
    "        citation = f\"[{entry_number}] {authors}, {title}. {publisher}, {year}.\"\n",
    "    else:  # for other types\n",
    "        citation = f\"[{entry_number}] {authors}, {title}, {year}.\"\n",
    "\n",
    "    return citation\n",
    "\n",
    "# BibTeX-Datei lesen\n",
    "bib_data = parse_file(bibfile)\n",
    "\n",
    "# Alle Einträge im IEEE-Stil konvertieren\n",
    "ieee_references = [format_ieee(entry, i+1) for i, (key, entry) in enumerate(bib_data.entries.items())]\n",
    "\n",
    "# Alle IEEE-Stil Zitate ausgeben\n",
    "print(\"\\033[1mQuellen\\033[0m \")\n",
    "print('')\n",
    "for ref in ieee_references:\n",
    "    print(ref)\n",
    "    print('')"
   ]
  }
 ],
 "metadata": {
  "kernelspec": {
   "display_name": "SageMath 10.2",
   "language": "sage",
   "name": "sagemath"
  },
  "language_info": {
   "codemirror_mode": {
    "name": "ipython",
    "version": 3
   },
   "file_extension": ".py",
   "mimetype": "text/x-python",
   "name": "python",
   "nbconvert_exporter": "python",
   "pygments_lexer": "ipython3",
   "version": "3.11.1"
  }
 },
 "nbformat": 4,
 "nbformat_minor": 5
}
